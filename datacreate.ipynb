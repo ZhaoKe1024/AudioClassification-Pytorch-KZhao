{
 "cells": [
  {
   "cell_type": "code",
   "execution_count": null,
   "id": "e4e3ff65-6866-4aa5-a19b-50d4062e19d8",
   "metadata": {},
   "outputs": [],
   "source": [
    "# Covid19 Sound"
   ]
  },
  {
   "cell_type": "code",
   "execution_count": 3,
   "id": "d412cef0-f8d4-453b-b1dd-c926ffbb28a0",
   "metadata": {},
   "outputs": [
    {
     "data": {
      "text/plain": [
       "(2733, 3)"
      ]
     },
     "execution_count": 3,
     "metadata": {},
     "output_type": "execute_result"
    }
   ],
   "source": [
    "import pandas as pd\n",
    "df = pd.read_pickle(\"F:/DATAS/covid-19-main/dataset-main/covid19_split_balancevalid_df.pkl\")\n",
    "df.shape"
   ]
  },
  {
   "cell_type": "code",
   "execution_count": null,
   "id": "55423f21-e4d5-4a58-9d5a-85533b22eb1a",
   "metadata": {},
   "outputs": [],
   "source": [
    "print(df.groupby(\"label\")[\"melspectrogram\"].count())\n",
    "for i in range(11):\n",
    "    df_valid = df.where(df[\"fold\"]==i)\n",
    "    print(df_valid.groupby(\"label\")[\"melspectrogram\"].count())"
   ]
  },
  {
   "cell_type": "code",
   "execution_count": null,
   "id": "254816db-17fc-4567-b294-ec16b4bd381c",
   "metadata": {},
   "outputs": [],
   "source": [
    "# Coughvid Sound"
   ]
  },
  {
   "cell_type": "code",
   "execution_count": 1,
   "id": "fd8f0b58-284a-4969-98c9-07dc3ee13bf1",
   "metadata": {},
   "outputs": [
    {
     "name": "stdout",
     "output_type": "stream",
     "text": [
      "(2850, 3)\n",
      "                                         melspectrogram  label  fold\n",
      "0     [[-80.0, -80.0, -80.0, -80.0, -80.0, -80.0, -8...      0     3\n",
      "1     [[-80.0, -80.0, -80.0, -80.0, -80.0, -80.0, -8...      0     4\n",
      "2     [[-80.0, -80.0, -80.0, -80.0, -80.0, -80.0, -8...      0     6\n",
      "3     [[-80.0, -80.0, -80.0, -80.0, -80.0, -80.0, -8...      0     2\n",
      "4     [[-80.0, -80.0, -80.0, -80.0, -80.0, -80.0, -8...      0     5\n",
      "...                                                 ...    ...   ...\n",
      "2845  [[-80.0, -80.0, -80.0, -80.0, -80.0, -80.0, -8...      0     6\n",
      "2846  [[-80.0, -80.0, -80.0, -80.0, -80.0, -80.0, -8...      0     6\n",
      "2847  [[-80.0, -80.0, -80.0, -80.0, -80.0, -80.0, -8...      0     7\n",
      "2848  [[-80.0, -80.0, -80.0, -80.0, -80.0, -80.0, -8...      0     2\n",
      "2849  [[-80.0, -80.0, -80.0, -80.0, -80.0, -80.0, -8...      0     1\n",
      "\n",
      "[2850 rows x 3 columns]\n",
      "label\n",
      "0    2076\n",
      "1     774\n",
      "Name: melspectrogram, dtype: int64\n"
     ]
    }
   ],
   "source": [
    "import pandas as pd\n",
    "df = pd.read_pickle(\"F:/DATAS/COUGHVID-public_dataset_v3/coughvid_fine_df.pkl\")\n",
    "print(df.shape)\n",
    "print(df)\n",
    "print(df.groupby(\"label\")[\"melspectrogram\"].count())"
   ]
  },
  {
   "cell_type": "code",
   "execution_count": 4,
   "id": "d5ef7e64-fecf-47ab-8262-c53ab7bda88e",
   "metadata": {},
   "outputs": [
    {
     "name": "stdout",
     "output_type": "stream",
     "text": [
      "(128, 128)\n",
      "(128, 128)\n",
      "(128, 128)\n",
      "(128, 128)\n"
     ]
    }
   ],
   "source": [
    "for i, row in enumerate(df.iterrows()):\n",
    "    # df_valid = df.where(df[\"fold\"]==i)\n",
    "    # print(df_valid.groupby(\"label\")[\"melspectrogram\"].count())\n",
    "    print(row[1][0].shape)\n",
    "    if i > 2:\n",
    "        break\n",
    "        "
   ]
  },
  {
   "cell_type": "code",
   "execution_count": null,
   "id": "970dd527-c02a-40cd-ae2e-1f44d91646dc",
   "metadata": {},
   "outputs": [],
   "source": [
    "import os\n",
    "import random\n",
    "import librosa\n",
    "import numpy as np\n",
    "import pandas as pd\n",
    "\n",
    "from tqdm import tqdm"
   ]
  },
  {
   "cell_type": "code",
   "execution_count": null,
   "id": "a560f7a1-d2d4-45f0-aed4-3285e9aee1b7",
   "metadata": {},
   "outputs": [],
   "source": [
    "HOP_LENGTH = 512        # number of samples between successive frames\n",
    "WINDOW_LENGTH = 512     # length of the window in samples\n",
    "N_MEL = 128             # number of Mel bands to generate\n",
    "\n",
    "\n",
    "def compute_melspectrogram_with_fixed_length(audio, sampling_rate, num_of_samples=128):\n",
    "    try:\n",
    "        # compute a mel-scaled spectrogram\n",
    "        melspectrogram = librosa.feature.melspectrogram(y=audio, \n",
    "                                                        sr=sampling_rate, \n",
    "                                                        hop_length=HOP_LENGTH,\n",
    "                                                        win_length=WINDOW_LENGTH, \n",
    "                                                        n_mels=N_MEL)\n",
    "\n",
    "        # convert a power spectrogram to decibel units (log-mel spectrogram)\n",
    "        melspectrogram_db = librosa.power_to_db(melspectrogram, ref=np.max)\n",
    "        \n",
    "        melspectrogram_length = melspectrogram_db.shape[1]\n",
    "        \n",
    "        # pad or fix the length of spectrogram \n",
    "        if melspectrogram_length != num_of_samples:\n",
    "            melspectrogram_db = librosa.util.fix_length(melspectrogram_db, \n",
    "                                                        size=num_of_samples, \n",
    "                                                        axis=1, \n",
    "                                                        constant_values=(0, -80.0))\n",
    "    except Exception as e:\n",
    "        print(\"\\nError encountered while parsing files\\n>>\", e)\n",
    "        return None \n",
    "    \n",
    "    return melspectrogram_db"
   ]
  },
  {
   "cell_type": "markdown",
   "id": "35b4851c-b523-43d1-9cf0-4af4ce255c9a",
   "metadata": {},
   "source": [
    "# DCASE2024"
   ]
  },
  {
   "cell_type": "code",
   "execution_count": null,
   "id": "a0ebf346-fb08-434b-8b93-c62b489c50e8",
   "metadata": {},
   "outputs": [],
   "source": [
    "root_path = \"F:/DATAS/DCASE2024Task2ASD/\"\n",
    "mts = [\"bearing\", \"fan\", \"gearbox\", \"slider\", \"ToyCar\", \"ToyTrain\", \"valve\"]\n",
    "l2m = {0:\"bearing\", 1:\"fan\", 2:\"gearbox\", 3:\"slider\", 4:\"ToyCar\", 5:\"ToyTrain\", 6:\"valve\"}\n",
    "m2l = {\"bearing\":0, \"fan\":1, \"gearbox\":2, \"slider\":3, \"ToyCar\":4, \"ToyTrain\":5, \"valve\":6}\n",
    "subpath = [root_path+f\"dev_{mt}/{mt}/train/\" for mt in mts]\n",
    "with open(\"./dcase2024cls.csv\", 'w') as fout:\n",
    "    fout.write(\",slice_file_name,fold,classID\\n\")\n",
    "    idx = 0\n",
    "    for j,filepath in enumerate(subpath):\n",
    "        for item in os.listdir(filepath):\n",
    "            fout.write(f\"{idx},{item},{np.random.randint(1, 11)},{j}\\n\")\n",
    "            idx+=1\n",
    "print(\"end\")"
   ]
  },
  {
   "cell_type": "code",
   "execution_count": null,
   "id": "fbfebe1b-e60c-4963-812d-d7a18d0e0cdc",
   "metadata": {},
   "outputs": [],
   "source": [
    "# load the csv metadata file into a Pandas DataFrame structure\n",
    "DCASE2024_METADATA_PATH = \"./dcase2024cls.csv\"\n",
    "dcase2024_metadata_df = pd.read_csv(DCASE2024_METADATA_PATH,\n",
    "                               usecols=[\"slice_file_name\", \"fold\", \"classID\"],\n",
    "                               dtype={\"fold\": \"str\", \"classID\" : \"uint8\"})\n",
    "\n",
    "dcase2024_metadata_df"
   ]
  },
  {
   "cell_type": "markdown",
   "id": "db5586e7-c950-4474-9ed2-c6fa79d63fa4",
   "metadata": {},
   "source": [
    "# COUGHVID 切分为多段然后截断到\n",
    "- duration：1.5s\n",
    "- length：32306\n",
    "- sample rate：22050"
   ]
  },
  {
   "cell_type": "code",
   "execution_count": null,
   "id": "9c2ebff8-eebe-4fa7-9c05-346111432e78",
   "metadata": {},
   "outputs": [],
   "source": [
    "metadata_path = \"C:/Program Files (zk)/PythonFiles/AClassification/SoundDL-CoughVID/datasets/waveinfo_fewtoml_split.csv\"\n",
    "metadata = pd.read_csv(metadata_path, delimiter=',', header=0, index_col=0)\n",
    "metadata"
   ]
  },
  {
   "cell_type": "code",
   "execution_count": null,
   "id": "6540ca96-761d-4db7-b15f-e96a987892de",
   "metadata": {},
   "outputs": [],
   "source": [
    "metadata = metadata.iloc[:, [0, 1]]\n",
    "m2l = {\"healthy\":0, \"COVID-19\":1}\n",
    "metadata[\"status\"] = metadata[\"status\"].apply(lambda x: m2l[x])\n",
    "print(metadata.head(10))\n",
    "# datadf1.where(datadf1[\"cough_detected\"]>0.65).where(datadf1[\"duration\"] < 13).where(datadf1[\"duration\"] > 0.86).dropna(axis=0)\n",
    "print(metadata.groupby(\"status\")[\"uuid\"].count())\n",
    "# metadata"
   ]
  },
  {
   "cell_type": "code",
   "execution_count": null,
   "id": "e53bbb68-f538-4297-adba-a82910e6bb8c",
   "metadata": {},
   "outputs": [],
   "source": [
    "root_path = \"F:/DATAS/COUGHVID-public_dataset_v3/coughvid_20211012_fine/\"\n",
    "y, sr = librosa.load(root_path+\"sound0013_727349f2-4730-45f6-99fe-8cf1ae1f2004.wav\")\n",
    "print(y.shape, sr)\n",
    "print(len(y)/sr)"
   ]
  },
  {
   "cell_type": "code",
   "execution_count": null,
   "id": "83092193-3e01-4efd-bcff-ce45c34b982e",
   "metadata": {},
   "outputs": [],
   "source": [
    "foldcol = []\n",
    "N = len(metadata)\n",
    "fold_per = N // 10\n",
    "for i in range(1, 10):\n",
    "    foldcol.extend([i]*fold_per)\n",
    "foldcol.extend([10]*(N-len(foldcol)))\n",
    "\n",
    "random.shuffle(foldcol)\n",
    "metadata[\"fold\"] = foldcol\n",
    "metadata.reset_index(drop=True)\n",
    "metadata"
   ]
  },
  {
   "cell_type": "code",
   "execution_count": null,
   "id": "d76edd31-e25a-44c6-896a-b9dfb441a40d",
   "metadata": {},
   "outputs": [],
   "source": [
    "metadata.groupby(\"status\")[\"uuid\"].count()"
   ]
  },
  {
   "cell_type": "code",
   "execution_count": null,
   "id": "cbbd3bfd-f34d-45a9-80ef-9646a7f58a39",
   "metadata": {},
   "outputs": [],
   "source": [
    "# SOUND_DURATION = 2.95   # fixed duration of an audio excerpt in seconds\n",
    "features = []\n",
    "sample_rate = 22050\n",
    "# iterate through all dataset examples and compute log-mel spectrograms\n",
    "for index, row in tqdm(metadata.iterrows(), total=len(metadata)):\n",
    "    file_path = root_path + row[\"uuid\"] + \".wav\"\n",
    "    sample_rate = 22050\n",
    "    \n",
    "    audioseg, _ = librosa.load(file_path)\n",
    "    \n",
    "    # audio, sample_rate = librosa.load(file_path, duration=SOUND_DURATION, res_type='kaiser_fast')\n",
    "    melspectrogram = compute_melspectrogram_with_fixed_length(audioseg, sample_rate)\n",
    "    print(melspectrogram.shape)\n",
    "    label = row[\"status\"]\n",
    "    fold = row[\"fold\"]\n",
    "    \n",
    "    features.append([melspectrogram, label, fold])\n"
   ]
  },
  {
   "cell_type": "code",
   "execution_count": null,
   "id": "6d72d051-001b-4fee-9314-ea6334c2c8d5",
   "metadata": {},
   "outputs": [],
   "source": [
    "# convert into a Pandas DataFrame \n",
    "us8k_df = pd.DataFrame(features, columns=[\"melspectrogram\", \"label\", \"fold\"])\n",
    "us8k_df.to_pickle(root_path+\"coughvid_fine_df.pkl\")"
   ]
  },
  {
   "cell_type": "code",
   "execution_count": null,
   "id": "4dbdee22-0b08-4826-a6a3-d045a6175d64",
   "metadata": {},
   "outputs": [],
   "source": [
    "import pandas as pd\n",
    "data_df = pd.read_pickle(\"F:/DATAS/COUGHVID-public_dataset_v3/coughvid_fine_df.pkl\")\n",
    "data_df"
   ]
  },
  {
   "cell_type": "code",
   "execution_count": null,
   "id": "8308ac70-9972-4deb-abfe-b025ccd45bb4",
   "metadata": {},
   "outputs": [],
   "source": [
    "data_df.groupby(\"label\").count()"
   ]
  },
  {
   "cell_type": "code",
   "execution_count": null,
   "id": "f30e6833-5ab7-4fdd-9739-6984a3f8f580",
   "metadata": {},
   "outputs": [],
   "source": [
    "for index, row in tqdm(data_df.iterrows(), total=len(data_df)):\n",
    "    print(row[\"melspectrogram\"].shape)\n",
    "    break"
   ]
  },
  {
   "cell_type": "markdown",
   "id": "4dfadcfc-b5f4-4547-921f-fe9408f48062",
   "metadata": {},
   "source": [
    "# COUGHVID 去除静音然后截断到48000长度"
   ]
  },
  {
   "cell_type": "markdown",
   "id": "b16504d7-5e98-4bee-a1b1-480c05f2c29f",
   "metadata": {},
   "source": [
    "duration：2.95s\n",
    "sample rate：16000"
   ]
  },
  {
   "cell_type": "code",
   "execution_count": null,
   "id": "9a003d33-ba70-46a8-8db5-29ded2636e9e",
   "metadata": {},
   "outputs": [],
   "source": [
    "metadata_path = \"C:/Program Files (zk)/PythonFiles/AClassification/SoundDL-CoughVID/datasets/waveinfo.csv\"\n",
    "metadata = pd.read_csv(metadata_path, delimiter=',', header=0, index_col=0)\n",
    "metadata = metadata.where(metadata[\"cough_detected\"]>0.65).where(metadata[\"duration\"] < 13).where(metadata[\"duration\"] > 0.86).dropna(axis=0)\n",
    "# metadata = metadata.iloc[:, [0, 2, 9, 10]]\n",
    "\n",
    "# datadf1.where(datadf1[\"cough_detected\"]>0.65).where(datadf1[\"duration\"] < 13).where(datadf1[\"duration\"] > 0.86).dropna(axis=0)\n",
    "print(metadata.groupby(\"status\")[\"filename\"].count())\n",
    "# metadata"
   ]
  },
  {
   "cell_type": "code",
   "execution_count": null,
   "id": "1b57c424-a6de-4922-959a-8b194d44709a",
   "metadata": {},
   "outputs": [],
   "source": [
    "root_path = \"C:/Program Files (zk)/PythonFiles/AClassification/SoundDL-CoughVID/datasets/\"\n",
    "df = pd.read_csv(root_path+\"waveinfo_labedfine_forcls.csv\", delimiter=',', header=0, index_col=0)\n",
    "print(df.groupby(\"status_full\")[\"filename\"].count())\n",
    "cough_metadata_df = df.iloc[:, [0, 6]]\n",
    "# df = pd.read_csv(root_path+\"waveinfo_labedfine_staaSSL.csv\", delimiter=',', header=0, index_col=0)\n",
    "# df.groupby(\"status_full\")[\"filename\"].count()\n",
    "# iterate through all dataset examples and compute log-mel spectrograms\n",
    "foldcol = []\n",
    "N = len(cough_metadata_df)\n",
    "fold_per = N // 10\n",
    "for i in range(1, 10):\n",
    "    foldcol.extend([i]*fold_per)\n",
    "foldcol.extend([10]*(N-len(foldcol)))\n",
    "\n",
    "random.shuffle(foldcol)\n",
    "cough_metadata_df[\"fold\"] = foldcol\n",
    "cough_metadata_df.reset_index(drop=True)\n",
    "cough_metadata_df = cough_metadata_df.iloc[:, [0, 2, 1]]\n",
    "cough_metadata_df.rename(columns={\"status_full\": \"classID\"}, inplace=True)\n",
    "cough_metadata_df"
   ]
  },
  {
   "cell_type": "code",
   "execution_count": null,
   "id": "0d479f6e-0935-4d46-b137-7c21db502383",
   "metadata": {},
   "outputs": [],
   "source": [
    "import sys\n",
    "sys.path.append(r'C:/Program Files (zk)/PythonFiles/AClassification/AudioClassification-Pytorch-KZhao/')\n",
    "from ackit.data_utils.audio import AudioSegment"
   ]
  },
  {
   "cell_type": "code",
   "execution_count": null,
   "id": "c18057da-9671-4481-98b0-25c94e9065c7",
   "metadata": {},
   "outputs": [],
   "source": [
    "SOUND_DURATION = 2.95   # fixed duration of an audio excerpt in seconds\n",
    "features = []\n",
    "root_path = \"F:/DATAS/COUGHVID-public_dataset_v3/\"\n",
    "\n",
    "\n",
    "# iterate through all dataset examples and compute log-mel spectrograms\n",
    "for index, row in tqdm(cough_metadata_df.iterrows(), total=len(cough_metadata_df)):\n",
    "    file_path = row[\"filename\"]\n",
    "    sample_rate = 22050\n",
    "    \n",
    "    audioseg = AudioSegment.from_file(file_path)\n",
    "    audioseg.vad()\n",
    "    audioseg.resample(target_sample_rate=sample_rate)\n",
    "    audioseg.crop(duration=2.95, mode=\"eval\")\n",
    "    \n",
    "    # audio, sample_rate = librosa.load(file_path, duration=SOUND_DURATION, res_type='kaiser_fast')\n",
    "    melspectrogram = compute_melspectrogram_with_fixed_length(audioseg.samples, sample_rate)\n",
    "    label = row[\"classID\"]\n",
    "    fold = row[\"fold\"]\n",
    "    \n",
    "    features.append([melspectrogram, label, fold])\n",
    "\n",
    "# convert into a Pandas DataFrame \n",
    "us8k_df = pd.DataFrame(features, columns=[\"melspectrogram\", \"label\", \"fold\"])\n",
    "us8k_df.to_pickle(root_path+\"coughvid_df.pkl\")"
   ]
  },
  {
   "cell_type": "code",
   "execution_count": null,
   "id": "4b92edad-425e-48f9-91d9-640c978fbc7c",
   "metadata": {},
   "outputs": [],
   "source": [
    "import pandas as pd\n",
    "data_df = pd.read_pickle(\"F:/DATAS/COUGHVID-public_dataset_v3/coughvid_df.pkl\")"
   ]
  },
  {
   "cell_type": "code",
   "execution_count": null,
   "id": "21d5e5e0-c81f-44e4-a211-1ac71928a520",
   "metadata": {},
   "outputs": [],
   "source": [
    "data_df"
   ]
  },
  {
   "cell_type": "code",
   "execution_count": null,
   "id": "1ee7cc1e-2663-4e75-8dda-400cafa57efd",
   "metadata": {},
   "outputs": [],
   "source": [
    "for i in range(1, 11):\n",
    "    print(data_df[data_df[\"fold\"]==i].groupby(\"label\")[\"fold\"].count())"
   ]
  },
  {
   "cell_type": "markdown",
   "id": "6a594cbd-94e0-4986-a2c7-95571ca82fe0",
   "metadata": {},
   "source": [
    "# DCASE2020"
   ]
  },
  {
   "cell_type": "code",
   "execution_count": null,
   "id": "5598a312-dfee-4248-a1ba-9359ee042dd9",
   "metadata": {},
   "outputs": [],
   "source": [
    "SOUND_DURATION = 2.95   # fixed duration of an audio excerpt in seconds\n",
    "\n",
    "features = []\n",
    "\n",
    "root_path = \"F:/DATAS/DCASE2024Task2ASD/\"\n",
    "\n",
    "\n",
    "# iterate through all dataset examples and compute log-mel spectrograms\n",
    "for index, row in tqdm(dcase2024_metadata_df.iterrows(), total=len(dcase2024_metadata_df)):\n",
    "    subpath = f\"/dev_{l2m[row['classID']]}/{l2m[row['classID']]}/train\"\n",
    "    file_path = f\"{root_path}\"+subpath+\"/{row[\"slice_file_name\"]}\"\n",
    "    audio, sample_rate = librosa.load(file_path, duration=SOUND_DURATION, res_type='kaiser_fast')\n",
    "    \n",
    "    melspectrogram = compute_melspectrogram_with_fixed_length(audio, sample_rate)\n",
    "    label = row[\"classID\"]\n",
    "    fold = row[\"fold\"]\n",
    "    \n",
    "    features.append([melspectrogram, label, fold])\n",
    "\n",
    "# convert into a Pandas DataFrame \n",
    "us8k_df = pd.DataFrame(features, columns=[\"melspectrogram\", \"label\", \"fold\"])\n",
    "us8k_df.to_pickle(root_path+\"us8k_df.pkl\")"
   ]
  }
 ],
 "metadata": {
  "kernelspec": {
   "display_name": "Python 3 (ipykernel)",
   "language": "python",
   "name": "python3"
  },
  "language_info": {
   "codemirror_mode": {
    "name": "ipython",
    "version": 3
   },
   "file_extension": ".py",
   "mimetype": "text/x-python",
   "name": "python",
   "nbconvert_exporter": "python",
   "pygments_lexer": "ipython3",
   "version": "3.8.5"
  }
 },
 "nbformat": 4,
 "nbformat_minor": 5
}
