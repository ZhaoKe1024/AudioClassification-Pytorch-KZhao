{
 "cells": [
  {
   "cell_type": "code",
   "execution_count": 1,
   "id": "70e26d7f-4f4c-4438-9adf-fbc39a154cd9",
   "metadata": {},
   "outputs": [],
   "source": [
    "import sys\n",
    "sys.path.append(r'C:/Program Files (zk)/PythonFiles/AClassification/AudioClassification-Pytorch-KZhao/')"
   ]
  },
  {
   "cell_type": "code",
   "execution_count": 2,
   "id": "b7055ee3-03eb-4452-92ea-5f30871607de",
   "metadata": {},
   "outputs": [],
   "source": [
    "import os\n",
    "import yaml\n",
    "import time\n",
    "import matplotlib.pyplot as plt\n",
    "from tqdm import tqdm\n",
    "import torch\n",
    "import torch.nn as nn\n",
    "import torch.optim as optim\n",
    "from torch.utils.data import DataLoader\n",
    "from ackit.data_utils.collate_fn import collate_fn\n",
    "from ackit.trainer_setting import get_model\n",
    "from ackit.utils.utils import load_ckpt\n",
    "from ackit.data_utils.coughvid_reader import CoughVID_Dataset\n",
    "from ackit.data_utils.featurizer import Wave2Mel\n",
    "from ackit.utils.plotter import calc_accuracy, plot_heatmap"
   ]
  },
  {
   "cell_type": "markdown",
   "id": "6ee4109c-ad69-4904-bb2e-366706f4579c",
   "metadata": {},
   "source": [
    "### 基本参数设置"
   ]
  },
  {
   "cell_type": "code",
   "execution_count": 3,
   "id": "bd036844-dfda-4992-ba55-29772ffaa5d2",
   "metadata": {},
   "outputs": [],
   "source": [
    "configs = {\n",
    "    \"run_save_dir\": \"../runs/tdnn_coughvid/\",\n",
    "    \"model\":{\n",
    "        \"num_class\": 3,\n",
    "        \"input_length\": 94,\n",
    "        \"wav_length\": 48000,\n",
    "        \"input_dim\": 512,\n",
    "        \"n_mels\": 80,\n",
    "        },\n",
    "    \"fit\":{\n",
    "        \"batch_size\": 64,\n",
    "        \"epochs\" : 35,\n",
    "        \"start_scheduler_epoch\": 6\n",
    "        },\n",
    "}"
   ]
  },
  {
   "cell_type": "code",
   "execution_count": 4,
   "id": "c171c87e-a6ee-4d23-ae7e-77a3055785c0",
   "metadata": {},
   "outputs": [],
   "source": [
    "# istrain: 如果是评估环节，设为False，读取测试集，并且不创建optimizer\n",
    "# isdemo: 如果只是测试一下，设为True，仅读取32条数据方便快速测试是否有bug\n",
    "istrain, isdemo = True, False\n",
    "\n",
    "configs = \"../configs/tdnn_coughvid.yaml\"\n",
    "with open(configs) as stream:\n",
    "    configs = yaml.safe_load(stream)\n",
    "device = torch.device(\"cuda\") if torch.cuda.is_available() else \"cpu\"\n",
    "num_epoch = configs[\"fit\"][\"epochs\"]\n",
    "timestr = time.strftime(\"%Y%m%d%H%M\", time.localtime())\n",
    "if istrain:\n",
    "    run_save_dir = configs[\"run_save_dir\"] + timestr + f'_tdnn/'\n",
    "if not isdemo:\n",
    "    os.makedirs(run_save_dir, exist_ok=True)\n",
    "# train_dataset = None\n",
    "train_loader = None"
   ]
  },
  {
   "cell_type": "markdown",
   "id": "0f50811e-dace-4738-8ccb-4b697ba6b895",
   "metadata": {},
   "source": [
    "## 极为耗时的一句，读取数据"
   ]
  },
  {
   "cell_type": "code",
   "execution_count": null,
   "id": "9daa518e-f62b-4ec6-bc3a-efbc5272ec89",
   "metadata": {},
   "outputs": [
    {
     "name": "stderr",
     "output_type": "stream",
     "text": [
      "Loading:   0%|                                                                               | 0/15085 [00:00<?, ?it/s]C:/Program Files (zk)/PythonFiles/AClassification/AudioClassification-Pytorch-KZhao\\ackit\\data_utils\\audio.py:117: UserWarning: PySoundFile failed. Trying audioread instead.\n",
      "  samples, sample_rate = librosa.core.load(file)  # , dtype='float32')\n",
      "C:\\Users\\zhaoke\\miniconda3\\envs\\torch-0\\lib\\site-packages\\librosa\\core\\audio.py:183: FutureWarning: librosa.core.audio.__audioread_load\n",
      "\tDeprecated as of librosa version 0.10.0.\n",
      "\tIt will be removed in librosa version 1.0.\n",
      "  y, sr_native = __audioread_load(path, offset, duration, dtype)\n",
      "Loading:   0%|                                                                     | 1/15085 [00:00<3:46:20,  1.11it/s]C:/Program Files (zk)/PythonFiles/AClassification/AudioClassification-Pytorch-KZhao\\ackit\\data_utils\\audio.py:117: UserWarning: PySoundFile failed. Trying audioread instead.\n",
      "  samples, sample_rate = librosa.core.load(file)  # , dtype='float32')\n",
      "C:\\Users\\zhaoke\\miniconda3\\envs\\torch-0\\lib\\site-packages\\librosa\\core\\audio.py:183: FutureWarning: librosa.core.audio.__audioread_load\n",
      "\tDeprecated as of librosa version 0.10.0.\n",
      "\tIt will be removed in librosa version 1.0.\n",
      "  y, sr_native = __audioread_load(path, offset, duration, dtype)\n",
      "Loading:   0%|▏                                                                     | 40/15085 [00:03<23:58, 10.46it/s]C:/Program Files (zk)/PythonFiles/AClassification/AudioClassification-Pytorch-KZhao\\ackit\\data_utils\\audio.py:117: UserWarning: PySoundFile failed. Trying audioread instead.\n",
      "  samples, sample_rate = librosa.core.load(file)  # , dtype='float32')\n",
      "C:\\Users\\zhaoke\\miniconda3\\envs\\torch-0\\lib\\site-packages\\librosa\\core\\audio.py:183: FutureWarning: librosa.core.audio.__audioread_load\n",
      "\tDeprecated as of librosa version 0.10.0.\n",
      "\tIt will be removed in librosa version 1.0.\n",
      "  y, sr_native = __audioread_load(path, offset, duration, dtype)\n",
      "Loading:  29%|███████████████████▊                                                | 4394/15085 [04:57<12:38, 14.10it/s]"
     ]
    }
   ],
   "source": [
    "train_dataset = CoughVID_Dataset(root_path=\"../datasets/waveinfo_annotation.csv\", configs=configs, isdemo=isdemo)"
   ]
  },
  {
   "cell_type": "code",
   "execution_count": null,
   "id": "31fc0528-0751-48b2-aad3-85b9c7af332a",
   "metadata": {},
   "outputs": [],
   "source": [
    "# dataloader\n",
    "train_loader = DataLoader(train_dataset, batch_size=configs[\"fit\"][\"batch_size\"], shuffle=True,collate_fn=collate_fn)\n",
    "# data_transform\n",
    "w2m = Wave2Mel(sr=16000, n_mels=80)"
   ]
  },
  {
   "cell_type": "code",
   "execution_count": null,
   "id": "2ace599d-b567-4768-9ae6-4ff87349fcf3",
   "metadata": {},
   "outputs": [],
   "source": [
    "# model loss_function optimizer scheduler\n",
    "model = get_model(\"tdnn\", self.configs, istrain=True).to(device)\n",
    "cls_loss = nn.CrossEntropyLoss().to(device)\n",
    "print(\"All model and loss are on device:\", device)\n",
    "optimizer = optim.Adam(model.parameters(), lr=1e-4)\n",
    "scheduler = torch.optim.lr_scheduler.CosineAnnealingLR(optimizer, T_max=5, eta_min=5e-5)"
   ]
  },
  {
   "cell_type": "markdown",
   "id": "f7827a4b-da40-4d93-b76b-377ea7b84746",
   "metadata": {},
   "source": [
    "# train and valid"
   ]
  },
  {
   "cell_type": "code",
   "execution_count": null,
   "id": "e9324930-e4b2-4b76-8d82-78a4290f3d40",
   "metadata": {},
   "outputs": [],
   "source": [
    "history1 = []\n",
    "for epoch_id in range(self.num_epoch):\n",
    "    # ---------------------------\n",
    "    # -----------TRAIN-----------\n",
    "    # ---------------------------\n",
    "    self.model.train()\n",
    "    for x_idx, (x_wav, y_label, _) in enumerate(tqdm(self.train_loader, desc=\"Training\")):\n",
    "        x_mel = self.w2m(x_wav).to(self.device)\n",
    "        y_label = torch.tensor(y_label, device=self.device)\n",
    "        # print(\"shape of x_mel:\", x_mel.shape)\n",
    "        self.optimizer.zero_grad()\n",
    "        y_pred = self.model(x=x_mel)\n",
    "        # recon_loss = self.recon_loss(recon_spec, x_mel)\n",
    "        pred_loss = self.cls_loss(y_pred, y_label)\n",
    "        pred_loss.backward()\n",
    "        self.optimizer.step()\n",
    "\n",
    "        if x_idx > 2:\n",
    "            history1.append(pred_loss.item())\n",
    "        if x_idx % 60 == 0:\n",
    "            print(f\"Epoch[{epoch_id}], mtid pred loss:{pred_loss.item():.4f}\")\n",
    "    if epoch_id >= self.configs[\"fit\"][\"start_scheduler_epoch\"]:\n",
    "        self.scheduler.step()\n",
    "\n",
    "    # ---------------------------\n",
    "    # -----------SAVE------------\n",
    "    # ---------------------------\n",
    "    plt.figure(0)\n",
    "    plt.plot(range(len(history1)), history1, c=\"green\", alpha=0.7)\n",
    "    plt.savefig(self.run_save_dir + f'cls_loss_iter_{epoch_id}.png')\n",
    "    plt.close()\n",
    "    # if epoch > 6 and epoch % 2 == 0:\n",
    "    os.makedirs(self.run_save_dir + f\"model_epoch_{epoch_id}/\", exist_ok=True)\n",
    "    tmp_model_path = \"{model}model_{epoch}.pth\".format(\n",
    "        model=self.run_save_dir + f\"model_epoch_{epoch_id}/\",\n",
    "        epoch=epoch_id)\n",
    "    torch.save(self.model.state_dict(), tmp_model_path)\n",
    "    # ---------------------------\n",
    "    # -----------TEST------------\n",
    "    # ---------------------------\n",
    "    self.model.eval()\n",
    "    heatmap_input = None\n",
    "    labels = None\n",
    "    for x_idx, (x_wav, y_label, _) in enumerate(tqdm(self.train_loader, desc=\"Test\")):\n",
    "        x_mel = self.w2m(x_wav).to(self.device)\n",
    "        y_label = torch.tensor(y_label, device=self.device)\n",
    "        y_pred = self.model(x=x_mel)\n",
    "        if x_idx == 0:\n",
    "            heatmap_input, labels = y_pred, y_label\n",
    "        else:\n",
    "            heatmap_input = torch.concat((heatmap_input, y_pred), dim=0)\n",
    "            labels = torch.concat((labels, y_label), dim=0)\n",
    "        if x_idx * self.configs[\"fit\"][\"batch_size\"] > 800:\n",
    "            break\n",
    "    print(\"heatmap_input shape:\", heatmap_input.shape)\n",
    "    print(\"lables shape:\", labels.shape)\n",
    "    # if epoch > 3:\n",
    "    #     self.plot_reduction(resume_path=\"\", load_epoch=epoch, reducers=[\"heatmap\"])\n",
    "    heatmap_input = heatmap_input.detach().cpu().numpy()\n",
    "    labels = labels.detach().cpu().numpy()\n",
    "    calc_accuracy(pred_matrix=heatmap_input, label_vec=labels,\n",
    "                  save_path=self.run_save_dir + f\"/accuracy_epoch_{epoch_id}.png\")\n",
    "    plot_heatmap(pred_matrix=heatmap_input, label_vec=labels,\n",
    "                 ticks=[\"bearing\", \"fan\", \"gearbox\", \"slider\", \"ToyCar\", \"ToyTrain\", \"valve\"],\n",
    "                 save_path=self.run_save_dir + f\"/heatmap_epoch_{epoch_id}.png\")\n",
    "print(\"============== END TRAINING ==============\")"
   ]
  },
  {
   "cell_type": "code",
   "execution_count": null,
   "id": "779b5c2c-e0a3-4871-986a-4f13032fd050",
   "metadata": {},
   "outputs": [],
   "source": []
  },
  {
   "cell_type": "code",
   "execution_count": null,
   "id": "aaff68f7-c534-472d-b526-1a4370107987",
   "metadata": {},
   "outputs": [],
   "source": [
    "# "
   ]
  },
  {
   "cell_type": "code",
   "execution_count": null,
   "id": "10b79a4d-0317-466a-986d-d38d35aae243",
   "metadata": {},
   "outputs": [],
   "source": []
  },
  {
   "cell_type": "code",
   "execution_count": null,
   "id": "9b4a9aa5-f0a7-4c72-a2d3-bc5f09190f48",
   "metadata": {},
   "outputs": [],
   "source": []
  },
  {
   "cell_type": "code",
   "execution_count": null,
   "id": "9eda7376-486a-4101-b7dc-a778e1ee09e6",
   "metadata": {},
   "outputs": [],
   "source": []
  },
  {
   "cell_type": "code",
   "execution_count": 8,
   "id": "74a22b97-56d2-4ae1-be7c-14adc839ebe2",
   "metadata": {},
   "outputs": [],
   "source": []
  },
  {
   "cell_type": "code",
   "execution_count": 9,
   "id": "62eef2c1-bc75-4af4-9d54-7e051a00197c",
   "metadata": {},
   "outputs": [
    {
     "name": "stderr",
     "output_type": "stream",
     "text": [
      "Loading:   0%|                                                                               | 0/15085 [00:00<?, ?it/s]C:/Program Files (zk)/PythonFiles/AClassification/AudioClassification-Pytorch-KZhao\\ackit\\data_utils\\audio.py:117: UserWarning: PySoundFile failed. Trying audioread instead.\n",
      "  samples, sample_rate = librosa.core.load(file)  # , dtype='float32')\n",
      "C:\\Users\\zhaoke\\miniconda3\\envs\\torch-0\\lib\\site-packages\\librosa\\core\\audio.py:183: FutureWarning: librosa.core.audio.__audioread_load\n",
      "\tDeprecated as of librosa version 0.10.0.\n",
      "\tIt will be removed in librosa version 1.0.\n",
      "  y, sr_native = __audioread_load(path, offset, duration, dtype)\n",
      "Loading:   0%|                                                                     | 1/15085 [00:00<2:40:38,  1.57it/s]C:/Program Files (zk)/PythonFiles/AClassification/AudioClassification-Pytorch-KZhao\\ackit\\data_utils\\audio.py:117: UserWarning: PySoundFile failed. Trying audioread instead.\n",
      "  samples, sample_rate = librosa.core.load(file)  # , dtype='float32')\n",
      "C:\\Users\\zhaoke\\miniconda3\\envs\\torch-0\\lib\\site-packages\\librosa\\core\\audio.py:183: FutureWarning: librosa.core.audio.__audioread_load\n",
      "\tDeprecated as of librosa version 0.10.0.\n",
      "\tIt will be removed in librosa version 1.0.\n",
      "  y, sr_native = __audioread_load(path, offset, duration, dtype)\n",
      "Loading:   0%|▏                                                                     | 39/15085 [00:03<18:01, 13.92it/s]C:/Program Files (zk)/PythonFiles/AClassification/AudioClassification-Pytorch-KZhao\\ackit\\data_utils\\audio.py:117: UserWarning: PySoundFile failed. Trying audioread instead.\n",
      "  samples, sample_rate = librosa.core.load(file)  # , dtype='float32')\n",
      "C:\\Users\\zhaoke\\miniconda3\\envs\\torch-0\\lib\\site-packages\\librosa\\core\\audio.py:183: FutureWarning: librosa.core.audio.__audioread_load\n",
      "\tDeprecated as of librosa version 0.10.0.\n",
      "\tIt will be removed in librosa version 1.0.\n",
      "  y, sr_native = __audioread_load(path, offset, duration, dtype)\n",
      "Loading: 100%|███████████████████████████████████████████████████████████████████| 15085/15085 [17:15<00:00, 14.56it/s]\n"
     ]
    },
    {
     "name": "stdout",
     "output_type": "stream",
     "text": [
      "All model and loss are on device: cuda\n"
     ]
    },
    {
     "name": "stderr",
     "output_type": "stream",
     "text": [
      "Training:   0%|                                                                                | 0/236 [00:00<?, ?it/s]C:\\Users\\zhaoke\\AppData\\Local\\Temp\\ipykernel_27108\\2719852831.py:44: UserWarning: To copy construct from a tensor, it is recommended to use sourceTensor.clone().detach() or sourceTensor.clone().detach().requires_grad_(True), rather than torch.tensor(sourceTensor).\n",
      "  y_label = torch.tensor(y_label, device=self.device)\n",
      "Training:   1%|▉                                                                       | 3/236 [00:02<02:58,  1.31it/s]"
     ]
    },
    {
     "name": "stdout",
     "output_type": "stream",
     "text": [
      "Epoch[0], mtid pred loss:1.1983\n"
     ]
    },
    {
     "name": "stderr",
     "output_type": "stream",
     "text": [
      "Training:  27%|██████████████████▉                                                    | 63/236 [00:05<00:08, 19.90it/s]"
     ]
    },
    {
     "name": "stdout",
     "output_type": "stream",
     "text": [
      "Epoch[0], mtid pred loss:0.9952\n"
     ]
    },
    {
     "name": "stderr",
     "output_type": "stream",
     "text": [
      "Training:  52%|████████████████████████████████████▍                                 | 123/236 [00:09<00:08, 13.83it/s]"
     ]
    },
    {
     "name": "stdout",
     "output_type": "stream",
     "text": [
      "Epoch[0], mtid pred loss:1.0963\n"
     ]
    },
    {
     "name": "stderr",
     "output_type": "stream",
     "text": [
      "Training:  78%|██████████████████████████████████████████████████████▎               | 183/236 [00:14<00:03, 15.59it/s]"
     ]
    },
    {
     "name": "stdout",
     "output_type": "stream",
     "text": [
      "Epoch[0], mtid pred loss:0.9548\n"
     ]
    },
    {
     "name": "stderr",
     "output_type": "stream",
     "text": [
      "Training: 100%|██████████████████████████████████████████████████████████████████████| 236/236 [00:18<00:00, 12.84it/s]\n",
      "Test:   0%|                                                                                    | 0/236 [00:00<?, ?it/s]C:\\Users\\zhaoke\\AppData\\Local\\Temp\\ipykernel_27108\\2719852831.py:80: UserWarning: To copy construct from a tensor, it is recommended to use sourceTensor.clone().detach() or sourceTensor.clone().detach().requires_grad_(True), rather than torch.tensor(sourceTensor).\n",
      "  y_label = torch.tensor(y_label, device=self.device)\n",
      "Test:   6%|████▏                                                                      | 13/236 [00:00<00:11, 19.48it/s]\n"
     ]
    },
    {
     "name": "stdout",
     "output_type": "stream",
     "text": [
      "heatmap_input shape: torch.Size([896, 3])\n",
      "lables shape: torch.Size([896])\n",
      "(896, 3)\n",
      "acc: 0.6071428571428571\n",
      "precision: ['0.8014', '0.3485', '0.1584']\n",
      "recall: ['0.6717', '0.4693', '0.2857']\n"
     ]
    },
    {
     "ename": "TypeError",
     "evalue": "expected str, bytes or os.PathLike object, not NoneType",
     "output_type": "error",
     "traceback": [
      "\u001b[1;31m---------------------------------------------------------------------------\u001b[0m",
      "\u001b[1;31mTypeError\u001b[0m                                 Traceback (most recent call last)",
      "Cell \u001b[1;32mIn[9], line 2\u001b[0m\n\u001b[0;32m      1\u001b[0m trainer \u001b[38;5;241m=\u001b[39m TrainerTDNN(istrain\u001b[38;5;241m=\u001b[39m\u001b[38;5;28;01mTrue\u001b[39;00m, isdemo\u001b[38;5;241m=\u001b[39m\u001b[38;5;28;01mFalse\u001b[39;00m)\n\u001b[1;32m----> 2\u001b[0m \u001b[43mtrainer\u001b[49m\u001b[38;5;241;43m.\u001b[39;49m\u001b[43mtrain\u001b[49m\u001b[43m(\u001b[49m\u001b[43m)\u001b[49m\n",
      "Cell \u001b[1;32mIn[8], line 95\u001b[0m, in \u001b[0;36mTrainerTDNN.train\u001b[1;34m(self)\u001b[0m\n\u001b[0;32m     93\u001b[0m     heatmap_input \u001b[38;5;241m=\u001b[39m heatmap_input\u001b[38;5;241m.\u001b[39mdetach()\u001b[38;5;241m.\u001b[39mcpu()\u001b[38;5;241m.\u001b[39mnumpy()\n\u001b[0;32m     94\u001b[0m     labels \u001b[38;5;241m=\u001b[39m labels\u001b[38;5;241m.\u001b[39mdetach()\u001b[38;5;241m.\u001b[39mcpu()\u001b[38;5;241m.\u001b[39mnumpy()\n\u001b[1;32m---> 95\u001b[0m     \u001b[43mcalc_accuracy\u001b[49m\u001b[43m(\u001b[49m\u001b[43mpred_matrix\u001b[49m\u001b[38;5;241;43m=\u001b[39;49m\u001b[43mheatmap_input\u001b[49m\u001b[43m,\u001b[49m\u001b[43m \u001b[49m\u001b[43mlabel_vec\u001b[49m\u001b[38;5;241;43m=\u001b[39;49m\u001b[43mlabels\u001b[49m\u001b[43m,\u001b[49m\u001b[43m \u001b[49m\u001b[43msave_path\u001b[49m\u001b[38;5;241;43m=\u001b[39;49m\u001b[38;5;28;43;01mNone\u001b[39;49;00m\u001b[43m)\u001b[49m\n\u001b[0;32m     96\u001b[0m     plot_heatmap(pred_matrix\u001b[38;5;241m=\u001b[39mheatmap_input, label_vec\u001b[38;5;241m=\u001b[39mlabels,\n\u001b[0;32m     97\u001b[0m                  ticks\u001b[38;5;241m=\u001b[39m[\u001b[38;5;124m\"\u001b[39m\u001b[38;5;124mbearing\u001b[39m\u001b[38;5;124m\"\u001b[39m, \u001b[38;5;124m\"\u001b[39m\u001b[38;5;124mfan\u001b[39m\u001b[38;5;124m\"\u001b[39m, \u001b[38;5;124m\"\u001b[39m\u001b[38;5;124mgearbox\u001b[39m\u001b[38;5;124m\"\u001b[39m, \u001b[38;5;124m\"\u001b[39m\u001b[38;5;124mslider\u001b[39m\u001b[38;5;124m\"\u001b[39m, \u001b[38;5;124m\"\u001b[39m\u001b[38;5;124mToyCar\u001b[39m\u001b[38;5;124m\"\u001b[39m, \u001b[38;5;124m\"\u001b[39m\u001b[38;5;124mToyTrain\u001b[39m\u001b[38;5;124m\"\u001b[39m, \u001b[38;5;124m\"\u001b[39m\u001b[38;5;124mvalve\u001b[39m\u001b[38;5;124m\"\u001b[39m],\n\u001b[0;32m     98\u001b[0m                  save_path\u001b[38;5;241m=\u001b[39m\u001b[38;5;28mself\u001b[39m\u001b[38;5;241m.\u001b[39mrun_save_dir \u001b[38;5;241m+\u001b[39m \u001b[38;5;124mf\u001b[39m\u001b[38;5;124m\"\u001b[39m\u001b[38;5;124m/heatmap_epoch_\u001b[39m\u001b[38;5;132;01m{\u001b[39;00mepoch_id\u001b[38;5;132;01m}\u001b[39;00m\u001b[38;5;124m.png\u001b[39m\u001b[38;5;124m\"\u001b[39m)\n\u001b[0;32m     99\u001b[0m \u001b[38;5;28mprint\u001b[39m(\u001b[38;5;124m\"\u001b[39m\u001b[38;5;124m============== END TRAINING ==============\u001b[39m\u001b[38;5;124m\"\u001b[39m)\n",
      "File \u001b[1;32mC:/Program Files (zk)/PythonFiles/AClassification/AudioClassification-Pytorch-KZhao\\ackit\\utils\\plotter.py:138\u001b[0m, in \u001b[0;36mcalc_accuracy\u001b[1;34m(pred_matrix, label_vec, save_path)\u001b[0m\n\u001b[0;32m    136\u001b[0m \u001b[38;5;28mprint\u001b[39m(\u001b[38;5;124m\"\u001b[39m\u001b[38;5;124mprecision:\u001b[39m\u001b[38;5;124m\"\u001b[39m, [\u001b[38;5;124m\"\u001b[39m\u001b[38;5;132;01m%.4f\u001b[39;00m\u001b[38;5;124m\"\u001b[39m \u001b[38;5;241m%\u001b[39m val \u001b[38;5;28;01mfor\u001b[39;00m val \u001b[38;5;129;01min\u001b[39;00m prec])\n\u001b[0;32m    137\u001b[0m \u001b[38;5;28mprint\u001b[39m(\u001b[38;5;124m\"\u001b[39m\u001b[38;5;124mrecall:\u001b[39m\u001b[38;5;124m\"\u001b[39m, [\u001b[38;5;124m\"\u001b[39m\u001b[38;5;132;01m%.4f\u001b[39;00m\u001b[38;5;124m\"\u001b[39m \u001b[38;5;241m%\u001b[39m val \u001b[38;5;28;01mfor\u001b[39;00m val \u001b[38;5;129;01min\u001b[39;00m recall])\n\u001b[1;32m--> 138\u001b[0m \u001b[38;5;28;01mwith\u001b[39;00m \u001b[38;5;28;43mopen\u001b[39;49m\u001b[43m(\u001b[49m\u001b[43msave_path\u001b[49m\u001b[43m,\u001b[49m\u001b[43m \u001b[49m\u001b[38;5;124;43m'\u001b[39;49m\u001b[38;5;124;43mw\u001b[39;49m\u001b[38;5;124;43m'\u001b[39;49m\u001b[43m)\u001b[49m \u001b[38;5;28;01mas\u001b[39;00m fout:\n\u001b[0;32m    139\u001b[0m     fout\u001b[38;5;241m.\u001b[39mwrite(\u001b[38;5;124mf\u001b[39m\u001b[38;5;124m\"\u001b[39m\u001b[38;5;124macc: \u001b[39m\u001b[38;5;132;01m{\u001b[39;00macc\u001b[38;5;132;01m}\u001b[39;00m\u001b[38;5;124m,\u001b[39m\u001b[38;5;130;01m\\n\u001b[39;00m\u001b[38;5;124m\"\u001b[39m)\n\u001b[0;32m    140\u001b[0m     fout\u001b[38;5;241m.\u001b[39mwrite(\u001b[38;5;124mf\u001b[39m\u001b[38;5;124m\"\u001b[39m\u001b[38;5;124mprecision: [\u001b[39m\u001b[38;5;132;01m{\u001b[39;00m\u001b[38;5;124m'\u001b[39m\u001b[38;5;124m,\u001b[39m\u001b[38;5;124m'\u001b[39m\u001b[38;5;241m.\u001b[39mjoin([\u001b[38;5;124m'\u001b[39m\u001b[38;5;132;01m%.4f\u001b[39;00m\u001b[38;5;124m'\u001b[39m\u001b[38;5;250m \u001b[39m\u001b[38;5;241m%\u001b[39m\u001b[38;5;250m \u001b[39mval\u001b[38;5;250m \u001b[39m\u001b[38;5;28;01mfor\u001b[39;00m\u001b[38;5;250m \u001b[39mval\u001b[38;5;250m \u001b[39m\u001b[38;5;129;01min\u001b[39;00m\u001b[38;5;250m \u001b[39mprec])\u001b[38;5;132;01m}\u001b[39;00m\u001b[38;5;124m],\u001b[39m\u001b[38;5;130;01m\\n\u001b[39;00m\u001b[38;5;124m\"\u001b[39m)\n",
      "\u001b[1;31mTypeError\u001b[0m: expected str, bytes or os.PathLike object, not NoneType"
     ]
    },
    {
     "data": {
      "image/png": "[encoded data removed]",
      "text/plain": [
       "<Figure size 640x480 with 1 Axes>"
      ]
     },
     "metadata": {},
     "output_type": "display_data"
    }
   ],
   "source": [
    "trainer = TrainerTDNN(istrain=True, isdemo=False)\n",
    "trainer.train()"
   ]
  }
 ],
 "metadata": {
  "kernelspec": {
   "display_name": "Python 3 (ipykernel)",
   "language": "python",
   "name": "python3"
  },
  "language_info": {
   "codemirror_mode": {
    "name": "ipython",
    "version": 3
   },
   "file_extension": ".py",
   "mimetype": "text/x-python",
   "name": "python",
   "nbconvert_exporter": "python",
   "pygments_lexer": "ipython3",
   "version": "3.8.5"
  }
 },
 "nbformat": 4,
 "nbformat_minor": 5
}
