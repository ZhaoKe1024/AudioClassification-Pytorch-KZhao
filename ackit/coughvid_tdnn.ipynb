{
 "cells": [
  {
   "cell_type": "code",
   "execution_count": 1,
   "id": "70e26d7f-4f4c-4438-9adf-fbc39a154cd9",
   "metadata": {},
   "outputs": [],
   "source": [
    "import sys\n",
    "sys.path.append(r'C:/Program Files (zk)/PythonFiles/AClassification/AudioClassification-Pytorch-KZhao/')"
   ]
  },
  {
   "cell_type": "code",
   "execution_count": 2,
   "id": "b7055ee3-03eb-4452-92ea-5f30871607de",
   "metadata": {},
   "outputs": [],
   "source": [
    "import os\n",
    "import yaml\n",
    "import time\n",
    "import matplotlib.pyplot as plt\n",
    "from tqdm import tqdm\n",
    "import torch\n",
    "import torch.nn as nn\n",
    "import torch.optim as optim\n",
    "from torch.utils.data import DataLoader\n",
    "from ackit.data_utils.collate_fn import collate_fn\n",
    "from ackit.trainer_setting import get_model\n",
    "from ackit.utils.utils import load_ckpt\n",
    "from ackit.data_utils.coughvid_reader import CoughVID_Lists, CoughVID_Dataset\n",
    "from ackit.data_utils.featurizer import Wave2Mel\n",
    "from ackit.utils.plotter import calc_accuracy, plot_heatmap"
   ]
  },
  {
   "cell_type": "markdown",
   "id": "6ee4109c-ad69-4904-bb2e-366706f4579c",
   "metadata": {},
   "source": [
    "### 基本参数设置"
   ]
  },
  {
   "cell_type": "code",
   "execution_count": 15,
   "id": "b4982e44-a091-44c2-bf5f-841a0743f2ad",
   "metadata": {},
   "outputs": [],
   "source": [
    "configs = {\n",
    "    \"run_save_dir\": \"../runs/tdnn_coughvid/\",\n",
    "    \"model\":{\n",
    "        \"num_class\": 3,\n",
    "        \"input_length\": 94,\n",
    "        \"wav_length\": 48000,\n",
    "        \"input_dim\": 512,\n",
    "        \"n_mels\": 80,\n",
    "        },\n",
    "    \"fit\":{\n",
    "        \"batch_size\": 64,\n",
    "        \"epochs\" : 23,\n",
    "        \"start_scheduler_epoch\": 6\n",
    "        },\n",
    "}\n",
    "\n",
    "# istrain: 如果是评估环节，设为False，读取测试集，并且不创建optimizer\n",
    "# isdemo: 如果只是测试一下，设为True，仅读取32条数据方便快速测试是否有bug\n",
    "istrain, isdemo = True, False\n",
    "\n",
    "configs = \"../configs/tdnn_coughvid.yaml\"\n",
    "with open(configs) as stream:\n",
    "    configs = yaml.safe_load(stream)\n",
    "device = torch.device(\"cuda\") if torch.cuda.is_available() else \"cpu\"\n",
    "num_epoch = configs[\"fit\"][\"epochs\"]\n",
    "timestr = time.strftime(\"%Y%m%d%H%M\", time.localtime())\n",
    "if istrain:\n",
    "    run_save_dir = configs[\"run_save_dir\"] + timestr + f'_tdnn/'\n",
    "if not isdemo:\n",
    "    os.makedirs(run_save_dir, exist_ok=True)\n",
    "train_dataset, valid_dataset = None, None\n",
    "train_loader, valid_loader = None, None"
   ]
  },
  {
   "cell_type": "code",
   "execution_count": null,
   "id": "ff0ce0fa-1b17-4fef-b9f6-7bc1adec0021",
   "metadata": {},
   "outputs": [],
   "source": [
    "trp, trl, vap, val = CoughVID_Lists(filename=\"./datasets/waveinfo_annotation.csv\", istrain=True, isdemo=False)"
   ]
  },
  {
   "cell_type": "markdown",
   "id": "0f50811e-dace-4738-8ccb-4b697ba6b895",
   "metadata": {},
   "source": [
    "## 极为耗时的一句，读取数据"
   ]
  },
  {
   "cell_type": "code",
   "execution_count": 5,
   "id": "9daa518e-f62b-4ec6-bc3a-efbc5272ec89",
   "metadata": {},
   "outputs": [
    {
     "name": "stderr",
     "output_type": "stream",
     "text": [
      "Loading:   0%|                                                                               | 0/15085 [00:00<?, ?it/s]C:/Program Files (zk)/PythonFiles/AClassification/AudioClassification-Pytorch-KZhao\\ackit\\data_utils\\audio.py:117: UserWarning: PySoundFile failed. Trying audioread instead.\n",
      "  samples, sample_rate = librosa.core.load(file)  # , dtype='float32')\n",
      "C:\\Users\\zhaoke\\miniconda3\\envs\\torch-0\\lib\\site-packages\\librosa\\core\\audio.py:183: FutureWarning: librosa.core.audio.__audioread_load\n",
      "\tDeprecated as of librosa version 0.10.0.\n",
      "\tIt will be removed in librosa version 1.0.\n",
      "  y, sr_native = __audioread_load(path, offset, duration, dtype)\n",
      "Loading:   0%|                                                                     | 1/15085 [00:00<3:46:20,  1.11it/s]C:/Program Files (zk)/PythonFiles/AClassification/AudioClassification-Pytorch-KZhao\\ackit\\data_utils\\audio.py:117: UserWarning: PySoundFile failed. Trying audioread instead.\n",
      "  samples, sample_rate = librosa.core.load(file)  # , dtype='float32')\n",
      "C:\\Users\\zhaoke\\miniconda3\\envs\\torch-0\\lib\\site-packages\\librosa\\core\\audio.py:183: FutureWarning: librosa.core.audio.__audioread_load\n",
      "\tDeprecated as of librosa version 0.10.0.\n",
      "\tIt will be removed in librosa version 1.0.\n",
      "  y, sr_native = __audioread_load(path, offset, duration, dtype)\n",
      "Loading:   0%|▏                                                                     | 40/15085 [00:03<23:58, 10.46it/s]C:/Program Files (zk)/PythonFiles/AClassification/AudioClassification-Pytorch-KZhao\\ackit\\data_utils\\audio.py:117: UserWarning: PySoundFile failed. Trying audioread instead.\n",
      "  samples, sample_rate = librosa.core.load(file)  # , dtype='float32')\n",
      "C:\\Users\\zhaoke\\miniconda3\\envs\\torch-0\\lib\\site-packages\\librosa\\core\\audio.py:183: FutureWarning: librosa.core.audio.__audioread_load\n",
      "\tDeprecated as of librosa version 0.10.0.\n",
      "\tIt will be removed in librosa version 1.0.\n",
      "  y, sr_native = __audioread_load(path, offset, duration, dtype)\n",
      "Loading: 100%|███████████████████████████████████████████████████████████████████| 15085/15085 [17:19<00:00, 14.52it/s]\n"
     ]
    }
   ],
   "source": [
    "train_dataset = CoughVID_Dataset(path_list=trp, label_list=trl)\n",
    "valid_dataset = CoughVID_Dataset(path_list=vap, label_list=val)"
   ]
  },
  {
   "cell_type": "code",
   "execution_count": 7,
   "id": "31fc0528-0751-48b2-aad3-85b9c7af332a",
   "metadata": {},
   "outputs": [],
   "source": [
    "# dataloader\n",
    "train_loader = DataLoader(train_dataset, batch_size=self.configs[\"fit\"][\"batch_size\"], shuffle=True, collate_fn=collate_fn)\n",
    "valid_loader = DataLoader(valid_dataset, batch_size=self.configs[\"fit\"][\"batch_size\"], shuffle=True, collate_fn=collate_fn)\n",
    "# data_transform\n",
    "w2m = Wave2Mel(sr=16000, n_mels=80)"
   ]
  },
  {
   "cell_type": "code",
   "execution_count": 17,
   "id": "2ace599d-b567-4768-9ae6-4ff87349fcf3",
   "metadata": {},
   "outputs": [
    {
     "name": "stdout",
     "output_type": "stream",
     "text": [
      "All model and loss are on device: cuda\n"
     ]
    }
   ],
   "source": [
    "# model loss_function optimizer scheduler\n",
    "model = get_model(\"tdnn\", configs, istrain=True).to(device)\n",
    "cls_loss = nn.CrossEntropyLoss().to(device)\n",
    "print(\"All model and loss are on device:\", device)\n",
    "optimizer = optim.Adam(model.parameters(), lr=1e-4)\n",
    "scheduler = torch.optim.lr_scheduler.CosineAnnealingLR(optimizer, T_max=5, eta_min=5e-5)"
   ]
  },
  {
   "cell_type": "markdown",
   "id": "f7827a4b-da40-4d93-b76b-377ea7b84746",
   "metadata": {},
   "source": [
    "# train and valid"
   ]
  },
  {
   "cell_type": "code",
   "execution_count": null,
   "id": "644d7c9c-d258-4025-8a35-c7f426df6f5b",
   "metadata": {},
   "outputs": [],
   "source": [
    "from ackit.utils.plotter import calc_accuracy, plot_heatmap"
   ]
  },
  {
   "cell_type": "code",
   "execution_count": 19,
   "id": "e9324930-e4b2-4b76-8d82-78a4290f3d40",
   "metadata": {},
   "outputs": [
    {
     "name": "stderr",
     "output_type": "stream",
     "text": [
      "Training:   0%|                                                                                | 0/236 [00:00<?, ?it/s]C:\\Users\\zhaoke\\AppData\\Local\\Temp\\ipykernel_27184\\3272038222.py:9: UserWarning: To copy construct from a tensor, it is recommended to use sourceTensor.clone().detach() or sourceTensor.clone().detach().requires_grad_(True), rather than torch.tensor(sourceTensor).\n",
      "  y_label = torch.tensor(y_label, device=device)\n",
      "Training:   1%|▉                                                                       | 3/236 [00:00<00:14, 15.62it/s]"
     ]
    },
    {
     "name": "stdout",
     "output_type": "stream",
     "text": [
      "Epoch[0], mtid pred loss:1.4905\n"
     ]
    },
    {
     "name": "stderr",
     "output_type": "stream",
     "text": [
      "Training:  26%|██████████████████▋                                                    | 62/236 [00:02<00:08, 21.06it/s]"
     ]
    },
    {
     "name": "stdout",
     "output_type": "stream",
     "text": [
      "Epoch[0], mtid pred loss:1.0240\n"
     ]
    },
    {
     "name": "stderr",
     "output_type": "stream",
     "text": [
      "Training:  52%|████████████████████████████████████▏                                 | 122/236 [00:06<00:06, 16.90it/s]"
     ]
    },
    {
     "name": "stdout",
     "output_type": "stream",
     "text": [
      "Epoch[0], mtid pred loss:1.0846\n"
     ]
    },
    {
     "name": "stderr",
     "output_type": "stream",
     "text": [
      "Training:  76%|█████████████████████████████████████████████████████▍                | 180/236 [00:10<00:04, 12.01it/s]"
     ]
    },
    {
     "name": "stdout",
     "output_type": "stream",
     "text": [
      "Epoch[0], mtid pred loss:0.9461\n"
     ]
    },
    {
     "name": "stderr",
     "output_type": "stream",
     "text": [
      "Training: 100%|██████████████████████████████████████████████████████████████████████| 236/236 [00:13<00:00, 17.97it/s]\n",
      "Test:   0%|                                                                                    | 0/236 [00:00<?, ?it/s]C:\\Users\\zhaoke\\AppData\\Local\\Temp\\ipykernel_27184\\3272038222.py:46: UserWarning: To copy construct from a tensor, it is recommended to use sourceTensor.clone().detach() or sourceTensor.clone().detach().requires_grad_(True), rather than torch.tensor(sourceTensor).\n",
      "  y_label = torch.tensor(y_label, device=device)\n",
      "Test:   0%|                                                                                    | 0/236 [00:00<?, ?it/s]\n"
     ]
    },
    {
     "ename": "ValueError",
     "evalue": "too many values to unpack (expected 2)",
     "output_type": "error",
     "traceback": [
      "\u001b[1;31m---------------------------------------------------------------------------\u001b[0m",
      "\u001b[1;31mValueError\u001b[0m                                Traceback (most recent call last)",
      "Cell \u001b[1;32mIn[19], line 47\u001b[0m\n\u001b[0;32m     45\u001b[0m x_mel \u001b[38;5;241m=\u001b[39m w2m(x_wav)\u001b[38;5;241m.\u001b[39mto(device)\n\u001b[0;32m     46\u001b[0m y_label \u001b[38;5;241m=\u001b[39m torch\u001b[38;5;241m.\u001b[39mtensor(y_label, device\u001b[38;5;241m=\u001b[39mdevice)\n\u001b[1;32m---> 47\u001b[0m y_pred, _ \u001b[38;5;241m=\u001b[39m model(x\u001b[38;5;241m=\u001b[39mx_mel)\n\u001b[0;32m     48\u001b[0m \u001b[38;5;28;01mif\u001b[39;00m x_idx \u001b[38;5;241m==\u001b[39m \u001b[38;5;241m0\u001b[39m:\n\u001b[0;32m     49\u001b[0m     heatmap_input, labels \u001b[38;5;241m=\u001b[39m y_pred, y_label\n",
      "\u001b[1;31mValueError\u001b[0m: too many values to unpack (expected 2)"
     ]
    }
   ],
   "source": [
    "history1 = []\n",
    "for epoch_id in range(configs[\"fit\"][\"epochs\"]):\n",
    "    # ---------------------------\n",
    "    # -----------TRAIN-----------\n",
    "    # ---------------------------\n",
    "    model.train()\n",
    "    for x_idx, (x_wav, y_label, _) in enumerate(tqdm(train_loader, desc=\"Training\")):\n",
    "        x_mel = w2m(x_wav).to(device)\n",
    "        y_label = torch.tensor(y_label, device=device)\n",
    "        # print(\"shape of x_mel:\", x_mel.shape)\n",
    "        optimizer.zero_grad()\n",
    "        y_pred, _ = model(x=x_mel)\n",
    "        # recon_loss = self.recon_loss(recon_spec, x_mel)\n",
    "        pred_loss = cls_loss(y_pred, y_label)\n",
    "        pred_loss.backward()\n",
    "        optimizer.step()\n",
    "\n",
    "        if x_idx > 2:\n",
    "            history1.append(pred_loss.item())\n",
    "        if x_idx % 60 == 0:\n",
    "            print(f\"Epoch[{epoch_id}], mtid pred loss:{pred_loss.item():.4f}\")\n",
    "    if epoch_id >= configs[\"fit\"][\"start_scheduler_epoch\"]:\n",
    "        scheduler.step()\n",
    "\n",
    "    # ---------------------------\n",
    "    # -----------SAVE------------\n",
    "    # ---------------------------\n",
    "    plt.figure(0)\n",
    "    plt.plot(range(len(history1)), history1, c=\"green\", alpha=0.7)\n",
    "    plt.savefig(run_save_dir + f'cls_loss_iter_{epoch_id}.png')\n",
    "    plt.close()\n",
    "    # if epoch > 6 and epoch % 2 == 0:\n",
    "    os.makedirs(run_save_dir + f\"model_epoch_{epoch_id}/\", exist_ok=True)\n",
    "    tmp_model_path = \"{model}model_{epoch}.pth\".format(\n",
    "        model=run_save_dir + f\"model_epoch_{epoch_id}/\",\n",
    "        epoch=epoch_id)\n",
    "    torch.save(model.state_dict(), tmp_model_path)\n",
    "    # ---------------------------\n",
    "    # -----------TEST------------\n",
    "    # ---------------------------\n",
    "    model.eval()\n",
    "    heatmap_input = None\n",
    "    labels = None\n",
    "    for x_idx, (x_wav, y_label, _) in enumerate(tqdm(train_loader, desc=\"Test\")):\n",
    "        x_mel = w2m(x_wav).to(device)\n",
    "        y_label = torch.tensor(y_label, device=device)\n",
    "        y_pred, _ = model(x=x_mel)\n",
    "        if x_idx == 0:\n",
    "            heatmap_input, labels = y_pred, y_label\n",
    "        else:\n",
    "            heatmap_input = torch.concat((heatmap_input, y_pred), dim=0)\n",
    "            labels = torch.concat((labels, y_label), dim=0)\n",
    "        if x_idx * configs[\"fit\"][\"batch_size\"] > 800:\n",
    "            break\n",
    "    print(\"heatmap_input shape:\", heatmap_input.shape)\n",
    "    print(\"lables shape:\", labels.shape)\n",
    "    # if epoch > 3:\n",
    "    #     self.plot_reduction(resume_path=\"\", load_epoch=epoch, reducers=[\"heatmap\"])\n",
    "    heatmap_input = heatmap_input.detach().cpu().numpy()\n",
    "    labels = labels.detach().cpu().numpy()\n",
    "    calc_accuracy(pred_matrix=heatmap_input, label_vec=labels,\n",
    "                  save_path=run_save_dir + f\"/accuracy_epoch_{epoch_id}.png\")\n",
    "    plot_heatmap(pred_matrix=heatmap_input, label_vec=labels,\n",
    "                 ticks=[\"healthy\", \"symptomatic\", \"COVID-19\"],\n",
    "                 save_path=run_save_dir + f\"/heatmap_epoch_{epoch_id}.png\")\n",
    "print(\"============== END TRAINING ==============\")"
   ]
  },
  {
   "cell_type": "code",
   "execution_count": 13,
   "id": "346ae4f1-89af-41e0-a5f2-b6f9bc356cf5",
   "metadata": {},
   "outputs": [
    {
     "data": {
      "text/plain": [
       "torch.Size([64, 80, 94])"
      ]
     },
     "execution_count": 13,
     "metadata": {},
     "output_type": "execute_result"
    }
   ],
   "source": [
    "model.eval()\n",
    "tsne_input = None\n",
    "heatmap_input = None\n",
    "labels = None\n",
    "for x_idx, (x_wav, y_label, _) in enumerate(tqdm(train_loader, desc=\"Test\")):\n",
    "    x_mel = w2m(x_wav).to(device)\n",
    "    y_label = torch.tensor(y_label, device=device)\n",
    "    y_pred, featmap = model(x=x_mel)\n",
    "    if x_idx == 0:\n",
    "        heatmap_input, labels, tsne_input = y_pred, y_label, featmap\n",
    "    else:\n",
    "        heatmap_input = torch.concat((heatmap_input, y_pred), dim=0)\n",
    "        labels = torch.concat((labels, y_label), dim=0)\n",
    "        tsne_input = torch.concat((tsne_input, featmap), dim=0)\n",
    "    if x_idx * configs[\"fit\"][\"batch_size\"] > 800:\n",
    "        break\n",
    "print(\"heatmap_input shape:\", heatmap_input.shape)\n",
    "print(\"lables shape:\", labels.shape)\n",
    "# plot_reduction(resume_path=\"\", load_epoch=epoch, reducers=[\"heatmap\"])\n",
    "heatmap_input = heatmap_input.detach().cpu().numpy()\n",
    "labels = labels.detach().cpu().numpy()\n",
    "tsne_input = tsne_input.detach().cpu().numpy()"
   ]
  }
 ],
 "metadata": {
  "kernelspec": {
   "display_name": "Python 3 (ipykernel)",
   "language": "python",
   "name": "python3"
  },
  "language_info": {
   "codemirror_mode": {
    "name": "ipython",
    "version": 3
   },
   "file_extension": ".py",
   "mimetype": "text/x-python",
   "name": "python",
   "nbconvert_exporter": "python",
   "pygments_lexer": "ipython3",
   "version": "3.8.5"
  }
 },
 "nbformat": 4,
 "nbformat_minor": 5
}
