{
 "cells": [
  {
   "cell_type": "code",
   "execution_count": 1,
   "id": "327c9641-8145-486d-84a6-8d476146f3e4",
   "metadata": {},
   "outputs": [],
   "source": [
    "import os\n",
    "import numpy as np\n",
    "import pandas as pd\n",
    "from tqdm import tqdm\n",
    "import librosa"
   ]
  },
  {
   "cell_type": "code",
   "execution_count": 2,
   "id": "09adbcf3-02e3-4221-ba94-820f8b7b09e4",
   "metadata": {},
   "outputs": [
    {
     "data": {
      "text/html": [
       "<div>\n",
       "<style scoped>\n",
       "    .dataframe tbody tr th:only-of-type {\n",
       "        vertical-align: middle;\n",
       "    }\n",
       "\n",
       "    .dataframe tbody tr th {\n",
       "        vertical-align: top;\n",
       "    }\n",
       "\n",
       "    .dataframe thead th {\n",
       "        text-align: right;\n",
       "    }\n",
       "</style>\n",
       "<table border=\"1\" class=\"dataframe\">\n",
       "  <thead>\n",
       "    <tr style=\"text-align: right;\">\n",
       "      <th></th>\n",
       "      <th>slice_file_name</th>\n",
       "      <th>fold</th>\n",
       "      <th>classID</th>\n",
       "    </tr>\n",
       "  </thead>\n",
       "  <tbody>\n",
       "    <tr>\n",
       "      <th>0</th>\n",
       "      <td>100032-3-0-0.wav</td>\n",
       "      <td>5</td>\n",
       "      <td>3</td>\n",
       "    </tr>\n",
       "    <tr>\n",
       "      <th>1</th>\n",
       "      <td>100263-2-0-117.wav</td>\n",
       "      <td>5</td>\n",
       "      <td>2</td>\n",
       "    </tr>\n",
       "    <tr>\n",
       "      <th>2</th>\n",
       "      <td>100263-2-0-121.wav</td>\n",
       "      <td>5</td>\n",
       "      <td>2</td>\n",
       "    </tr>\n",
       "    <tr>\n",
       "      <th>3</th>\n",
       "      <td>100263-2-0-126.wav</td>\n",
       "      <td>5</td>\n",
       "      <td>2</td>\n",
       "    </tr>\n",
       "    <tr>\n",
       "      <th>4</th>\n",
       "      <td>100263-2-0-137.wav</td>\n",
       "      <td>5</td>\n",
       "      <td>2</td>\n",
       "    </tr>\n",
       "    <tr>\n",
       "      <th>...</th>\n",
       "      <td>...</td>\n",
       "      <td>...</td>\n",
       "      <td>...</td>\n",
       "    </tr>\n",
       "    <tr>\n",
       "      <th>8727</th>\n",
       "      <td>99812-1-2-0.wav</td>\n",
       "      <td>7</td>\n",
       "      <td>1</td>\n",
       "    </tr>\n",
       "    <tr>\n",
       "      <th>8728</th>\n",
       "      <td>99812-1-3-0.wav</td>\n",
       "      <td>7</td>\n",
       "      <td>1</td>\n",
       "    </tr>\n",
       "    <tr>\n",
       "      <th>8729</th>\n",
       "      <td>99812-1-4-0.wav</td>\n",
       "      <td>7</td>\n",
       "      <td>1</td>\n",
       "    </tr>\n",
       "    <tr>\n",
       "      <th>8730</th>\n",
       "      <td>99812-1-5-0.wav</td>\n",
       "      <td>7</td>\n",
       "      <td>1</td>\n",
       "    </tr>\n",
       "    <tr>\n",
       "      <th>8731</th>\n",
       "      <td>99812-1-6-0.wav</td>\n",
       "      <td>7</td>\n",
       "      <td>1</td>\n",
       "    </tr>\n",
       "  </tbody>\n",
       "</table>\n",
       "<p>8732 rows × 3 columns</p>\n",
       "</div>"
      ],
      "text/plain": [
       "         slice_file_name  fold  classID\n",
       "0       100032-3-0-0.wav     5        3\n",
       "1     100263-2-0-117.wav     5        2\n",
       "2     100263-2-0-121.wav     5        2\n",
       "3     100263-2-0-126.wav     5        2\n",
       "4     100263-2-0-137.wav     5        2\n",
       "...                  ...   ...      ...\n",
       "8727     99812-1-2-0.wav     7        1\n",
       "8728     99812-1-3-0.wav     7        1\n",
       "8729     99812-1-4-0.wav     7        1\n",
       "8730     99812-1-5-0.wav     7        1\n",
       "8731     99812-1-6-0.wav     7        1\n",
       "\n",
       "[8732 rows x 3 columns]"
      ]
     },
     "execution_count": 2,
     "metadata": {},
     "output_type": "execute_result"
    }
   ],
   "source": [
    "# EXTRACT_DATASET = True\n",
    "# DATASET_URL = \"https://goo.gl/8hY5ER\"\n",
    "\n",
    "# # set paths to the UrbanSound8K dataset and metadata file\n",
    "# US8K_AUDIO_PATH = os.path.abspath('UrbanSound8K/audio/')\n",
    "# US8K_METADATA_PATH = os.path.abspath('UrbanSound8K/metadata/UrbanSound8K.csv')\n",
    "\n",
    "US8K_AUDIO_PATH = os.path.abspath('F:/DATAS/UrbanSound8K/UrbanSound8K/audio/')\n",
    "US8K_METADATA_PATH = os.path.abspath('F:/DATAS/UrbanSound8K/UrbanSound8K/metadata/UrbanSound8K.csv')\n",
    "\n",
    "# load the csv metadata file into a Pandas DataFrame structure\n",
    "us8k_metadata_df = pd.read_csv(US8K_METADATA_PATH,\n",
    "                               usecols=[\"slice_file_name\", \"fold\", \"classID\"],\n",
    "                               dtype={\"fold\": \"uint8\", \"classID\" : \"uint8\"})\n",
    "us8k_metadata_df"
   ]
  },
  {
   "cell_type": "code",
   "execution_count": 3,
   "id": "267c4989-9d97-4d54-8308-62ec57755da8",
   "metadata": {},
   "outputs": [],
   "source": [
    "HOP_LENGTH = 512        # number of samples between successive frames\n",
    "WINDOW_LENGTH = 512     # length of the window in samples\n",
    "N_MEL = 128             # number of Mel bands to generate\n",
    "\n",
    "def compute_melspectrogram_with_fixed_length(audio, sampling_rate, num_of_samples=128):\n",
    "    try:\n",
    "        # compute a mel-scaled spectrogram\n",
    "        melspectrogram = librosa.feature.melspectrogram(y=audio, \n",
    "                                                        sr=sampling_rate, \n",
    "                                                        hop_length=HOP_LENGTH,\n",
    "                                                        win_length=WINDOW_LENGTH, \n",
    "                                                        n_mels=N_MEL)\n",
    "\n",
    "        # convert a power spectrogram to decibel units (log-mel spectrogram)\n",
    "        melspectrogram_db = librosa.power_to_db(melspectrogram, ref=np.max)\n",
    "        \n",
    "        melspectrogram_length = melspectrogram_db.shape[1]\n",
    "        \n",
    "        # pad or fix the length of spectrogram \n",
    "        if melspectrogram_length != num_of_samples:\n",
    "            melspectrogram_db = librosa.util.fix_length(melspectrogram_db, \n",
    "                                                        size=num_of_samples, \n",
    "                                                        axis=1, \n",
    "                                                        constant_values=(0, -80.0))\n",
    "    except Exception as e:\n",
    "        print(\"\\nError encountered while parsing files\\n>>\", e)\n",
    "        return None \n",
    "    \n",
    "    return melspectrogram_db"
   ]
  },
  {
   "cell_type": "code",
   "execution_count": 4,
   "id": "d1219a8c-e95e-4efa-9d3a-b9e700183bf3",
   "metadata": {},
   "outputs": [
    {
     "name": "stderr",
     "output_type": "stream",
     "text": [
      " 41%|███████████████████████████████▋                                              | 3553/8732 [01:39<02:23, 36.07it/s]C:\\Users\\zhaoke\\miniconda3\\envs\\torch-0\\lib\\site-packages\\librosa\\core\\spectrum.py:257: UserWarning: n_fft=2048 is too large for input signal of length=1323\n",
      "  warnings.warn(\n",
      " 95%|██████████████████████████████████████████████████████████████████████████▎   | 8322/8732 [03:46<00:08, 47.93it/s]C:\\Users\\zhaoke\\miniconda3\\envs\\torch-0\\lib\\site-packages\\librosa\\core\\spectrum.py:257: UserWarning: n_fft=2048 is too large for input signal of length=1103\n",
      "  warnings.warn(\n",
      "C:\\Users\\zhaoke\\miniconda3\\envs\\torch-0\\lib\\site-packages\\librosa\\core\\spectrum.py:257: UserWarning: n_fft=2048 is too large for input signal of length=1523\n",
      "  warnings.warn(\n",
      "100%|██████████████████████████████████████████████████████████████████████████████| 8732/8732 [03:57<00:00, 36.84it/s]\n"
     ]
    }
   ],
   "source": [
    "SOUND_DURATION = 2.95   # fixed duration of an audio excerpt in seconds\n",
    "\n",
    "features = []\n",
    "\n",
    "# iterate through all dataset examples and compute log-mel spectrograms\n",
    "for index, row in tqdm(us8k_metadata_df.iterrows(), total=len(us8k_metadata_df)):\n",
    "    file_path = f'{US8K_AUDIO_PATH}/fold{row[\"fold\"]}/{row[\"slice_file_name\"]}'\n",
    "    audio, sample_rate = librosa.load(file_path, duration=SOUND_DURATION, res_type='kaiser_fast')\n",
    "    \n",
    "    melspectrogram = compute_melspectrogram_with_fixed_length(audio, sample_rate)\n",
    "    label = row[\"classID\"]\n",
    "    fold = row[\"fold\"]\n",
    "    \n",
    "    features.append([melspectrogram, label, fold])\n",
    "\n",
    "# convert into a Pandas DataFrame \n",
    "us8k_df = pd.DataFrame(features, columns=[\"melspectrogram\", \"label\", \"fold\"])"
   ]
  },
  {
   "cell_type": "code",
   "execution_count": 7,
   "id": "6e2257d9-b605-4655-b56a-1869ec5eff21",
   "metadata": {},
   "outputs": [
    {
     "name": "stderr",
     "output_type": "stream",
     "text": [
      "  0%|                                                                                         | 0/8732 [00:00<?, ?it/s]"
     ]
    },
    {
     "name": "stdout",
     "output_type": "stream",
     "text": [
      "(128, 128)\n"
     ]
    },
    {
     "name": "stderr",
     "output_type": "stream",
     "text": [
      "\n"
     ]
    }
   ],
   "source": [
    "for index, row in tqdm(us8k_df.iterrows(), total=len(us8k_metadata_df)):\n",
    "    print(row[\"melspectrogram\"].shape)\n",
    "    break"
   ]
  },
  {
   "cell_type": "code",
   "execution_count": 5,
   "id": "b5aa14b8-203f-49fc-8b17-2d9c3434e62a",
   "metadata": {},
   "outputs": [],
   "source": [
    "# write the Pandas DataFrame object to .pkl file\n",
    "WRITE_DATA = True\n",
    "\n",
    "if WRITE_DATA:\n",
    "  us8k_df.to_pickle(\"F:/DATAS/UrbanSound8K/us8k_df.pkl\")"
   ]
  }
 ],
 "metadata": {
  "kernelspec": {
   "display_name": "Python 3 (ipykernel)",
   "language": "python",
   "name": "python3"
  },
  "language_info": {
   "codemirror_mode": {
    "name": "ipython",
    "version": 3
   },
   "file_extension": ".py",
   "mimetype": "text/x-python",
   "name": "python",
   "nbconvert_exporter": "python",
   "pygments_lexer": "ipython3",
   "version": "3.8.5"
  }
 },
 "nbformat": 4,
 "nbformat_minor": 5
}
