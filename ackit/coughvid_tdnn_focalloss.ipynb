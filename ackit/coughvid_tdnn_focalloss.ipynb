{
 "cells": [
  {
   "cell_type": "code",
   "execution_count": 1,
   "id": "c7493aca-d622-42fc-ab72-bd8eaa63e44a",
   "metadata": {},
   "outputs": [],
   "source": [
    "import sys\n",
    "sys.path.append(r'C:/Program Files (zk)/PythonFiles/AClassification/AudioClassification-Pytorch-KZhao/')\n",
    "import os\n",
    "import yaml\n",
    "import time\n",
    "import matplotlib.pyplot as plt\n",
    "from tqdm import tqdm\n",
    "import torch\n",
    "import torch.nn as nn\n",
    "import torch.optim as optim\n",
    "from torch.utils.data import DataLoader\n",
    "from ackit.trainer_setting import get_model\n",
    "from ackit.modules.loss import FocalLoss\n",
    "from ackit.data_utils.collate_fn import collate_fn\n",
    "from ackit.data_utils.coughvid_reader import CoughVID_Lists, CoughVID_Dataset\n",
    "from ackit.data_utils.featurizer import Wave2Mel\n",
    "from ackit.utils.utils import load_ckpt\n",
    "from ackit.utils.plotter import calc_accuracy, plot_heatmap"
   ]
  },
  {
   "cell_type": "code",
   "execution_count": 2,
   "id": "ff0ce0fa-1b17-4fef-b9f6-7bc1adec0021",
   "metadata": {},
   "outputs": [
    {
     "name": "stdout",
     "output_type": "stream",
     "text": [
      "12068 12068\n",
      "1508 1508\n"
     ]
    }
   ],
   "source": [
    "train_dataset, valid_dataset = None, None\n",
    "train_loader, valid_loader = None, None\n",
    "trp, trl, vap, val = CoughVID_Lists(filename=\"../datasets/waveinfo_annotation.csv\", istrain=True, isdemo=False)\n",
    "print(len(trp), len(trl))\n",
    "print(len(vap), len(val))\n",
    "# print(len(tep), len(tel))"
   ]
  },
  {
   "cell_type": "markdown",
   "id": "0f50811e-dace-4738-8ccb-4b697ba6b895",
   "metadata": {},
   "source": [
    "## 极为耗时的一句，读取数据"
   ]
  },
  {
   "cell_type": "code",
   "execution_count": 3,
   "id": "9daa518e-f62b-4ec6-bc3a-efbc5272ec89",
   "metadata": {},
   "outputs": [
    {
     "name": "stderr",
     "output_type": "stream",
     "text": [
      "Loading:   0%|                                                                               | 0/12068 [00:00<?, ?it/s]C:/Program Files (zk)/PythonFiles/AClassification/AudioClassification-Pytorch-KZhao\\ackit\\data_utils\\audio.py:117: UserWarning: PySoundFile failed. Trying audioread instead.\n",
      "  samples, sample_rate = librosa.core.load(file)  # , dtype='float32')\n",
      "C:\\Users\\zhaoke\\miniconda3\\envs\\torch-0\\lib\\site-packages\\librosa\\core\\audio.py:183: FutureWarning: librosa.core.audio.__audioread_load\n",
      "\tDeprecated as of librosa version 0.10.0.\n",
      "\tIt will be removed in librosa version 1.0.\n",
      "  y, sr_native = __audioread_load(path, offset, duration, dtype)\n",
      "Loading:   0%|                                                                     | 1/12068 [00:01<3:52:55,  1.16s/it]C:/Program Files (zk)/PythonFiles/AClassification/AudioClassification-Pytorch-KZhao\\ackit\\data_utils\\audio.py:117: UserWarning: PySoundFile failed. Trying audioread instead.\n",
      "  samples, sample_rate = librosa.core.load(file)  # , dtype='float32')\n",
      "C:\\Users\\zhaoke\\miniconda3\\envs\\torch-0\\lib\\site-packages\\librosa\\core\\audio.py:183: FutureWarning: librosa.core.audio.__audioread_load\n",
      "\tDeprecated as of librosa version 0.10.0.\n",
      "\tIt will be removed in librosa version 1.0.\n",
      "  y, sr_native = __audioread_load(path, offset, duration, dtype)\n",
      "Loading:   0%|▏                                                                     | 40/12068 [00:04<20:30,  9.77it/s]C:/Program Files (zk)/PythonFiles/AClassification/AudioClassification-Pytorch-KZhao\\ackit\\data_utils\\audio.py:117: UserWarning: PySoundFile failed. Trying audioread instead.\n",
      "  samples, sample_rate = librosa.core.load(file)  # , dtype='float32')\n",
      "C:\\Users\\zhaoke\\miniconda3\\envs\\torch-0\\lib\\site-packages\\librosa\\core\\audio.py:183: FutureWarning: librosa.core.audio.__audioread_load\n",
      "\tDeprecated as of librosa version 0.10.0.\n",
      "\tIt will be removed in librosa version 1.0.\n",
      "  y, sr_native = __audioread_load(path, offset, duration, dtype)\n",
      "Loading: 100%|███████████████████████████████████████████████████████████████████| 12068/12068 [14:33<00:00, 13.82it/s]\n",
      "Loading: 100%|█████████████████████████████████████████████████████████████████████| 1508/1508 [01:50<00:00, 13.67it/s]\n"
     ]
    }
   ],
   "source": [
    "train_dataset = CoughVID_Dataset(path_list=trp, label_list=trl)\n",
    "valid_dataset = CoughVID_Dataset(path_list=vap, label_list=val)"
   ]
  },
  {
   "cell_type": "code",
   "execution_count": 7,
   "id": "31fc0528-0751-48b2-aad3-85b9c7af332a",
   "metadata": {},
   "outputs": [
    {
     "name": "stdout",
     "output_type": "stream",
     "text": [
      "Create DataLoader for train and valid.\n"
     ]
    }
   ],
   "source": [
    "# dataloader\n",
    "train_loader = DataLoader(train_dataset, batch_size=configs[\"fit\"][\"batch_size\"], shuffle=True, collate_fn=collate_fn)\n",
    "valid_loader = DataLoader(valid_dataset, batch_size=configs[\"fit\"][\"batch_size\"], shuffle=True, collate_fn=collate_fn)\n",
    "# data_transform\n",
    "w2m = Wave2Mel(sr=16000, n_mels=80)\n",
    "print(\"Create DataLoader for train and valid.\")"
   ]
  },
  {
   "cell_type": "markdown",
   "id": "6ee4109c-ad69-4904-bb2e-366706f4579c",
   "metadata": {},
   "source": [
    "### 基本参数设置"
   ]
  },
  {
   "cell_type": "code",
   "execution_count": 4,
   "id": "450da755-2a1b-4f66-b3b0-0ae87fa462a3",
   "metadata": {},
   "outputs": [],
   "source": [
    "configs = {\n",
    "    \"run_save_dir\": \"../runs/tdnn_coughvid/\",\n",
    "    \"model\":{\n",
    "        \"num_class\": 3,\n",
    "        \"input_length\": 94,\n",
    "        \"wav_length\": 48000,\n",
    "        \"input_dim\": 512,\n",
    "        \"n_mels\": 80,\n",
    "        },\n",
    "    \"fit\":{\n",
    "        \"batch_size\": 64,\n",
    "        \"epochs\" : 23,\n",
    "        \"start_scheduler_epoch\": 6\n",
    "        },\n",
    "}\n",
    "\n",
    "# istrain: 如果是评估环节，设为False，读取测试集，并且不创建optimizer\n",
    "# isdemo: 如果只是测试一下，设为True，仅读取32条数据方便快速测试是否有bug\n",
    "istrain, isdemo = True, False\n",
    "\n",
    "configs = \"../configs/tdnn_coughvid.yaml\"\n",
    "with open(configs) as stream:\n",
    "    configs = yaml.safe_load(stream)\n",
    "device = torch.device(\"cuda\") if torch.cuda.is_available() else \"cpu\"\n",
    "num_epoch = configs[\"fit\"][\"epochs\"]"
   ]
  },
  {
   "cell_type": "code",
   "execution_count": 8,
   "id": "2ace599d-b567-4768-9ae6-4ff87349fcf3",
   "metadata": {},
   "outputs": [
    {
     "name": "stdout",
     "output_type": "stream",
     "text": [
      "All model and loss are on device: cuda\n",
      "Create TDNN, Adam with lr=1e-4, CosineAnnealingLR Shceduler\n"
     ]
    }
   ],
   "source": [
    "# model loss_function optimizer scheduler\n",
    "model = get_model(\"tdnn\", configs, istrain=True).to(device)\n",
    "\n",
    "print(\"All model and loss are on device:\", device)\n",
    "optimizer = optim.Adam(model.parameters(), lr=1e-4)\n",
    "scheduler = torch.optim.lr_scheduler.CosineAnnealingLR(optimizer, T_max=5, eta_min=5e-5)\n",
    "print(\"Create TDNN, Adam with lr=1e-4, CosineAnnealingLR Shceduler\")"
   ]
  },
  {
   "cell_type": "markdown",
   "id": "10ff7cba-62af-40f8-8ce5-0da338e4d48d",
   "metadata": {},
   "source": [
    "# 损失函数设计"
   ]
  },
  {
   "cell_type": "code",
   "execution_count": 9,
   "id": "8aa0f4be-b1d0-44b4-a698-ea2cd41da663",
   "metadata": {},
   "outputs": [
    {
     "name": "stdout",
     "output_type": "stream",
     "text": [
      "Create FocalLoss...\n"
     ]
    }
   ],
   "source": [
    "cls_loss = FocalLoss(class_num=3).to(device)\n",
    "print(\"Create FocalLoss...\")"
   ]
  },
  {
   "cell_type": "code",
   "execution_count": null,
   "id": "961df5b2-5902-480f-a7ba-e7601bd9f421",
   "metadata": {},
   "outputs": [],
   "source": [
    "## 运行设置"
   ]
  },
  {
   "cell_type": "code",
   "execution_count": 6,
   "id": "e15b3f3a-659f-46f7-ac60-212b3051f02c",
   "metadata": {},
   "outputs": [
    {
     "name": "stdout",
     "output_type": "stream",
     "text": [
      "创建运行保存文件 ./runs/tdnn_coughvid/202404251415_tdnn_focalloss/\n"
     ]
    }
   ],
   "source": [
    "timestr = time.strftime(\"%Y%m%d%H%M\", time.localtime())\n",
    "if istrain:\n",
    "    run_save_dir = configs[\"run_save_dir\"] + timestr + f'_tdnn_focalloss/'\n",
    "if not isdemo:\n",
    "    os.makedirs(run_save_dir, exist_ok=True)\n",
    "    print(\"创建运行保存文件\", run_save_dir)"
   ]
  },
  {
   "cell_type": "markdown",
   "id": "f7827a4b-da40-4d93-b76b-377ea7b84746",
   "metadata": {},
   "source": [
    "# train and valid"
   ]
  },
  {
   "cell_type": "code",
   "execution_count": 10,
   "id": "e9324930-e4b2-4b76-8d82-78a4290f3d40",
   "metadata": {},
   "outputs": [
    {
     "name": "stderr",
     "output_type": "stream",
     "text": [
      "Training:   0%|                                                                                | 0/189 [00:00<?, ?it/s]C:\\Users\\zhaoke\\AppData\\Local\\Temp\\ipykernel_9460\\694024310.py:9: UserWarning: To copy construct from a tensor, it is recommended to use sourceTensor.clone().detach() or sourceTensor.clone().detach().requires_grad_(True), rather than torch.tensor(sourceTensor).\n",
      "  y_label = torch.tensor(y_label, device=device)\n",
      "Training:   2%|█▏                                                                      | 3/189 [00:03<02:44,  1.13it/s]"
     ]
    },
    {
     "name": "stdout",
     "output_type": "stream",
     "text": [
      "Epoch[0], mtid pred loss:1.3691\n"
     ]
    },
    {
     "name": "stderr",
     "output_type": "stream",
     "text": [
      "Training:  34%|████████████████████████                                               | 64/189 [00:07<00:08, 15.25it/s]"
     ]
    },
    {
     "name": "stdout",
     "output_type": "stream",
     "text": [
      "Epoch[0], mtid pred loss:0.4827\n"
     ]
    },
    {
     "name": "stderr",
     "output_type": "stream",
     "text": [
      "Training:  65%|█████████████████████████████████████████████▏                        | 122/189 [00:11<00:05, 12.82it/s]"
     ]
    },
    {
     "name": "stdout",
     "output_type": "stream",
     "text": [
      "Epoch[0], mtid pred loss:0.4619\n"
     ]
    },
    {
     "name": "stderr",
     "output_type": "stream",
     "text": [
      "Training:  97%|████████████████████████████████████████████████████████████████████▏ | 184/189 [00:15<00:00, 14.06it/s]"
     ]
    },
    {
     "name": "stdout",
     "output_type": "stream",
     "text": [
      "Epoch[0], mtid pred loss:0.3854\n"
     ]
    },
    {
     "name": "stderr",
     "output_type": "stream",
     "text": [
      "Training: 100%|██████████████████████████████████████████████████████████████████████| 189/189 [00:15<00:00, 12.15it/s]\n",
      "Validate:   0%|                                                                                 | 0/24 [00:00<?, ?it/s]C:\\Users\\zhaoke\\AppData\\Local\\Temp\\ipykernel_9460\\694024310.py:46: UserWarning: To copy construct from a tensor, it is recommended to use sourceTensor.clone().detach() or sourceTensor.clone().detach().requires_grad_(True), rather than torch.tensor(sourceTensor).\n",
      "  y_label = torch.tensor(y_label, device=device)\n",
      "Validate: 100%|████████████████████████████████████████████████████████████████████████| 24/24 [00:01<00:00, 21.21it/s]\n"
     ]
    },
    {
     "name": "stdout",
     "output_type": "stream",
     "text": [
      "heatmap_input shape: torch.Size([1508, 3])\n",
      "lables shape: torch.Size([1508])\n",
      "(1508, 3)\n",
      "acc: 0.5583554376657824\n",
      "precision: ['0.7493', '0.2917', '0.0855']\n",
      "recall: ['0.6888', '0.1224', '0.3191']\n"
     ]
    },
    {
     "name": "stderr",
     "output_type": "stream",
     "text": [
      "Training:   0%|                                                                                | 0/189 [00:00<?, ?it/s]C:\\Users\\zhaoke\\AppData\\Local\\Temp\\ipykernel_9460\\694024310.py:9: UserWarning: To copy construct from a tensor, it is recommended to use sourceTensor.clone().detach() or sourceTensor.clone().detach().requires_grad_(True), rather than torch.tensor(sourceTensor).\n",
      "  y_label = torch.tensor(y_label, device=device)\n",
      "Training:   2%|█▌                                                                      | 4/189 [00:00<00:12, 14.61it/s]"
     ]
    },
    {
     "name": "stdout",
     "output_type": "stream",
     "text": [
      "Epoch[1], mtid pred loss:0.3422\n"
     ]
    },
    {
     "name": "stderr",
     "output_type": "stream",
     "text": [
      "Training:  33%|███████████████████████▋                                               | 63/189 [00:03<00:06, 19.09it/s]"
     ]
    },
    {
     "name": "stdout",
     "output_type": "stream",
     "text": [
      "Epoch[1], mtid pred loss:0.3794\n"
     ]
    },
    {
     "name": "stderr",
     "output_type": "stream",
     "text": [
      "Training:  65%|█████████████████████████████████████████████▌                        | 123/189 [00:06<00:04, 15.49it/s]"
     ]
    },
    {
     "name": "stdout",
     "output_type": "stream",
     "text": [
      "Epoch[1], mtid pred loss:0.3204\n"
     ]
    },
    {
     "name": "stderr",
     "output_type": "stream",
     "text": [
      "Training:  97%|███████████████████████████████████████████████████████████████████▊  | 183/189 [00:11<00:00, 14.42it/s]"
     ]
    },
    {
     "name": "stdout",
     "output_type": "stream",
     "text": [
      "Epoch[1], mtid pred loss:0.2708\n"
     ]
    },
    {
     "name": "stderr",
     "output_type": "stream",
     "text": [
      "Training: 100%|██████████████████████████████████████████████████████████████████████| 189/189 [00:11<00:00, 16.47it/s]\n",
      "Validate:   0%|                                                                                 | 0/24 [00:00<?, ?it/s]C:\\Users\\zhaoke\\AppData\\Local\\Temp\\ipykernel_9460\\694024310.py:46: UserWarning: To copy construct from a tensor, it is recommended to use sourceTensor.clone().detach() or sourceTensor.clone().detach().requires_grad_(True), rather than torch.tensor(sourceTensor).\n",
      "  y_label = torch.tensor(y_label, device=device)\n",
      "Validate: 100%|████████████████████████████████████████████████████████████████████████| 24/24 [00:01<00:00, 21.80it/s]\n"
     ]
    },
    {
     "name": "stdout",
     "output_type": "stream",
     "text": [
      "heatmap_input shape: torch.Size([1508, 3])\n",
      "lables shape: torch.Size([1508])\n",
      "(1508, 3)\n",
      "acc: 0.7068965517241379\n",
      "precision: ['0.7585', '0.3016', '0.1944']\n",
      "recall: ['0.9051', '0.1329', '0.0745']\n"
     ]
    },
    {
     "name": "stderr",
     "output_type": "stream",
     "text": [
      "Training:   0%|                                                                                | 0/189 [00:00<?, ?it/s]C:\\Users\\zhaoke\\AppData\\Local\\Temp\\ipykernel_9460\\694024310.py:9: UserWarning: To copy construct from a tensor, it is recommended to use sourceTensor.clone().detach() or sourceTensor.clone().detach().requires_grad_(True), rather than torch.tensor(sourceTensor).\n",
      "  y_label = torch.tensor(y_label, device=device)\n",
      "Training:   1%|▊                                                                       | 2/189 [00:00<00:11, 15.98it/s]"
     ]
    },
    {
     "name": "stdout",
     "output_type": "stream",
     "text": [
      "Epoch[2], mtid pred loss:0.2644\n"
     ]
    },
    {
     "name": "stderr",
     "output_type": "stream",
     "text": [
      "Training:  34%|████████████████████████                                               | 64/189 [00:03<00:06, 19.53it/s]"
     ]
    },
    {
     "name": "stdout",
     "output_type": "stream",
     "text": [
      "Epoch[2], mtid pred loss:0.2890\n"
     ]
    },
    {
     "name": "stderr",
     "output_type": "stream",
     "text": [
      "Training:  65%|█████████████████████████████████████████████▌                        | 123/189 [00:07<00:03, 16.70it/s]"
     ]
    },
    {
     "name": "stdout",
     "output_type": "stream",
     "text": [
      "Epoch[2], mtid pred loss:0.3012\n"
     ]
    },
    {
     "name": "stderr",
     "output_type": "stream",
     "text": [
      "Training:  97%|███████████████████████████████████████████████████████████████████▊  | 183/189 [00:11<00:00, 18.02it/s]"
     ]
    },
    {
     "name": "stdout",
     "output_type": "stream",
     "text": [
      "Epoch[2], mtid pred loss:0.3475\n"
     ]
    },
    {
     "name": "stderr",
     "output_type": "stream",
     "text": [
      "Training: 100%|██████████████████████████████████████████████████████████████████████| 189/189 [00:11<00:00, 16.47it/s]\n",
      "Validate:   0%|                                                                                 | 0/24 [00:00<?, ?it/s]C:\\Users\\zhaoke\\AppData\\Local\\Temp\\ipykernel_9460\\694024310.py:46: UserWarning: To copy construct from a tensor, it is recommended to use sourceTensor.clone().detach() or sourceTensor.clone().detach().requires_grad_(True), rather than torch.tensor(sourceTensor).\n",
      "  y_label = torch.tensor(y_label, device=device)\n",
      "Validate: 100%|████████████████████████████████████████████████████████████████████████| 24/24 [00:01<00:00, 21.92it/s]\n"
     ]
    },
    {
     "name": "stdout",
     "output_type": "stream",
     "text": [
      "heatmap_input shape: torch.Size([1508, 3])\n",
      "lables shape: torch.Size([1508])\n",
      "(1508, 3)\n",
      "acc: 0.7009283819628647\n",
      "precision: ['0.7537', '0.2532', '0.5000']\n",
      "recall: ['0.9007', '0.1399', '0.0106']\n"
     ]
    },
    {
     "name": "stderr",
     "output_type": "stream",
     "text": [
      "Training:   0%|                                                                                | 0/189 [00:00<?, ?it/s]C:\\Users\\zhaoke\\AppData\\Local\\Temp\\ipykernel_9460\\694024310.py:9: UserWarning: To copy construct from a tensor, it is recommended to use sourceTensor.clone().detach() or sourceTensor.clone().detach().requires_grad_(True), rather than torch.tensor(sourceTensor).\n",
      "  y_label = torch.tensor(y_label, device=device)\n"
     ]
    },
    {
     "name": "stdout",
     "output_type": "stream",
     "text": [
      "Epoch[3], mtid pred loss:0.2185\n"
     ]
    },
    {
     "name": "stderr",
     "output_type": "stream",
     "text": [
      "Training:  33%|███████████████████████▎                                               | 62/189 [00:04<00:10, 12.69it/s]"
     ]
    },
    {
     "name": "stdout",
     "output_type": "stream",
     "text": [
      "Epoch[3], mtid pred loss:0.2377\n"
     ]
    },
    {
     "name": "stderr",
     "output_type": "stream",
     "text": [
      "Training:  65%|█████████████████████████████████████████████▏                        | 122/189 [00:08<00:04, 13.53it/s]"
     ]
    },
    {
     "name": "stdout",
     "output_type": "stream",
     "text": [
      "Epoch[3], mtid pred loss:0.2162\n"
     ]
    },
    {
     "name": "stderr",
     "output_type": "stream",
     "text": [
      "Training:  97%|████████████████████████████████████████████████████████████████████▏ | 184/189 [00:13<00:00, 18.15it/s]"
     ]
    },
    {
     "name": "stdout",
     "output_type": "stream",
     "text": [
      "Epoch[3], mtid pred loss:0.2495\n"
     ]
    },
    {
     "name": "stderr",
     "output_type": "stream",
     "text": [
      "Training: 100%|██████████████████████████████████████████████████████████████████████| 189/189 [00:13<00:00, 14.12it/s]\n",
      "Validate:   0%|                                                                                 | 0/24 [00:00<?, ?it/s]C:\\Users\\zhaoke\\AppData\\Local\\Temp\\ipykernel_9460\\694024310.py:46: UserWarning: To copy construct from a tensor, it is recommended to use sourceTensor.clone().detach() or sourceTensor.clone().detach().requires_grad_(True), rather than torch.tensor(sourceTensor).\n",
      "  y_label = torch.tensor(y_label, device=device)\n",
      "Validate: 100%|████████████████████████████████████████████████████████████████████████| 24/24 [00:01<00:00, 21.33it/s]\n"
     ]
    },
    {
     "name": "stdout",
     "output_type": "stream",
     "text": [
      "heatmap_input shape: torch.Size([1508, 3])\n",
      "lables shape: torch.Size([1508])\n",
      "(1508, 3)\n",
      "acc: 0.6240053050397878\n",
      "precision: ['0.7608', '0.2552', '0.0000']\n",
      "recall: ['0.7473', '0.3427', '0.0000']\n"
     ]
    },
    {
     "name": "stderr",
     "output_type": "stream",
     "text": [
      "Training:   0%|                                                                                | 0/189 [00:00<?, ?it/s]C:\\Users\\zhaoke\\AppData\\Local\\Temp\\ipykernel_9460\\694024310.py:9: UserWarning: To copy construct from a tensor, it is recommended to use sourceTensor.clone().detach() or sourceTensor.clone().detach().requires_grad_(True), rather than torch.tensor(sourceTensor).\n",
      "  y_label = torch.tensor(y_label, device=device)\n",
      "Training:   2%|█▌                                                                      | 4/189 [00:00<00:09, 18.55it/s]"
     ]
    },
    {
     "name": "stdout",
     "output_type": "stream",
     "text": [
      "Epoch[4], mtid pred loss:0.2343\n"
     ]
    },
    {
     "name": "stderr",
     "output_type": "stream",
     "text": [
      "Training:  33%|███████████████████████▎                                               | 62/189 [00:04<00:08, 15.00it/s]"
     ]
    },
    {
     "name": "stdout",
     "output_type": "stream",
     "text": [
      "Epoch[4], mtid pred loss:0.2111\n"
     ]
    },
    {
     "name": "stderr",
     "output_type": "stream",
     "text": [
      "Training:  65%|█████████████████████████████████████████████▌                        | 123/189 [00:07<00:03, 16.92it/s]"
     ]
    },
    {
     "name": "stdout",
     "output_type": "stream",
     "text": [
      "Epoch[4], mtid pred loss:0.2167\n"
     ]
    },
    {
     "name": "stderr",
     "output_type": "stream",
     "text": [
      "Training:  97%|███████████████████████████████████████████████████████████████████▊  | 183/189 [00:11<00:00, 16.51it/s]"
     ]
    },
    {
     "name": "stdout",
     "output_type": "stream",
     "text": [
      "Epoch[4], mtid pred loss:0.2945\n"
     ]
    },
    {
     "name": "stderr",
     "output_type": "stream",
     "text": [
      "Training: 100%|██████████████████████████████████████████████████████████████████████| 189/189 [00:11<00:00, 16.07it/s]\n",
      "Validate:   0%|                                                                                 | 0/24 [00:00<?, ?it/s]C:\\Users\\zhaoke\\AppData\\Local\\Temp\\ipykernel_9460\\694024310.py:46: UserWarning: To copy construct from a tensor, it is recommended to use sourceTensor.clone().detach() or sourceTensor.clone().detach().requires_grad_(True), rather than torch.tensor(sourceTensor).\n",
      "  y_label = torch.tensor(y_label, device=device)\n",
      "Validate: 100%|████████████████████████████████████████████████████████████████████████| 24/24 [00:01<00:00, 18.34it/s]\n"
     ]
    },
    {
     "name": "stdout",
     "output_type": "stream",
     "text": [
      "heatmap_input shape: torch.Size([1508, 3])\n",
      "lables shape: torch.Size([1508])\n",
      "(1508, 3)\n",
      "acc: 0.7161803713527851\n",
      "precision: ['0.7650', '0.3373', '0.3333']\n",
      "recall: ['0.9060', '0.1993', '0.0106']\n"
     ]
    },
    {
     "name": "stderr",
     "output_type": "stream",
     "text": [
      "Training:   0%|                                                                                | 0/189 [00:00<?, ?it/s]C:\\Users\\zhaoke\\AppData\\Local\\Temp\\ipykernel_9460\\694024310.py:9: UserWarning: To copy construct from a tensor, it is recommended to use sourceTensor.clone().detach() or sourceTensor.clone().detach().requires_grad_(True), rather than torch.tensor(sourceTensor).\n",
      "  y_label = torch.tensor(y_label, device=device)\n",
      "Training:   2%|█▌                                                                      | 4/189 [00:00<00:11, 16.38it/s]"
     ]
    },
    {
     "name": "stdout",
     "output_type": "stream",
     "text": [
      "Epoch[5], mtid pred loss:0.2324\n"
     ]
    },
    {
     "name": "stderr",
     "output_type": "stream",
     "text": [
      "Training:  33%|███████████████████████▎                                               | 62/189 [00:03<00:08, 15.79it/s]"
     ]
    },
    {
     "name": "stdout",
     "output_type": "stream",
     "text": [
      "Epoch[5], mtid pred loss:0.2911\n"
     ]
    },
    {
     "name": "stderr",
     "output_type": "stream",
     "text": [
      "Training:  65%|█████████████████████████████████████████████▏                        | 122/189 [00:08<00:04, 14.15it/s]"
     ]
    },
    {
     "name": "stdout",
     "output_type": "stream",
     "text": [
      "Epoch[5], mtid pred loss:0.1538\n"
     ]
    },
    {
     "name": "stderr",
     "output_type": "stream",
     "text": [
      "Training:  97%|███████████████████████████████████████████████████████████████████▊  | 183/189 [00:11<00:00, 17.48it/s]"
     ]
    },
    {
     "name": "stdout",
     "output_type": "stream",
     "text": [
      "Epoch[5], mtid pred loss:0.2765\n"
     ]
    },
    {
     "name": "stderr",
     "output_type": "stream",
     "text": [
      "Training: 100%|██████████████████████████████████████████████████████████████████████| 189/189 [00:12<00:00, 15.44it/s]\n",
      "Validate:   0%|                                                                                 | 0/24 [00:00<?, ?it/s]C:\\Users\\zhaoke\\AppData\\Local\\Temp\\ipykernel_9460\\694024310.py:46: UserWarning: To copy construct from a tensor, it is recommended to use sourceTensor.clone().detach() or sourceTensor.clone().detach().requires_grad_(True), rather than torch.tensor(sourceTensor).\n",
      "  y_label = torch.tensor(y_label, device=device)\n",
      "Validate: 100%|████████████████████████████████████████████████████████████████████████| 24/24 [00:01<00:00, 19.61it/s]\n"
     ]
    },
    {
     "name": "stdout",
     "output_type": "stream",
     "text": [
      "heatmap_input shape: torch.Size([1508, 3])\n",
      "lables shape: torch.Size([1508])\n",
      "(1508, 3)\n",
      "acc: 0.6379310344827587\n",
      "precision: ['0.7658', '0.2486', '0.0000']\n",
      "recall: ['0.7739', '0.3112', '0.0000']\n"
     ]
    },
    {
     "name": "stderr",
     "output_type": "stream",
     "text": [
      "Training:   0%|                                                                                | 0/189 [00:00<?, ?it/s]C:\\Users\\zhaoke\\AppData\\Local\\Temp\\ipykernel_9460\\694024310.py:9: UserWarning: To copy construct from a tensor, it is recommended to use sourceTensor.clone().detach() or sourceTensor.clone().detach().requires_grad_(True), rather than torch.tensor(sourceTensor).\n",
      "  y_label = torch.tensor(y_label, device=device)\n",
      "Training:   1%|▊                                                                       | 2/189 [00:00<00:13, 13.60it/s]"
     ]
    },
    {
     "name": "stdout",
     "output_type": "stream",
     "text": [
      "Epoch[6], mtid pred loss:0.2045\n"
     ]
    },
    {
     "name": "stderr",
     "output_type": "stream",
     "text": [
      "Training:  33%|███████████████████████▋                                               | 63/189 [00:04<00:07, 16.43it/s]"
     ]
    },
    {
     "name": "stdout",
     "output_type": "stream",
     "text": [
      "Epoch[6], mtid pred loss:0.2067\n"
     ]
    },
    {
     "name": "stderr",
     "output_type": "stream",
     "text": [
      "Training:  66%|█████████████████████████████████████████████▉                        | 124/189 [00:08<00:04, 16.17it/s]"
     ]
    },
    {
     "name": "stdout",
     "output_type": "stream",
     "text": [
      "Epoch[6], mtid pred loss:0.1551\n"
     ]
    },
    {
     "name": "stderr",
     "output_type": "stream",
     "text": [
      "Training:  97%|███████████████████████████████████████████████████████████████████▊  | 183/189 [00:11<00:00, 14.82it/s]"
     ]
    },
    {
     "name": "stdout",
     "output_type": "stream",
     "text": [
      "Epoch[6], mtid pred loss:0.2491\n"
     ]
    },
    {
     "name": "stderr",
     "output_type": "stream",
     "text": [
      "Training: 100%|██████████████████████████████████████████████████████████████████████| 189/189 [00:12<00:00, 15.47it/s]\n",
      "Validate:   0%|                                                                                 | 0/24 [00:00<?, ?it/s]C:\\Users\\zhaoke\\AppData\\Local\\Temp\\ipykernel_9460\\694024310.py:46: UserWarning: To copy construct from a tensor, it is recommended to use sourceTensor.clone().detach() or sourceTensor.clone().detach().requires_grad_(True), rather than torch.tensor(sourceTensor).\n",
      "  y_label = torch.tensor(y_label, device=device)\n",
      "Validate: 100%|████████████████████████████████████████████████████████████████████████| 24/24 [00:01<00:00, 20.96it/s]\n",
      "C:/Program Files (zk)/PythonFiles/AClassification/AudioClassification-Pytorch-KZhao\\ackit\\utils\\plotter.py:132: RuntimeWarning: invalid value encountered in divide\n",
      "  prec = tp_vec / cfm.sum(axis=0)\n"
     ]
    },
    {
     "name": "stdout",
     "output_type": "stream",
     "text": [
      "heatmap_input shape: torch.Size([1508, 3])\n",
      "lables shape: torch.Size([1508])\n",
      "(1508, 3)\n",
      "acc: 0.7393899204244032\n",
      "precision: ['0.7515', '0.3256', 'nan']\n",
      "recall: ['0.9761', '0.0490', '0.0000']\n"
     ]
    },
    {
     "name": "stderr",
     "output_type": "stream",
     "text": [
      "Training:   0%|                                                                                | 0/189 [00:00<?, ?it/s]C:\\Users\\zhaoke\\AppData\\Local\\Temp\\ipykernel_9460\\694024310.py:9: UserWarning: To copy construct from a tensor, it is recommended to use sourceTensor.clone().detach() or sourceTensor.clone().detach().requires_grad_(True), rather than torch.tensor(sourceTensor).\n",
      "  y_label = torch.tensor(y_label, device=device)\n",
      "Training:   2%|█▏                                                                      | 3/189 [00:00<00:18, 10.12it/s]"
     ]
    },
    {
     "name": "stdout",
     "output_type": "stream",
     "text": [
      "Epoch[7], mtid pred loss:0.2045\n"
     ]
    },
    {
     "name": "stderr",
     "output_type": "stream",
     "text": [
      "Training:  34%|████████████████████████                                               | 64/189 [00:03<00:06, 18.32it/s]"
     ]
    },
    {
     "name": "stdout",
     "output_type": "stream",
     "text": [
      "Epoch[7], mtid pred loss:0.2797\n"
     ]
    },
    {
     "name": "stderr",
     "output_type": "stream",
     "text": [
      "Training:  65%|█████████████████████████████████████████████▏                        | 122/189 [00:07<00:04, 15.81it/s]"
     ]
    },
    {
     "name": "stdout",
     "output_type": "stream",
     "text": [
      "Epoch[7], mtid pred loss:0.2184\n"
     ]
    },
    {
     "name": "stderr",
     "output_type": "stream",
     "text": [
      "Training:  96%|███████████████████████████████████████████████████████████████████▍  | 182/189 [00:11<00:00, 14.61it/s]"
     ]
    },
    {
     "name": "stdout",
     "output_type": "stream",
     "text": [
      "Epoch[7], mtid pred loss:0.2832\n"
     ]
    },
    {
     "name": "stderr",
     "output_type": "stream",
     "text": [
      "Training: 100%|██████████████████████████████████████████████████████████████████████| 189/189 [00:12<00:00, 15.69it/s]\n",
      "Validate:   0%|                                                                                 | 0/24 [00:00<?, ?it/s]C:\\Users\\zhaoke\\AppData\\Local\\Temp\\ipykernel_9460\\694024310.py:46: UserWarning: To copy construct from a tensor, it is recommended to use sourceTensor.clone().detach() or sourceTensor.clone().detach().requires_grad_(True), rather than torch.tensor(sourceTensor).\n",
      "  y_label = torch.tensor(y_label, device=device)\n",
      "Validate: 100%|████████████████████████████████████████████████████████████████████████| 24/24 [00:01<00:00, 17.93it/s]\n"
     ]
    },
    {
     "name": "stdout",
     "output_type": "stream",
     "text": [
      "heatmap_input shape: torch.Size([1508, 3])\n",
      "lables shape: torch.Size([1508])\n",
      "(1508, 3)\n",
      "acc: 0.6810344827586207\n",
      "precision: ['0.7716', '0.2886', '0.1912']\n",
      "recall: ['0.8475', '0.2028', '0.1383']\n"
     ]
    },
    {
     "name": "stderr",
     "output_type": "stream",
     "text": [
      "Training:   0%|                                                                                | 0/189 [00:00<?, ?it/s]C:\\Users\\zhaoke\\AppData\\Local\\Temp\\ipykernel_9460\\694024310.py:9: UserWarning: To copy construct from a tensor, it is recommended to use sourceTensor.clone().detach() or sourceTensor.clone().detach().requires_grad_(True), rather than torch.tensor(sourceTensor).\n",
      "  y_label = torch.tensor(y_label, device=device)\n",
      "Training:   1%|▊                                                                       | 2/189 [00:00<00:14, 12.74it/s]"
     ]
    },
    {
     "name": "stdout",
     "output_type": "stream",
     "text": [
      "Epoch[8], mtid pred loss:0.1182\n"
     ]
    },
    {
     "name": "stderr",
     "output_type": "stream",
     "text": [
      "Training:  33%|███████████████████████▎                                               | 62/189 [00:04<00:08, 14.92it/s]"
     ]
    },
    {
     "name": "stdout",
     "output_type": "stream",
     "text": [
      "Epoch[8], mtid pred loss:0.1353\n"
     ]
    },
    {
     "name": "stderr",
     "output_type": "stream",
     "text": [
      "Training:  65%|█████████████████████████████████████████████▏                        | 122/189 [00:08<00:05, 13.30it/s]"
     ]
    },
    {
     "name": "stdout",
     "output_type": "stream",
     "text": [
      "Epoch[8], mtid pred loss:0.1243\n"
     ]
    },
    {
     "name": "stderr",
     "output_type": "stream",
     "text": [
      "Training:  97%|███████████████████████████████████████████████████████████████████▊  | 183/189 [00:12<00:00, 15.94it/s]"
     ]
    },
    {
     "name": "stdout",
     "output_type": "stream",
     "text": [
      "Epoch[8], mtid pred loss:0.2464\n"
     ]
    },
    {
     "name": "stderr",
     "output_type": "stream",
     "text": [
      "Training: 100%|██████████████████████████████████████████████████████████████████████| 189/189 [00:12<00:00, 14.77it/s]\n",
      "Validate:   0%|                                                                                 | 0/24 [00:00<?, ?it/s]C:\\Users\\zhaoke\\AppData\\Local\\Temp\\ipykernel_9460\\694024310.py:46: UserWarning: To copy construct from a tensor, it is recommended to use sourceTensor.clone().detach() or sourceTensor.clone().detach().requires_grad_(True), rather than torch.tensor(sourceTensor).\n",
      "  y_label = torch.tensor(y_label, device=device)\n",
      "Validate: 100%|████████████████████████████████████████████████████████████████████████| 24/24 [00:01<00:00, 19.76it/s]\n"
     ]
    },
    {
     "name": "stdout",
     "output_type": "stream",
     "text": [
      "heatmap_input shape: torch.Size([1508, 3])\n",
      "lables shape: torch.Size([1508])\n",
      "(1508, 3)\n",
      "acc: 0.6956233421750663\n",
      "precision: ['0.7567', '0.2523', '0.0755']\n",
      "recall: ['0.9016', '0.0979', '0.0426']\n"
     ]
    },
    {
     "name": "stderr",
     "output_type": "stream",
     "text": [
      "Training:   0%|                                                                                | 0/189 [00:00<?, ?it/s]C:\\Users\\zhaoke\\AppData\\Local\\Temp\\ipykernel_9460\\694024310.py:9: UserWarning: To copy construct from a tensor, it is recommended to use sourceTensor.clone().detach() or sourceTensor.clone().detach().requires_grad_(True), rather than torch.tensor(sourceTensor).\n",
      "  y_label = torch.tensor(y_label, device=device)\n",
      "Training:   1%|▊                                                                       | 2/189 [00:00<00:12, 15.15it/s]"
     ]
    },
    {
     "name": "stdout",
     "output_type": "stream",
     "text": [
      "Epoch[9], mtid pred loss:0.1103\n"
     ]
    },
    {
     "name": "stderr",
     "output_type": "stream",
     "text": [
      "Training:  33%|███████████████████████▎                                               | 62/189 [00:04<00:09, 12.85it/s]"
     ]
    },
    {
     "name": "stdout",
     "output_type": "stream",
     "text": [
      "Epoch[9], mtid pred loss:0.1136\n"
     ]
    },
    {
     "name": "stderr",
     "output_type": "stream",
     "text": [
      "Training:  65%|█████████████████████████████████████████████▏                        | 122/189 [00:09<00:04, 13.83it/s]"
     ]
    },
    {
     "name": "stdout",
     "output_type": "stream",
     "text": [
      "Epoch[9], mtid pred loss:0.0791\n"
     ]
    },
    {
     "name": "stderr",
     "output_type": "stream",
     "text": [
      "Training:  96%|███████████████████████████████████████████████████████████████████▍  | 182/189 [00:13<00:00, 13.54it/s]"
     ]
    },
    {
     "name": "stdout",
     "output_type": "stream",
     "text": [
      "Epoch[9], mtid pred loss:0.1165\n"
     ]
    },
    {
     "name": "stderr",
     "output_type": "stream",
     "text": [
      "Training: 100%|██████████████████████████████████████████████████████████████████████| 189/189 [00:13<00:00, 13.66it/s]\n",
      "Validate:   0%|                                                                                 | 0/24 [00:00<?, ?it/s]C:\\Users\\zhaoke\\AppData\\Local\\Temp\\ipykernel_9460\\694024310.py:46: UserWarning: To copy construct from a tensor, it is recommended to use sourceTensor.clone().detach() or sourceTensor.clone().detach().requires_grad_(True), rather than torch.tensor(sourceTensor).\n",
      "  y_label = torch.tensor(y_label, device=device)\n",
      "Validate: 100%|████████████████████████████████████████████████████████████████████████| 24/24 [00:01<00:00, 20.62it/s]\n"
     ]
    },
    {
     "name": "stdout",
     "output_type": "stream",
     "text": [
      "heatmap_input shape: torch.Size([1508, 3])\n",
      "lables shape: torch.Size([1508])\n",
      "(1508, 3)\n",
      "acc: 0.6883289124668435\n",
      "precision: ['0.7674', '0.2895', '0.1250']\n",
      "recall: ['0.8599', '0.2308', '0.0213']\n"
     ]
    },
    {
     "name": "stderr",
     "output_type": "stream",
     "text": [
      "Training:   0%|                                                                                | 0/189 [00:00<?, ?it/s]C:\\Users\\zhaoke\\AppData\\Local\\Temp\\ipykernel_9460\\694024310.py:9: UserWarning: To copy construct from a tensor, it is recommended to use sourceTensor.clone().detach() or sourceTensor.clone().detach().requires_grad_(True), rather than torch.tensor(sourceTensor).\n",
      "  y_label = torch.tensor(y_label, device=device)\n",
      "Training:   1%|▍                                                                       | 1/189 [00:00<00:22,  8.47it/s]"
     ]
    },
    {
     "name": "stdout",
     "output_type": "stream",
     "text": [
      "Epoch[10], mtid pred loss:0.0596\n"
     ]
    },
    {
     "name": "stderr",
     "output_type": "stream",
     "text": [
      "Training:  33%|███████████████████████▋                                               | 63/189 [00:04<00:08, 15.57it/s]"
     ]
    },
    {
     "name": "stdout",
     "output_type": "stream",
     "text": [
      "Epoch[10], mtid pred loss:0.0272\n"
     ]
    },
    {
     "name": "stderr",
     "output_type": "stream",
     "text": [
      "Training:  65%|█████████████████████████████████████████████▌                        | 123/189 [00:08<00:04, 13.55it/s]"
     ]
    },
    {
     "name": "stdout",
     "output_type": "stream",
     "text": [
      "Epoch[10], mtid pred loss:0.0430\n"
     ]
    },
    {
     "name": "stderr",
     "output_type": "stream",
     "text": [
      "Training:  97%|███████████████████████████████████████████████████████████████████▊  | 183/189 [00:12<00:00, 19.01it/s]"
     ]
    },
    {
     "name": "stdout",
     "output_type": "stream",
     "text": [
      "Epoch[10], mtid pred loss:0.0597\n"
     ]
    },
    {
     "name": "stderr",
     "output_type": "stream",
     "text": [
      "Training: 100%|██████████████████████████████████████████████████████████████████████| 189/189 [00:12<00:00, 14.96it/s]\n",
      "Validate:   0%|                                                                                 | 0/24 [00:00<?, ?it/s]C:\\Users\\zhaoke\\AppData\\Local\\Temp\\ipykernel_9460\\694024310.py:46: UserWarning: To copy construct from a tensor, it is recommended to use sourceTensor.clone().detach() or sourceTensor.clone().detach().requires_grad_(True), rather than torch.tensor(sourceTensor).\n",
      "  y_label = torch.tensor(y_label, device=device)\n",
      "Validate: 100%|████████████████████████████████████████████████████████████████████████| 24/24 [00:01<00:00, 20.86it/s]\n"
     ]
    },
    {
     "name": "stdout",
     "output_type": "stream",
     "text": [
      "heatmap_input shape: torch.Size([1508, 3])\n",
      "lables shape: torch.Size([1508])\n",
      "(1508, 3)\n",
      "acc: 0.6982758620689655\n",
      "precision: ['0.7586', '0.2876', '0.0000']\n",
      "recall: ['0.8945', '0.1538', '0.0000']\n"
     ]
    },
    {
     "name": "stderr",
     "output_type": "stream",
     "text": [
      "Training:   0%|                                                                                | 0/189 [00:00<?, ?it/s]C:\\Users\\zhaoke\\AppData\\Local\\Temp\\ipykernel_9460\\694024310.py:9: UserWarning: To copy construct from a tensor, it is recommended to use sourceTensor.clone().detach() or sourceTensor.clone().detach().requires_grad_(True), rather than torch.tensor(sourceTensor).\n",
      "  y_label = torch.tensor(y_label, device=device)\n",
      "Training:   2%|█▌                                                                      | 4/189 [00:00<00:11, 15.83it/s]"
     ]
    },
    {
     "name": "stdout",
     "output_type": "stream",
     "text": [
      "Epoch[11], mtid pred loss:0.0206\n"
     ]
    },
    {
     "name": "stderr",
     "output_type": "stream",
     "text": [
      "Training:  33%|███████████████████████▎                                               | 62/189 [00:04<00:09, 12.98it/s]"
     ]
    },
    {
     "name": "stdout",
     "output_type": "stream",
     "text": [
      "Epoch[11], mtid pred loss:0.0186\n"
     ]
    },
    {
     "name": "stderr",
     "output_type": "stream",
     "text": [
      "Training:  65%|█████████████████████████████████████████████▏                        | 122/189 [00:08<00:04, 13.73it/s]"
     ]
    },
    {
     "name": "stdout",
     "output_type": "stream",
     "text": [
      "Epoch[11], mtid pred loss:0.0126\n"
     ]
    },
    {
     "name": "stderr",
     "output_type": "stream",
     "text": [
      "Training:  97%|███████████████████████████████████████████████████████████████████▊  | 183/189 [00:12<00:00, 18.66it/s]"
     ]
    },
    {
     "name": "stdout",
     "output_type": "stream",
     "text": [
      "Epoch[11], mtid pred loss:0.0162\n"
     ]
    },
    {
     "name": "stderr",
     "output_type": "stream",
     "text": [
      "Training: 100%|██████████████████████████████████████████████████████████████████████| 189/189 [00:12<00:00, 14.55it/s]\n",
      "Validate:   0%|                                                                                 | 0/24 [00:00<?, ?it/s]C:\\Users\\zhaoke\\AppData\\Local\\Temp\\ipykernel_9460\\694024310.py:46: UserWarning: To copy construct from a tensor, it is recommended to use sourceTensor.clone().detach() or sourceTensor.clone().detach().requires_grad_(True), rather than torch.tensor(sourceTensor).\n",
      "  y_label = torch.tensor(y_label, device=device)\n",
      "Validate: 100%|████████████████████████████████████████████████████████████████████████| 24/24 [00:01<00:00, 18.61it/s]\n"
     ]
    },
    {
     "name": "stdout",
     "output_type": "stream",
     "text": [
      "heatmap_input shape: torch.Size([1508, 3])\n",
      "lables shape: torch.Size([1508])\n",
      "(1508, 3)\n",
      "acc: 0.7055702917771883\n",
      "precision: ['0.7589', '0.2697', '0.0000']\n",
      "recall: ['0.9069', '0.1434', '0.0000']\n"
     ]
    },
    {
     "name": "stderr",
     "output_type": "stream",
     "text": [
      "Training:   0%|                                                                                | 0/189 [00:00<?, ?it/s]C:\\Users\\zhaoke\\AppData\\Local\\Temp\\ipykernel_9460\\694024310.py:9: UserWarning: To copy construct from a tensor, it is recommended to use sourceTensor.clone().detach() or sourceTensor.clone().detach().requires_grad_(True), rather than torch.tensor(sourceTensor).\n",
      "  y_label = torch.tensor(y_label, device=device)\n",
      "Training:   1%|▊                                                                       | 2/189 [00:00<00:13, 13.89it/s]"
     ]
    },
    {
     "name": "stdout",
     "output_type": "stream",
     "text": [
      "Epoch[12], mtid pred loss:0.0207\n"
     ]
    },
    {
     "name": "stderr",
     "output_type": "stream",
     "text": [
      "Training:  34%|████████████████████████                                               | 64/189 [00:04<00:07, 17.40it/s]"
     ]
    },
    {
     "name": "stdout",
     "output_type": "stream",
     "text": [
      "Epoch[12], mtid pred loss:0.0085\n"
     ]
    },
    {
     "name": "stderr",
     "output_type": "stream",
     "text": [
      "Training:  65%|█████████████████████████████████████████████▏                        | 122/189 [00:08<00:05, 12.27it/s]"
     ]
    },
    {
     "name": "stdout",
     "output_type": "stream",
     "text": [
      "Epoch[12], mtid pred loss:0.0120\n"
     ]
    },
    {
     "name": "stderr",
     "output_type": "stream",
     "text": [
      "Training:  96%|███████████████████████████████████████████████████████████████████▍  | 182/189 [00:12<00:00, 14.01it/s]"
     ]
    },
    {
     "name": "stdout",
     "output_type": "stream",
     "text": [
      "Epoch[12], mtid pred loss:0.0115\n"
     ]
    },
    {
     "name": "stderr",
     "output_type": "stream",
     "text": [
      "Training: 100%|██████████████████████████████████████████████████████████████████████| 189/189 [00:13<00:00, 14.40it/s]\n",
      "Validate:   0%|                                                                                 | 0/24 [00:00<?, ?it/s]C:\\Users\\zhaoke\\AppData\\Local\\Temp\\ipykernel_9460\\694024310.py:46: UserWarning: To copy construct from a tensor, it is recommended to use sourceTensor.clone().detach() or sourceTensor.clone().detach().requires_grad_(True), rather than torch.tensor(sourceTensor).\n",
      "  y_label = torch.tensor(y_label, device=device)\n",
      "Validate: 100%|████████████████████████████████████████████████████████████████████████| 24/24 [00:01<00:00, 19.24it/s]\n"
     ]
    },
    {
     "name": "stdout",
     "output_type": "stream",
     "text": [
      "heatmap_input shape: torch.Size([1508, 3])\n",
      "lables shape: torch.Size([1508])\n",
      "(1508, 3)\n",
      "acc: 0.6763925729442971\n",
      "precision: ['0.7639', '0.2731', '0.0714']\n",
      "recall: ['0.8431', '0.2378', '0.0106']\n"
     ]
    },
    {
     "name": "stderr",
     "output_type": "stream",
     "text": [
      "Training:   0%|                                                                                | 0/189 [00:00<?, ?it/s]C:\\Users\\zhaoke\\AppData\\Local\\Temp\\ipykernel_9460\\694024310.py:9: UserWarning: To copy construct from a tensor, it is recommended to use sourceTensor.clone().detach() or sourceTensor.clone().detach().requires_grad_(True), rather than torch.tensor(sourceTensor).\n",
      "  y_label = torch.tensor(y_label, device=device)\n",
      "Training:   2%|█▏                                                                      | 3/189 [00:00<00:15, 12.19it/s]"
     ]
    },
    {
     "name": "stdout",
     "output_type": "stream",
     "text": [
      "Epoch[13], mtid pred loss:0.0088\n"
     ]
    },
    {
     "name": "stderr",
     "output_type": "stream",
     "text": [
      "Training:  33%|███████████████████████▋                                               | 63/189 [00:04<00:06, 18.53it/s]"
     ]
    },
    {
     "name": "stdout",
     "output_type": "stream",
     "text": [
      "Epoch[13], mtid pred loss:0.0096\n"
     ]
    },
    {
     "name": "stderr",
     "output_type": "stream",
     "text": [
      "Training:  65%|█████████████████████████████████████████████▌                        | 123/189 [00:08<00:04, 13.68it/s]"
     ]
    },
    {
     "name": "stdout",
     "output_type": "stream",
     "text": [
      "Epoch[13], mtid pred loss:0.0131\n"
     ]
    },
    {
     "name": "stderr",
     "output_type": "stream",
     "text": [
      "Training:  97%|███████████████████████████████████████████████████████████████████▊  | 183/189 [00:11<00:00, 16.27it/s]"
     ]
    },
    {
     "name": "stdout",
     "output_type": "stream",
     "text": [
      "Epoch[13], mtid pred loss:0.0199\n"
     ]
    },
    {
     "name": "stderr",
     "output_type": "stream",
     "text": [
      "Training: 100%|██████████████████████████████████████████████████████████████████████| 189/189 [00:12<00:00, 15.67it/s]\n",
      "Validate:   0%|                                                                                 | 0/24 [00:00<?, ?it/s]C:\\Users\\zhaoke\\AppData\\Local\\Temp\\ipykernel_9460\\694024310.py:46: UserWarning: To copy construct from a tensor, it is recommended to use sourceTensor.clone().detach() or sourceTensor.clone().detach().requires_grad_(True), rather than torch.tensor(sourceTensor).\n",
      "  y_label = torch.tensor(y_label, device=device)\n",
      "Validate: 100%|████████████████████████████████████████████████████████████████████████| 24/24 [00:01<00:00, 16.96it/s]\n"
     ]
    },
    {
     "name": "stdout",
     "output_type": "stream",
     "text": [
      "heatmap_input shape: torch.Size([1508, 3])\n",
      "lables shape: torch.Size([1508])\n",
      "(1508, 3)\n",
      "acc: 0.6777188328912467\n",
      "precision: ['0.7586', '0.2512', '0.1724']\n",
      "recall: ['0.8555', '0.1818', '0.0532']\n"
     ]
    },
    {
     "name": "stderr",
     "output_type": "stream",
     "text": [
      "Training:   0%|                                                                                | 0/189 [00:00<?, ?it/s]C:\\Users\\zhaoke\\AppData\\Local\\Temp\\ipykernel_9460\\694024310.py:9: UserWarning: To copy construct from a tensor, it is recommended to use sourceTensor.clone().detach() or sourceTensor.clone().detach().requires_grad_(True), rather than torch.tensor(sourceTensor).\n",
      "  y_label = torch.tensor(y_label, device=device)\n",
      "Training:   1%|▊                                                                       | 2/189 [00:00<00:13, 13.99it/s]"
     ]
    },
    {
     "name": "stdout",
     "output_type": "stream",
     "text": [
      "Epoch[14], mtid pred loss:0.0082\n"
     ]
    },
    {
     "name": "stderr",
     "output_type": "stream",
     "text": [
      "Training:  33%|███████████████████████▎                                               | 62/189 [00:04<00:09, 12.71it/s]"
     ]
    },
    {
     "name": "stdout",
     "output_type": "stream",
     "text": [
      "Epoch[14], mtid pred loss:0.0227\n"
     ]
    },
    {
     "name": "stderr",
     "output_type": "stream",
     "text": [
      "Training:  65%|█████████████████████████████████████████████▏                        | 122/189 [00:09<00:04, 14.92it/s]"
     ]
    },
    {
     "name": "stdout",
     "output_type": "stream",
     "text": [
      "Epoch[14], mtid pred loss:0.0815\n"
     ]
    },
    {
     "name": "stderr",
     "output_type": "stream",
     "text": [
      "Training:  96%|███████████████████████████████████████████████████████████████████▍  | 182/189 [00:13<00:00, 15.12it/s]"
     ]
    },
    {
     "name": "stdout",
     "output_type": "stream",
     "text": [
      "Epoch[14], mtid pred loss:0.2015\n"
     ]
    },
    {
     "name": "stderr",
     "output_type": "stream",
     "text": [
      "Training: 100%|██████████████████████████████████████████████████████████████████████| 189/189 [00:13<00:00, 13.79it/s]\n",
      "Validate:   0%|                                                                                 | 0/24 [00:00<?, ?it/s]C:\\Users\\zhaoke\\AppData\\Local\\Temp\\ipykernel_9460\\694024310.py:46: UserWarning: To copy construct from a tensor, it is recommended to use sourceTensor.clone().detach() or sourceTensor.clone().detach().requires_grad_(True), rather than torch.tensor(sourceTensor).\n",
      "  y_label = torch.tensor(y_label, device=device)\n",
      "Validate: 100%|████████████████████████████████████████████████████████████████████████| 24/24 [00:01<00:00, 20.94it/s]\n"
     ]
    },
    {
     "name": "stdout",
     "output_type": "stream",
     "text": [
      "heatmap_input shape: torch.Size([1508, 3])\n",
      "lables shape: torch.Size([1508])\n",
      "(1508, 3)\n",
      "acc: 0.5550397877984085\n",
      "precision: ['0.7853', '0.2548', '0.0782']\n",
      "recall: ['0.6356', '0.3706', '0.1489']\n"
     ]
    },
    {
     "name": "stderr",
     "output_type": "stream",
     "text": [
      "Training:   0%|                                                                                | 0/189 [00:00<?, ?it/s]C:\\Users\\zhaoke\\AppData\\Local\\Temp\\ipykernel_9460\\694024310.py:9: UserWarning: To copy construct from a tensor, it is recommended to use sourceTensor.clone().detach() or sourceTensor.clone().detach().requires_grad_(True), rather than torch.tensor(sourceTensor).\n",
      "  y_label = torch.tensor(y_label, device=device)\n",
      "Training:   2%|█▏                                                                      | 3/189 [00:00<00:17, 10.87it/s]"
     ]
    },
    {
     "name": "stdout",
     "output_type": "stream",
     "text": [
      "Epoch[15], mtid pred loss:0.3023\n"
     ]
    },
    {
     "name": "stderr",
     "output_type": "stream",
     "text": [
      "Training:  33%|███████████████████████▋                                               | 63/189 [00:04<00:08, 14.04it/s]"
     ]
    },
    {
     "name": "stdout",
     "output_type": "stream",
     "text": [
      "Epoch[15], mtid pred loss:0.3205\n"
     ]
    },
    {
     "name": "stderr",
     "output_type": "stream",
     "text": [
      "Training:  65%|█████████████████████████████████████████████▌                        | 123/189 [00:08<00:04, 14.79it/s]"
     ]
    },
    {
     "name": "stdout",
     "output_type": "stream",
     "text": [
      "Epoch[15], mtid pred loss:0.2723\n"
     ]
    },
    {
     "name": "stderr",
     "output_type": "stream",
     "text": [
      "Training:  97%|███████████████████████████████████████████████████████████████████▊  | 183/189 [00:12<00:00, 15.21it/s]"
     ]
    },
    {
     "name": "stdout",
     "output_type": "stream",
     "text": [
      "Epoch[15], mtid pred loss:0.3191\n"
     ]
    },
    {
     "name": "stderr",
     "output_type": "stream",
     "text": [
      "Training: 100%|██████████████████████████████████████████████████████████████████████| 189/189 [00:12<00:00, 14.68it/s]\n",
      "Validate:   0%|                                                                                 | 0/24 [00:00<?, ?it/s]C:\\Users\\zhaoke\\AppData\\Local\\Temp\\ipykernel_9460\\694024310.py:46: UserWarning: To copy construct from a tensor, it is recommended to use sourceTensor.clone().detach() or sourceTensor.clone().detach().requires_grad_(True), rather than torch.tensor(sourceTensor).\n",
      "  y_label = torch.tensor(y_label, device=device)\n",
      "Validate: 100%|████████████████████████████████████████████████████████████████████████| 24/24 [00:01<00:00, 20.99it/s]\n"
     ]
    },
    {
     "name": "stdout",
     "output_type": "stream",
     "text": [
      "heatmap_input shape: torch.Size([1508, 3])\n",
      "lables shape: torch.Size([1508])\n",
      "(1508, 3)\n",
      "acc: 0.7413793103448276\n",
      "precision: ['0.7525', '0.4167', '0.0769']\n",
      "recall: ['0.9814', '0.0350', '0.0106']\n"
     ]
    },
    {
     "name": "stderr",
     "output_type": "stream",
     "text": [
      "Training:   0%|                                                                                | 0/189 [00:00<?, ?it/s]C:\\Users\\zhaoke\\AppData\\Local\\Temp\\ipykernel_9460\\694024310.py:9: UserWarning: To copy construct from a tensor, it is recommended to use sourceTensor.clone().detach() or sourceTensor.clone().detach().requires_grad_(True), rather than torch.tensor(sourceTensor).\n",
      "  y_label = torch.tensor(y_label, device=device)\n",
      "Training:   2%|█▏                                                                      | 3/189 [00:00<00:17, 10.81it/s]"
     ]
    },
    {
     "name": "stdout",
     "output_type": "stream",
     "text": [
      "Epoch[16], mtid pred loss:0.1664\n"
     ]
    },
    {
     "name": "stderr",
     "output_type": "stream",
     "text": [
      "Training:  33%|███████████████████████▋                                               | 63/189 [00:04<00:08, 14.15it/s]"
     ]
    },
    {
     "name": "stdout",
     "output_type": "stream",
     "text": [
      "Epoch[16], mtid pred loss:0.2285\n"
     ]
    },
    {
     "name": "stderr",
     "output_type": "stream",
     "text": [
      "Training:  65%|█████████████████████████████████████████████▌                        | 123/189 [00:08<00:04, 15.43it/s]"
     ]
    },
    {
     "name": "stdout",
     "output_type": "stream",
     "text": [
      "Epoch[16], mtid pred loss:0.1181\n"
     ]
    },
    {
     "name": "stderr",
     "output_type": "stream",
     "text": [
      "Training:  97%|███████████████████████████████████████████████████████████████████▊  | 183/189 [00:13<00:00, 13.01it/s]"
     ]
    },
    {
     "name": "stdout",
     "output_type": "stream",
     "text": [
      "Epoch[16], mtid pred loss:0.1411\n"
     ]
    },
    {
     "name": "stderr",
     "output_type": "stream",
     "text": [
      "Training: 100%|██████████████████████████████████████████████████████████████████████| 189/189 [00:13<00:00, 13.69it/s]\n",
      "Validate:   0%|                                                                                 | 0/24 [00:00<?, ?it/s]C:\\Users\\zhaoke\\AppData\\Local\\Temp\\ipykernel_9460\\694024310.py:46: UserWarning: To copy construct from a tensor, it is recommended to use sourceTensor.clone().detach() or sourceTensor.clone().detach().requires_grad_(True), rather than torch.tensor(sourceTensor).\n",
      "  y_label = torch.tensor(y_label, device=device)\n",
      "Validate: 100%|████████████████████████████████████████████████████████████████████████| 24/24 [00:01<00:00, 19.27it/s]\n"
     ]
    },
    {
     "name": "stdout",
     "output_type": "stream",
     "text": [
      "heatmap_input shape: torch.Size([1508, 3])\n",
      "lables shape: torch.Size([1508])\n",
      "(1508, 3)\n",
      "acc: 0.6127320954907162\n",
      "precision: ['0.7582', '0.2219', '0.0952']\n",
      "recall: ['0.7420', '0.2972', '0.0213']\n"
     ]
    },
    {
     "name": "stderr",
     "output_type": "stream",
     "text": [
      "Training:   0%|                                                                                | 0/189 [00:00<?, ?it/s]C:\\Users\\zhaoke\\AppData\\Local\\Temp\\ipykernel_9460\\694024310.py:9: UserWarning: To copy construct from a tensor, it is recommended to use sourceTensor.clone().detach() or sourceTensor.clone().detach().requires_grad_(True), rather than torch.tensor(sourceTensor).\n",
      "  y_label = torch.tensor(y_label, device=device)\n",
      "Training:   1%|▊                                                                       | 2/189 [00:00<00:13, 13.79it/s]"
     ]
    },
    {
     "name": "stdout",
     "output_type": "stream",
     "text": [
      "Epoch[17], mtid pred loss:0.1052\n"
     ]
    },
    {
     "name": "stderr",
     "output_type": "stream",
     "text": [
      "Training:  33%|███████████████████████▎                                               | 62/189 [00:04<00:08, 14.42it/s]"
     ]
    },
    {
     "name": "stdout",
     "output_type": "stream",
     "text": [
      "Epoch[17], mtid pred loss:0.1624\n"
     ]
    },
    {
     "name": "stderr",
     "output_type": "stream",
     "text": [
      "Training:  65%|█████████████████████████████████████████████▏                        | 122/189 [00:09<00:04, 15.07it/s]"
     ]
    },
    {
     "name": "stdout",
     "output_type": "stream",
     "text": [
      "Epoch[17], mtid pred loss:0.0721\n"
     ]
    },
    {
     "name": "stderr",
     "output_type": "stream",
     "text": [
      "Training:  96%|███████████████████████████████████████████████████████████████████▍  | 182/189 [00:13<00:00, 14.51it/s]"
     ]
    },
    {
     "name": "stdout",
     "output_type": "stream",
     "text": [
      "Epoch[17], mtid pred loss:0.0889\n"
     ]
    },
    {
     "name": "stderr",
     "output_type": "stream",
     "text": [
      "Training: 100%|██████████████████████████████████████████████████████████████████████| 189/189 [00:13<00:00, 13.87it/s]\n",
      "Validate:   0%|                                                                                 | 0/24 [00:00<?, ?it/s]C:\\Users\\zhaoke\\AppData\\Local\\Temp\\ipykernel_9460\\694024310.py:46: UserWarning: To copy construct from a tensor, it is recommended to use sourceTensor.clone().detach() or sourceTensor.clone().detach().requires_grad_(True), rather than torch.tensor(sourceTensor).\n",
      "  y_label = torch.tensor(y_label, device=device)\n",
      "Validate: 100%|████████████████████████████████████████████████████████████████████████| 24/24 [00:01<00:00, 20.58it/s]\n"
     ]
    },
    {
     "name": "stdout",
     "output_type": "stream",
     "text": [
      "heatmap_input shape: torch.Size([1508, 3])\n",
      "lables shape: torch.Size([1508])\n",
      "(1508, 3)\n",
      "acc: 0.6518567639257294\n",
      "precision: ['0.7679', '0.2902', '0.1111']\n",
      "recall: ['0.7979', '0.2587', '0.0957']\n"
     ]
    },
    {
     "name": "stderr",
     "output_type": "stream",
     "text": [
      "Training:   0%|                                                                                | 0/189 [00:00<?, ?it/s]C:\\Users\\zhaoke\\AppData\\Local\\Temp\\ipykernel_9460\\694024310.py:9: UserWarning: To copy construct from a tensor, it is recommended to use sourceTensor.clone().detach() or sourceTensor.clone().detach().requires_grad_(True), rather than torch.tensor(sourceTensor).\n",
      "  y_label = torch.tensor(y_label, device=device)\n",
      "Training:   2%|█▏                                                                      | 3/189 [00:00<00:14, 12.49it/s]"
     ]
    },
    {
     "name": "stdout",
     "output_type": "stream",
     "text": [
      "Epoch[18], mtid pred loss:0.0462\n"
     ]
    },
    {
     "name": "stderr",
     "output_type": "stream",
     "text": [
      "Training:  33%|███████████████████████▋                                               | 63/189 [00:04<00:09, 13.98it/s]"
     ]
    },
    {
     "name": "stdout",
     "output_type": "stream",
     "text": [
      "Epoch[18], mtid pred loss:0.0258\n"
     ]
    },
    {
     "name": "stderr",
     "output_type": "stream",
     "text": [
      "Training:  65%|█████████████████████████████████████████████▌                        | 123/189 [00:08<00:04, 14.70it/s]"
     ]
    },
    {
     "name": "stdout",
     "output_type": "stream",
     "text": [
      "Epoch[18], mtid pred loss:0.0291\n"
     ]
    },
    {
     "name": "stderr",
     "output_type": "stream",
     "text": [
      "Training:  97%|███████████████████████████████████████████████████████████████████▊  | 183/189 [00:13<00:00, 14.22it/s]"
     ]
    },
    {
     "name": "stdout",
     "output_type": "stream",
     "text": [
      "Epoch[18], mtid pred loss:0.0267\n"
     ]
    },
    {
     "name": "stderr",
     "output_type": "stream",
     "text": [
      "Training: 100%|██████████████████████████████████████████████████████████████████████| 189/189 [00:13<00:00, 14.12it/s]\n",
      "Validate:   0%|                                                                                 | 0/24 [00:00<?, ?it/s]C:\\Users\\zhaoke\\AppData\\Local\\Temp\\ipykernel_9460\\694024310.py:46: UserWarning: To copy construct from a tensor, it is recommended to use sourceTensor.clone().detach() or sourceTensor.clone().detach().requires_grad_(True), rather than torch.tensor(sourceTensor).\n",
      "  y_label = torch.tensor(y_label, device=device)\n",
      "Validate: 100%|████████████████████████████████████████████████████████████████████████| 24/24 [00:01<00:00, 20.81it/s]\n"
     ]
    },
    {
     "name": "stdout",
     "output_type": "stream",
     "text": [
      "heatmap_input shape: torch.Size([1508, 3])\n",
      "lables shape: torch.Size([1508])\n",
      "(1508, 3)\n",
      "acc: 0.6863395225464191\n",
      "precision: ['0.7658', '0.3050', '0.1364']\n",
      "recall: ['0.8582', '0.2133', '0.0638']\n"
     ]
    },
    {
     "name": "stderr",
     "output_type": "stream",
     "text": [
      "Training:   0%|                                                                                | 0/189 [00:00<?, ?it/s]C:\\Users\\zhaoke\\AppData\\Local\\Temp\\ipykernel_9460\\694024310.py:9: UserWarning: To copy construct from a tensor, it is recommended to use sourceTensor.clone().detach() or sourceTensor.clone().detach().requires_grad_(True), rather than torch.tensor(sourceTensor).\n",
      "  y_label = torch.tensor(y_label, device=device)\n",
      "Training:   2%|█▏                                                                      | 3/189 [00:00<00:16, 11.59it/s]"
     ]
    },
    {
     "name": "stdout",
     "output_type": "stream",
     "text": [
      "Epoch[19], mtid pred loss:0.0275\n"
     ]
    },
    {
     "name": "stderr",
     "output_type": "stream",
     "text": [
      "Training:  33%|███████████████████████▋                                               | 63/189 [00:04<00:09, 12.69it/s]"
     ]
    },
    {
     "name": "stdout",
     "output_type": "stream",
     "text": [
      "Epoch[19], mtid pred loss:0.0122\n"
     ]
    },
    {
     "name": "stderr",
     "output_type": "stream",
     "text": [
      "Training:  65%|█████████████████████████████████████████████▌                        | 123/189 [00:08<00:04, 15.50it/s]"
     ]
    },
    {
     "name": "stdout",
     "output_type": "stream",
     "text": [
      "Epoch[19], mtid pred loss:0.0101\n"
     ]
    },
    {
     "name": "stderr",
     "output_type": "stream",
     "text": [
      "Training:  97%|███████████████████████████████████████████████████████████████████▊  | 183/189 [00:12<00:00, 14.89it/s]"
     ]
    },
    {
     "name": "stdout",
     "output_type": "stream",
     "text": [
      "Epoch[19], mtid pred loss:0.0084\n"
     ]
    },
    {
     "name": "stderr",
     "output_type": "stream",
     "text": [
      "Training: 100%|██████████████████████████████████████████████████████████████████████| 189/189 [00:13<00:00, 14.23it/s]\n",
      "Validate:   0%|                                                                                 | 0/24 [00:00<?, ?it/s]C:\\Users\\zhaoke\\AppData\\Local\\Temp\\ipykernel_9460\\694024310.py:46: UserWarning: To copy construct from a tensor, it is recommended to use sourceTensor.clone().detach() or sourceTensor.clone().detach().requires_grad_(True), rather than torch.tensor(sourceTensor).\n",
      "  y_label = torch.tensor(y_label, device=device)\n",
      "Validate: 100%|████████████████████████████████████████████████████████████████████████| 24/24 [00:01<00:00, 20.97it/s]\n"
     ]
    },
    {
     "name": "stdout",
     "output_type": "stream",
     "text": [
      "heatmap_input shape: torch.Size([1508, 3])\n",
      "lables shape: torch.Size([1508])\n",
      "(1508, 3)\n",
      "acc: 0.6836870026525199\n",
      "precision: ['0.7600', '0.2593', '0.2308']\n",
      "recall: ['0.8617', '0.1958', '0.0319']\n"
     ]
    },
    {
     "name": "stderr",
     "output_type": "stream",
     "text": [
      "Training:   0%|                                                                                | 0/189 [00:00<?, ?it/s]C:\\Users\\zhaoke\\AppData\\Local\\Temp\\ipykernel_9460\\694024310.py:9: UserWarning: To copy construct from a tensor, it is recommended to use sourceTensor.clone().detach() or sourceTensor.clone().detach().requires_grad_(True), rather than torch.tensor(sourceTensor).\n",
      "  y_label = torch.tensor(y_label, device=device)\n",
      "Training:   2%|█▏                                                                      | 3/189 [00:00<00:17, 10.35it/s]"
     ]
    },
    {
     "name": "stdout",
     "output_type": "stream",
     "text": [
      "Epoch[20], mtid pred loss:0.0101\n"
     ]
    },
    {
     "name": "stderr",
     "output_type": "stream",
     "text": [
      "Training:  33%|███████████████████████▋                                               | 63/189 [00:04<00:08, 15.16it/s]"
     ]
    },
    {
     "name": "stdout",
     "output_type": "stream",
     "text": [
      "Epoch[20], mtid pred loss:0.0232\n"
     ]
    },
    {
     "name": "stderr",
     "output_type": "stream",
     "text": [
      "Training:  65%|█████████████████████████████████████████████▌                        | 123/189 [00:08<00:05, 12.93it/s]"
     ]
    },
    {
     "name": "stdout",
     "output_type": "stream",
     "text": [
      "Epoch[20], mtid pred loss:0.0060\n"
     ]
    },
    {
     "name": "stderr",
     "output_type": "stream",
     "text": [
      "Training:  97%|███████████████████████████████████████████████████████████████████▊  | 183/189 [00:12<00:00, 13.78it/s]"
     ]
    },
    {
     "name": "stdout",
     "output_type": "stream",
     "text": [
      "Epoch[20], mtid pred loss:0.0037\n"
     ]
    },
    {
     "name": "stderr",
     "output_type": "stream",
     "text": [
      "Training: 100%|██████████████████████████████████████████████████████████████████████| 189/189 [00:13<00:00, 14.37it/s]\n",
      "Validate:   0%|                                                                                 | 0/24 [00:00<?, ?it/s]C:\\Users\\zhaoke\\AppData\\Local\\Temp\\ipykernel_9460\\694024310.py:46: UserWarning: To copy construct from a tensor, it is recommended to use sourceTensor.clone().detach() or sourceTensor.clone().detach().requires_grad_(True), rather than torch.tensor(sourceTensor).\n",
      "  y_label = torch.tensor(y_label, device=device)\n",
      "Validate: 100%|████████████████████████████████████████████████████████████████████████| 24/24 [00:01<00:00, 19.36it/s]\n"
     ]
    },
    {
     "name": "stdout",
     "output_type": "stream",
     "text": [
      "heatmap_input shape: torch.Size([1508, 3])\n",
      "lables shape: torch.Size([1508])\n",
      "(1508, 3)\n",
      "acc: 0.7022546419098143\n",
      "precision: ['0.7645', '0.2979', '0.2500']\n",
      "recall: ['0.8865', '0.1958', '0.0319']\n"
     ]
    },
    {
     "name": "stderr",
     "output_type": "stream",
     "text": [
      "Training:   0%|                                                                                | 0/189 [00:00<?, ?it/s]C:\\Users\\zhaoke\\AppData\\Local\\Temp\\ipykernel_9460\\694024310.py:9: UserWarning: To copy construct from a tensor, it is recommended to use sourceTensor.clone().detach() or sourceTensor.clone().detach().requires_grad_(True), rather than torch.tensor(sourceTensor).\n",
      "  y_label = torch.tensor(y_label, device=device)\n",
      "Training:   2%|█▏                                                                      | 3/189 [00:00<00:17, 10.92it/s]"
     ]
    },
    {
     "name": "stdout",
     "output_type": "stream",
     "text": [
      "Epoch[21], mtid pred loss:0.0026\n"
     ]
    },
    {
     "name": "stderr",
     "output_type": "stream",
     "text": [
      "Training:  33%|███████████████████████▋                                               | 63/189 [00:04<00:08, 15.15it/s]"
     ]
    },
    {
     "name": "stdout",
     "output_type": "stream",
     "text": [
      "Epoch[21], mtid pred loss:0.0024\n"
     ]
    },
    {
     "name": "stderr",
     "output_type": "stream",
     "text": [
      "Training:  65%|█████████████████████████████████████████████▌                        | 123/189 [00:08<00:04, 13.71it/s]"
     ]
    },
    {
     "name": "stdout",
     "output_type": "stream",
     "text": [
      "Epoch[21], mtid pred loss:0.0037\n"
     ]
    },
    {
     "name": "stderr",
     "output_type": "stream",
     "text": [
      "Training:  97%|████████████████████████████████████████████████████████████████████▏ | 184/189 [00:11<00:00, 19.73it/s]"
     ]
    },
    {
     "name": "stdout",
     "output_type": "stream",
     "text": [
      "Epoch[21], mtid pred loss:0.0057\n"
     ]
    },
    {
     "name": "stderr",
     "output_type": "stream",
     "text": [
      "Training: 100%|██████████████████████████████████████████████████████████████████████| 189/189 [00:11<00:00, 16.41it/s]\n",
      "Validate:   0%|                                                                                 | 0/24 [00:00<?, ?it/s]C:\\Users\\zhaoke\\AppData\\Local\\Temp\\ipykernel_9460\\694024310.py:46: UserWarning: To copy construct from a tensor, it is recommended to use sourceTensor.clone().detach() or sourceTensor.clone().detach().requires_grad_(True), rather than torch.tensor(sourceTensor).\n",
      "  y_label = torch.tensor(y_label, device=device)\n",
      "Validate: 100%|████████████████████████████████████████████████████████████████████████| 24/24 [00:01<00:00, 20.77it/s]\n"
     ]
    },
    {
     "name": "stdout",
     "output_type": "stream",
     "text": [
      "heatmap_input shape: torch.Size([1508, 3])\n",
      "lables shape: torch.Size([1508])\n",
      "(1508, 3)\n",
      "acc: 0.6956233421750663\n",
      "precision: ['0.7666', '0.3122', '0.1000']\n",
      "recall: ['0.8679', '0.2413', '0.0106']\n"
     ]
    },
    {
     "name": "stderr",
     "output_type": "stream",
     "text": [
      "Training:   0%|                                                                                | 0/189 [00:00<?, ?it/s]C:\\Users\\zhaoke\\AppData\\Local\\Temp\\ipykernel_9460\\694024310.py:9: UserWarning: To copy construct from a tensor, it is recommended to use sourceTensor.clone().detach() or sourceTensor.clone().detach().requires_grad_(True), rather than torch.tensor(sourceTensor).\n",
      "  y_label = torch.tensor(y_label, device=device)\n",
      "Training:   1%|▊                                                                       | 2/189 [00:00<00:12, 15.04it/s]"
     ]
    },
    {
     "name": "stdout",
     "output_type": "stream",
     "text": [
      "Epoch[22], mtid pred loss:0.0037\n"
     ]
    },
    {
     "name": "stderr",
     "output_type": "stream",
     "text": [
      "Training:  33%|███████████████████████▎                                               | 62/189 [00:04<00:09, 12.78it/s]"
     ]
    },
    {
     "name": "stdout",
     "output_type": "stream",
     "text": [
      "Epoch[22], mtid pred loss:0.0025\n"
     ]
    },
    {
     "name": "stderr",
     "output_type": "stream",
     "text": [
      "Training:  65%|█████████████████████████████████████████████▏                        | 122/189 [00:08<00:05, 13.33it/s]"
     ]
    },
    {
     "name": "stdout",
     "output_type": "stream",
     "text": [
      "Epoch[22], mtid pred loss:0.0015\n"
     ]
    },
    {
     "name": "stderr",
     "output_type": "stream",
     "text": [
      "Training:  96%|███████████████████████████████████████████████████████████████████▍  | 182/189 [00:13<00:00, 14.29it/s]"
     ]
    },
    {
     "name": "stdout",
     "output_type": "stream",
     "text": [
      "Epoch[22], mtid pred loss:0.0014\n"
     ]
    },
    {
     "name": "stderr",
     "output_type": "stream",
     "text": [
      "Training: 100%|██████████████████████████████████████████████████████████████████████| 189/189 [00:13<00:00, 14.03it/s]\n",
      "Validate:   0%|                                                                                 | 0/24 [00:00<?, ?it/s]C:\\Users\\zhaoke\\AppData\\Local\\Temp\\ipykernel_9460\\694024310.py:46: UserWarning: To copy construct from a tensor, it is recommended to use sourceTensor.clone().detach() or sourceTensor.clone().detach().requires_grad_(True), rather than torch.tensor(sourceTensor).\n",
      "  y_label = torch.tensor(y_label, device=device)\n",
      "Validate: 100%|████████████████████████████████████████████████████████████████████████| 24/24 [00:01<00:00, 21.22it/s]\n"
     ]
    },
    {
     "name": "stdout",
     "output_type": "stream",
     "text": [
      "heatmap_input shape: torch.Size([1508, 3])\n",
      "lables shape: torch.Size([1508])\n",
      "(1508, 3)\n",
      "acc: 0.7009283819628647\n",
      "precision: ['0.7695', '0.3257', '0.1000']\n",
      "recall: ['0.8732', '0.2483', '0.0106']\n"
     ]
    },
    {
     "name": "stderr",
     "output_type": "stream",
     "text": [
      "Training:   0%|                                                                                | 0/189 [00:00<?, ?it/s]C:\\Users\\zhaoke\\AppData\\Local\\Temp\\ipykernel_9460\\694024310.py:9: UserWarning: To copy construct from a tensor, it is recommended to use sourceTensor.clone().detach() or sourceTensor.clone().detach().requires_grad_(True), rather than torch.tensor(sourceTensor).\n",
      "  y_label = torch.tensor(y_label, device=device)\n",
      "Training:   2%|█▏                                                                      | 3/189 [00:00<00:16, 11.47it/s]"
     ]
    },
    {
     "name": "stdout",
     "output_type": "stream",
     "text": [
      "Epoch[23], mtid pred loss:0.0019\n"
     ]
    },
    {
     "name": "stderr",
     "output_type": "stream",
     "text": [
      "Training:  33%|███████████████████████▋                                               | 63/189 [00:04<00:08, 15.32it/s]"
     ]
    },
    {
     "name": "stdout",
     "output_type": "stream",
     "text": [
      "Epoch[23], mtid pred loss:0.0014\n"
     ]
    },
    {
     "name": "stderr",
     "output_type": "stream",
     "text": [
      "Training:  65%|█████████████████████████████████████████████▌                        | 123/189 [00:08<00:04, 14.72it/s]"
     ]
    },
    {
     "name": "stdout",
     "output_type": "stream",
     "text": [
      "Epoch[23], mtid pred loss:0.0013\n"
     ]
    },
    {
     "name": "stderr",
     "output_type": "stream",
     "text": [
      "Training:  97%|███████████████████████████████████████████████████████████████████▊  | 183/189 [00:12<00:00, 15.19it/s]"
     ]
    },
    {
     "name": "stdout",
     "output_type": "stream",
     "text": [
      "Epoch[23], mtid pred loss:0.0033\n"
     ]
    },
    {
     "name": "stderr",
     "output_type": "stream",
     "text": [
      "Training: 100%|██████████████████████████████████████████████████████████████████████| 189/189 [00:12<00:00, 14.77it/s]\n",
      "Validate:   0%|                                                                                 | 0/24 [00:00<?, ?it/s]C:\\Users\\zhaoke\\AppData\\Local\\Temp\\ipykernel_9460\\694024310.py:46: UserWarning: To copy construct from a tensor, it is recommended to use sourceTensor.clone().detach() or sourceTensor.clone().detach().requires_grad_(True), rather than torch.tensor(sourceTensor).\n",
      "  y_label = torch.tensor(y_label, device=device)\n",
      "Validate: 100%|████████████████████████████████████████████████████████████████████████| 24/24 [00:01<00:00, 19.67it/s]\n"
     ]
    },
    {
     "name": "stdout",
     "output_type": "stream",
     "text": [
      "heatmap_input shape: torch.Size([1508, 3])\n",
      "lables shape: torch.Size([1508])\n",
      "(1508, 3)\n",
      "acc: 0.6989389920424404\n",
      "precision: ['0.7677', '0.3029', '0.2308']\n",
      "recall: ['0.8759', '0.2203', '0.0319']\n"
     ]
    },
    {
     "name": "stderr",
     "output_type": "stream",
     "text": [
      "Training:   0%|                                                                                | 0/189 [00:00<?, ?it/s]C:\\Users\\zhaoke\\AppData\\Local\\Temp\\ipykernel_9460\\694024310.py:9: UserWarning: To copy construct from a tensor, it is recommended to use sourceTensor.clone().detach() or sourceTensor.clone().detach().requires_grad_(True), rather than torch.tensor(sourceTensor).\n",
      "  y_label = torch.tensor(y_label, device=device)\n",
      "Training:   2%|█▏                                                                      | 3/189 [00:00<00:17, 10.67it/s]"
     ]
    },
    {
     "name": "stdout",
     "output_type": "stream",
     "text": [
      "Epoch[24], mtid pred loss:0.0010\n"
     ]
    },
    {
     "name": "stderr",
     "output_type": "stream",
     "text": [
      "Training:  33%|███████████████████████▋                                               | 63/189 [00:04<00:08, 14.99it/s]"
     ]
    },
    {
     "name": "stdout",
     "output_type": "stream",
     "text": [
      "Epoch[24], mtid pred loss:0.0011\n"
     ]
    },
    {
     "name": "stderr",
     "output_type": "stream",
     "text": [
      "Training:  65%|█████████████████████████████████████████████▌                        | 123/189 [00:08<00:06, 10.74it/s]"
     ]
    },
    {
     "name": "stdout",
     "output_type": "stream",
     "text": [
      "Epoch[24], mtid pred loss:0.0033\n"
     ]
    },
    {
     "name": "stderr",
     "output_type": "stream",
     "text": [
      "Training:  97%|███████████████████████████████████████████████████████████████████▊  | 183/189 [00:12<00:00, 15.14it/s]"
     ]
    },
    {
     "name": "stdout",
     "output_type": "stream",
     "text": [
      "Epoch[24], mtid pred loss:0.0020\n"
     ]
    },
    {
     "name": "stderr",
     "output_type": "stream",
     "text": [
      "Training: 100%|██████████████████████████████████████████████████████████████████████| 189/189 [00:13<00:00, 14.33it/s]\n",
      "Validate:   0%|                                                                                 | 0/24 [00:00<?, ?it/s]C:\\Users\\zhaoke\\AppData\\Local\\Temp\\ipykernel_9460\\694024310.py:46: UserWarning: To copy construct from a tensor, it is recommended to use sourceTensor.clone().detach() or sourceTensor.clone().detach().requires_grad_(True), rather than torch.tensor(sourceTensor).\n",
      "  y_label = torch.tensor(y_label, device=device)\n",
      "Validate: 100%|████████████████████████████████████████████████████████████████████████| 24/24 [00:01<00:00, 20.93it/s]\n"
     ]
    },
    {
     "name": "stdout",
     "output_type": "stream",
     "text": [
      "heatmap_input shape: torch.Size([1508, 3])\n",
      "lables shape: torch.Size([1508])\n",
      "(1508, 3)\n",
      "acc: 0.7022546419098143\n",
      "precision: ['0.7707', '0.3303', '0.1667']\n",
      "recall: ['0.8732', '0.2517', '0.0213']\n"
     ]
    },
    {
     "name": "stderr",
     "output_type": "stream",
     "text": [
      "Training:   0%|                                                                                | 0/189 [00:00<?, ?it/s]C:\\Users\\zhaoke\\AppData\\Local\\Temp\\ipykernel_9460\\694024310.py:9: UserWarning: To copy construct from a tensor, it is recommended to use sourceTensor.clone().detach() or sourceTensor.clone().detach().requires_grad_(True), rather than torch.tensor(sourceTensor).\n",
      "  y_label = torch.tensor(y_label, device=device)\n",
      "Training:   2%|█▏                                                                      | 3/189 [00:00<00:17, 10.54it/s]"
     ]
    },
    {
     "name": "stdout",
     "output_type": "stream",
     "text": [
      "Epoch[25], mtid pred loss:0.0013\n"
     ]
    },
    {
     "name": "stderr",
     "output_type": "stream",
     "text": [
      "Training:  33%|███████████████████████▋                                               | 63/189 [00:04<00:08, 15.40it/s]"
     ]
    },
    {
     "name": "stdout",
     "output_type": "stream",
     "text": [
      "Epoch[25], mtid pred loss:0.0007\n"
     ]
    },
    {
     "name": "stderr",
     "output_type": "stream",
     "text": [
      "Training:  65%|█████████████████████████████████████████████▌                        | 123/189 [00:08<00:05, 11.44it/s]"
     ]
    },
    {
     "name": "stdout",
     "output_type": "stream",
     "text": [
      "Epoch[25], mtid pred loss:0.0018\n"
     ]
    },
    {
     "name": "stderr",
     "output_type": "stream",
     "text": [
      "Training:  97%|███████████████████████████████████████████████████████████████████▊  | 183/189 [00:12<00:00, 14.40it/s]"
     ]
    },
    {
     "name": "stdout",
     "output_type": "stream",
     "text": [
      "Epoch[25], mtid pred loss:0.0335\n"
     ]
    },
    {
     "name": "stderr",
     "output_type": "stream",
     "text": [
      "Training: 100%|██████████████████████████████████████████████████████████████████████| 189/189 [00:13<00:00, 14.15it/s]\n",
      "Validate:   0%|                                                                                 | 0/24 [00:00<?, ?it/s]C:\\Users\\zhaoke\\AppData\\Local\\Temp\\ipykernel_9460\\694024310.py:46: UserWarning: To copy construct from a tensor, it is recommended to use sourceTensor.clone().detach() or sourceTensor.clone().detach().requires_grad_(True), rather than torch.tensor(sourceTensor).\n",
      "  y_label = torch.tensor(y_label, device=device)\n",
      "Validate: 100%|████████████████████████████████████████████████████████████████████████| 24/24 [00:01<00:00, 19.96it/s]\n"
     ]
    },
    {
     "name": "stdout",
     "output_type": "stream",
     "text": [
      "heatmap_input shape: torch.Size([1508, 3])\n",
      "lables shape: torch.Size([1508])\n",
      "(1508, 3)\n",
      "acc: 0.6312997347480106\n",
      "precision: ['0.7730', '0.2769', '0.0989']\n",
      "recall: ['0.7606', '0.2972', '0.0957']\n"
     ]
    },
    {
     "name": "stderr",
     "output_type": "stream",
     "text": [
      "Training:   0%|                                                                                | 0/189 [00:00<?, ?it/s]C:\\Users\\zhaoke\\AppData\\Local\\Temp\\ipykernel_9460\\694024310.py:9: UserWarning: To copy construct from a tensor, it is recommended to use sourceTensor.clone().detach() or sourceTensor.clone().detach().requires_grad_(True), rather than torch.tensor(sourceTensor).\n",
      "  y_label = torch.tensor(y_label, device=device)\n",
      "Training:   2%|█▏                                                                      | 3/189 [00:00<00:18, 10.32it/s]"
     ]
    },
    {
     "name": "stdout",
     "output_type": "stream",
     "text": [
      "Epoch[26], mtid pred loss:0.1116\n"
     ]
    },
    {
     "name": "stderr",
     "output_type": "stream",
     "text": [
      "Training:  33%|███████████████████████▋                                               | 63/189 [00:04<00:08, 15.51it/s]"
     ]
    },
    {
     "name": "stdout",
     "output_type": "stream",
     "text": [
      "Epoch[26], mtid pred loss:0.3553\n"
     ]
    },
    {
     "name": "stderr",
     "output_type": "stream",
     "text": [
      "Training:  65%|█████████████████████████████████████████████▌                        | 123/189 [00:08<00:05, 12.11it/s]"
     ]
    },
    {
     "name": "stdout",
     "output_type": "stream",
     "text": [
      "Epoch[26], mtid pred loss:0.2898\n"
     ]
    },
    {
     "name": "stderr",
     "output_type": "stream",
     "text": [
      "Training:  97%|███████████████████████████████████████████████████████████████████▊  | 183/189 [00:12<00:00, 13.77it/s]"
     ]
    },
    {
     "name": "stdout",
     "output_type": "stream",
     "text": [
      "Epoch[26], mtid pred loss:0.3143\n"
     ]
    },
    {
     "name": "stderr",
     "output_type": "stream",
     "text": [
      "Training: 100%|██████████████████████████████████████████████████████████████████████| 189/189 [00:12<00:00, 14.78it/s]\n",
      "Validate:   0%|                                                                                 | 0/24 [00:00<?, ?it/s]C:\\Users\\zhaoke\\AppData\\Local\\Temp\\ipykernel_9460\\694024310.py:46: UserWarning: To copy construct from a tensor, it is recommended to use sourceTensor.clone().detach() or sourceTensor.clone().detach().requires_grad_(True), rather than torch.tensor(sourceTensor).\n",
      "  y_label = torch.tensor(y_label, device=device)\n",
      "Validate: 100%|████████████████████████████████████████████████████████████████████████| 24/24 [00:01<00:00, 21.69it/s]\n"
     ]
    },
    {
     "name": "stdout",
     "output_type": "stream",
     "text": [
      "heatmap_input shape: torch.Size([1508, 3])\n",
      "lables shape: torch.Size([1508])\n",
      "(1508, 3)\n",
      "acc: 0.7400530503978779\n",
      "precision: ['0.7514', '0.4074', '0.1538']\n",
      "recall: ['0.9778', '0.0385', '0.0213']\n"
     ]
    },
    {
     "name": "stderr",
     "output_type": "stream",
     "text": [
      "Training:   0%|                                                                                | 0/189 [00:00<?, ?it/s]C:\\Users\\zhaoke\\AppData\\Local\\Temp\\ipykernel_9460\\694024310.py:9: UserWarning: To copy construct from a tensor, it is recommended to use sourceTensor.clone().detach() or sourceTensor.clone().detach().requires_grad_(True), rather than torch.tensor(sourceTensor).\n",
      "  y_label = torch.tensor(y_label, device=device)\n",
      "Training:   2%|█▌                                                                      | 4/189 [00:00<00:11, 16.21it/s]"
     ]
    },
    {
     "name": "stdout",
     "output_type": "stream",
     "text": [
      "Epoch[27], mtid pred loss:0.1233\n"
     ]
    },
    {
     "name": "stderr",
     "output_type": "stream",
     "text": [
      "Training:  33%|███████████████████████▎                                               | 62/189 [00:04<00:09, 13.76it/s]"
     ]
    },
    {
     "name": "stdout",
     "output_type": "stream",
     "text": [
      "Epoch[27], mtid pred loss:0.2141\n"
     ]
    },
    {
     "name": "stderr",
     "output_type": "stream",
     "text": [
      "Training:  65%|█████████████████████████████████████████████▏                        | 122/189 [00:08<00:05, 12.92it/s]"
     ]
    },
    {
     "name": "stdout",
     "output_type": "stream",
     "text": [
      "Epoch[27], mtid pred loss:0.1431\n"
     ]
    },
    {
     "name": "stderr",
     "output_type": "stream",
     "text": [
      "Training:  96%|███████████████████████████████████████████████████████████████████▍  | 182/189 [00:12<00:00, 12.85it/s]"
     ]
    },
    {
     "name": "stdout",
     "output_type": "stream",
     "text": [
      "Epoch[27], mtid pred loss:0.1107\n"
     ]
    },
    {
     "name": "stderr",
     "output_type": "stream",
     "text": [
      "Training: 100%|██████████████████████████████████████████████████████████████████████| 189/189 [00:13<00:00, 14.44it/s]\n",
      "Validate:   0%|                                                                                 | 0/24 [00:00<?, ?it/s]C:\\Users\\zhaoke\\AppData\\Local\\Temp\\ipykernel_9460\\694024310.py:46: UserWarning: To copy construct from a tensor, it is recommended to use sourceTensor.clone().detach() or sourceTensor.clone().detach().requires_grad_(True), rather than torch.tensor(sourceTensor).\n",
      "  y_label = torch.tensor(y_label, device=device)\n",
      "Validate: 100%|████████████████████████████████████████████████████████████████████████| 24/24 [00:01<00:00, 20.55it/s]\n"
     ]
    },
    {
     "name": "stdout",
     "output_type": "stream",
     "text": [
      "heatmap_input shape: torch.Size([1508, 3])\n",
      "lables shape: torch.Size([1508])\n",
      "(1508, 3)\n",
      "acc: 0.7122015915119363\n",
      "precision: ['0.7639', '0.3377', '0.1500']\n",
      "recall: ['0.9034', '0.1818', '0.0319']\n"
     ]
    },
    {
     "name": "stderr",
     "output_type": "stream",
     "text": [
      "Training:   0%|                                                                                | 0/189 [00:00<?, ?it/s]C:\\Users\\zhaoke\\AppData\\Local\\Temp\\ipykernel_9460\\694024310.py:9: UserWarning: To copy construct from a tensor, it is recommended to use sourceTensor.clone().detach() or sourceTensor.clone().detach().requires_grad_(True), rather than torch.tensor(sourceTensor).\n",
      "  y_label = torch.tensor(y_label, device=device)\n",
      "Training:   2%|█▏                                                                      | 3/189 [00:00<00:17, 10.91it/s]"
     ]
    },
    {
     "name": "stdout",
     "output_type": "stream",
     "text": [
      "Epoch[28], mtid pred loss:0.1282\n"
     ]
    },
    {
     "name": "stderr",
     "output_type": "stream",
     "text": [
      "Training:  33%|███████████████████████▋                                               | 63/189 [00:04<00:08, 15.72it/s]"
     ]
    },
    {
     "name": "stdout",
     "output_type": "stream",
     "text": [
      "Epoch[28], mtid pred loss:0.0757\n"
     ]
    },
    {
     "name": "stderr",
     "output_type": "stream",
     "text": [
      "Training:  65%|█████████████████████████████████████████████▌                        | 123/189 [00:08<00:05, 12.97it/s]"
     ]
    },
    {
     "name": "stdout",
     "output_type": "stream",
     "text": [
      "Epoch[28], mtid pred loss:0.0693\n"
     ]
    },
    {
     "name": "stderr",
     "output_type": "stream",
     "text": [
      "Training:  97%|███████████████████████████████████████████████████████████████████▊  | 183/189 [00:12<00:00, 15.38it/s]"
     ]
    },
    {
     "name": "stdout",
     "output_type": "stream",
     "text": [
      "Epoch[28], mtid pred loss:0.0714\n"
     ]
    },
    {
     "name": "stderr",
     "output_type": "stream",
     "text": [
      "Training: 100%|██████████████████████████████████████████████████████████████████████| 189/189 [00:12<00:00, 14.62it/s]\n",
      "Validate:   0%|                                                                                 | 0/24 [00:00<?, ?it/s]C:\\Users\\zhaoke\\AppData\\Local\\Temp\\ipykernel_9460\\694024310.py:46: UserWarning: To copy construct from a tensor, it is recommended to use sourceTensor.clone().detach() or sourceTensor.clone().detach().requires_grad_(True), rather than torch.tensor(sourceTensor).\n",
      "  y_label = torch.tensor(y_label, device=device)\n",
      "Validate: 100%|████████████████████████████████████████████████████████████████████████| 24/24 [00:01<00:00, 21.06it/s]\n"
     ]
    },
    {
     "name": "stdout",
     "output_type": "stream",
     "text": [
      "heatmap_input shape: torch.Size([1508, 3])\n",
      "lables shape: torch.Size([1508])\n",
      "(1508, 3)\n",
      "acc: 0.6936339522546419\n",
      "precision: ['0.7652', '0.3000', '0.0909']\n",
      "recall: ['0.8723', '0.2098', '0.0213']\n"
     ]
    },
    {
     "name": "stderr",
     "output_type": "stream",
     "text": [
      "Training:   0%|                                                                                | 0/189 [00:00<?, ?it/s]C:\\Users\\zhaoke\\AppData\\Local\\Temp\\ipykernel_9460\\694024310.py:9: UserWarning: To copy construct from a tensor, it is recommended to use sourceTensor.clone().detach() or sourceTensor.clone().detach().requires_grad_(True), rather than torch.tensor(sourceTensor).\n",
      "  y_label = torch.tensor(y_label, device=device)\n",
      "Training:   2%|█▏                                                                      | 3/189 [00:00<00:17, 10.82it/s]"
     ]
    },
    {
     "name": "stdout",
     "output_type": "stream",
     "text": [
      "Epoch[29], mtid pred loss:0.0564\n"
     ]
    },
    {
     "name": "stderr",
     "output_type": "stream",
     "text": [
      "Training:  33%|███████████████████████▋                                               | 63/189 [00:04<00:08, 15.45it/s]"
     ]
    },
    {
     "name": "stdout",
     "output_type": "stream",
     "text": [
      "Epoch[29], mtid pred loss:0.0355\n"
     ]
    },
    {
     "name": "stderr",
     "output_type": "stream",
     "text": [
      "Training:  65%|█████████████████████████████████████████████▌                        | 123/189 [00:07<00:03, 20.16it/s]"
     ]
    },
    {
     "name": "stdout",
     "output_type": "stream",
     "text": [
      "Epoch[29], mtid pred loss:0.0434\n"
     ]
    },
    {
     "name": "stderr",
     "output_type": "stream",
     "text": [
      "Training:  97%|███████████████████████████████████████████████████████████████████▊  | 183/189 [00:10<00:00, 15.22it/s]"
     ]
    },
    {
     "name": "stdout",
     "output_type": "stream",
     "text": [
      "Epoch[29], mtid pred loss:0.0399\n"
     ]
    },
    {
     "name": "stderr",
     "output_type": "stream",
     "text": [
      "Training: 100%|██████████████████████████████████████████████████████████████████████| 189/189 [00:11<00:00, 17.07it/s]\n",
      "Validate:   0%|                                                                                 | 0/24 [00:00<?, ?it/s]C:\\Users\\zhaoke\\AppData\\Local\\Temp\\ipykernel_9460\\694024310.py:46: UserWarning: To copy construct from a tensor, it is recommended to use sourceTensor.clone().detach() or sourceTensor.clone().detach().requires_grad_(True), rather than torch.tensor(sourceTensor).\n",
      "  y_label = torch.tensor(y_label, device=device)\n",
      "Validate: 100%|████████████████████████████████████████████████████████████████████████| 24/24 [00:01<00:00, 21.00it/s]\n"
     ]
    },
    {
     "name": "stdout",
     "output_type": "stream",
     "text": [
      "heatmap_input shape: torch.Size([1508, 3])\n",
      "lables shape: torch.Size([1508])\n",
      "(1508, 3)\n",
      "acc: 0.6909814323607427\n",
      "precision: ['0.7696', '0.3014', '0.1538']\n",
      "recall: ['0.8617', '0.2308', '0.0426']\n"
     ]
    },
    {
     "name": "stderr",
     "output_type": "stream",
     "text": [
      "Training:   0%|                                                                                | 0/189 [00:00<?, ?it/s]C:\\Users\\zhaoke\\AppData\\Local\\Temp\\ipykernel_9460\\694024310.py:9: UserWarning: To copy construct from a tensor, it is recommended to use sourceTensor.clone().detach() or sourceTensor.clone().detach().requires_grad_(True), rather than torch.tensor(sourceTensor).\n",
      "  y_label = torch.tensor(y_label, device=device)\n",
      "Training:   2%|█▏                                                                      | 3/189 [00:00<00:13, 13.34it/s]"
     ]
    },
    {
     "name": "stdout",
     "output_type": "stream",
     "text": [
      "Epoch[30], mtid pred loss:0.0199\n"
     ]
    },
    {
     "name": "stderr",
     "output_type": "stream",
     "text": [
      "Training:  33%|███████████████████████▋                                               | 63/189 [00:03<00:07, 16.84it/s]"
     ]
    },
    {
     "name": "stdout",
     "output_type": "stream",
     "text": [
      "Epoch[30], mtid pred loss:0.0137\n"
     ]
    },
    {
     "name": "stderr",
     "output_type": "stream",
     "text": [
      "Training:  65%|█████████████████████████████████████████████▌                        | 123/189 [00:07<00:04, 14.75it/s]"
     ]
    },
    {
     "name": "stdout",
     "output_type": "stream",
     "text": [
      "Epoch[30], mtid pred loss:0.0106\n"
     ]
    },
    {
     "name": "stderr",
     "output_type": "stream",
     "text": [
      "Training:  97%|███████████████████████████████████████████████████████████████████▊  | 183/189 [00:11<00:00, 14.99it/s]"
     ]
    },
    {
     "name": "stdout",
     "output_type": "stream",
     "text": [
      "Epoch[30], mtid pred loss:0.0141\n"
     ]
    },
    {
     "name": "stderr",
     "output_type": "stream",
     "text": [
      "Training: 100%|██████████████████████████████████████████████████████████████████████| 189/189 [00:12<00:00, 15.27it/s]\n",
      "Validate:   0%|                                                                                 | 0/24 [00:00<?, ?it/s]C:\\Users\\zhaoke\\AppData\\Local\\Temp\\ipykernel_9460\\694024310.py:46: UserWarning: To copy construct from a tensor, it is recommended to use sourceTensor.clone().detach() or sourceTensor.clone().detach().requires_grad_(True), rather than torch.tensor(sourceTensor).\n",
      "  y_label = torch.tensor(y_label, device=device)\n",
      "Validate: 100%|████████████████████████████████████████████████████████████████████████| 24/24 [00:01<00:00, 20.80it/s]\n"
     ]
    },
    {
     "name": "stdout",
     "output_type": "stream",
     "text": [
      "heatmap_input shape: torch.Size([1508, 3])\n",
      "lables shape: torch.Size([1508])\n",
      "(1508, 3)\n",
      "acc: 0.7075596816976127\n",
      "precision: ['0.7616', '0.3036', '0.0000']\n",
      "recall: ['0.9007', '0.1783', '0.0000']\n"
     ]
    },
    {
     "name": "stderr",
     "output_type": "stream",
     "text": [
      "Training:   0%|                                                                                | 0/189 [00:00<?, ?it/s]C:\\Users\\zhaoke\\AppData\\Local\\Temp\\ipykernel_9460\\694024310.py:9: UserWarning: To copy construct from a tensor, it is recommended to use sourceTensor.clone().detach() or sourceTensor.clone().detach().requires_grad_(True), rather than torch.tensor(sourceTensor).\n",
      "  y_label = torch.tensor(y_label, device=device)\n",
      "Training:   2%|█▏                                                                      | 3/189 [00:00<00:16, 11.28it/s]"
     ]
    },
    {
     "name": "stdout",
     "output_type": "stream",
     "text": [
      "Epoch[31], mtid pred loss:0.0082\n"
     ]
    },
    {
     "name": "stderr",
     "output_type": "stream",
     "text": [
      "Training:  33%|███████████████████████▋                                               | 63/189 [00:04<00:08, 15.19it/s]"
     ]
    },
    {
     "name": "stdout",
     "output_type": "stream",
     "text": [
      "Epoch[31], mtid pred loss:0.0042\n"
     ]
    },
    {
     "name": "stderr",
     "output_type": "stream",
     "text": [
      "Training:  65%|█████████████████████████████████████████████▌                        | 123/189 [00:08<00:05, 11.31it/s]"
     ]
    },
    {
     "name": "stdout",
     "output_type": "stream",
     "text": [
      "Epoch[31], mtid pred loss:0.0064\n"
     ]
    },
    {
     "name": "stderr",
     "output_type": "stream",
     "text": [
      "Training:  97%|███████████████████████████████████████████████████████████████████▊  | 183/189 [00:12<00:00, 14.04it/s]"
     ]
    },
    {
     "name": "stdout",
     "output_type": "stream",
     "text": [
      "Epoch[31], mtid pred loss:0.0057\n"
     ]
    },
    {
     "name": "stderr",
     "output_type": "stream",
     "text": [
      "Training: 100%|██████████████████████████████████████████████████████████████████████| 189/189 [00:12<00:00, 14.57it/s]\n",
      "Validate:   0%|                                                                                 | 0/24 [00:00<?, ?it/s]C:\\Users\\zhaoke\\AppData\\Local\\Temp\\ipykernel_9460\\694024310.py:46: UserWarning: To copy construct from a tensor, it is recommended to use sourceTensor.clone().detach() or sourceTensor.clone().detach().requires_grad_(True), rather than torch.tensor(sourceTensor).\n",
      "  y_label = torch.tensor(y_label, device=device)\n",
      "Validate: 100%|████████████████████████████████████████████████████████████████████████| 24/24 [00:01<00:00, 21.32it/s]\n"
     ]
    },
    {
     "name": "stdout",
     "output_type": "stream",
     "text": [
      "heatmap_input shape: torch.Size([1508, 3])\n",
      "lables shape: torch.Size([1508])\n",
      "(1508, 3)\n",
      "acc: 0.6843501326259946\n",
      "precision: ['0.7636', '0.2731', '0.0833']\n",
      "recall: ['0.8590', '0.2168', '0.0106']\n"
     ]
    },
    {
     "name": "stderr",
     "output_type": "stream",
     "text": [
      "Training:   0%|                                                                                | 0/189 [00:00<?, ?it/s]C:\\Users\\zhaoke\\AppData\\Local\\Temp\\ipykernel_9460\\694024310.py:9: UserWarning: To copy construct from a tensor, it is recommended to use sourceTensor.clone().detach() or sourceTensor.clone().detach().requires_grad_(True), rather than torch.tensor(sourceTensor).\n",
      "  y_label = torch.tensor(y_label, device=device)\n",
      "Training:   2%|█▏                                                                      | 3/189 [00:00<00:16, 11.14it/s]"
     ]
    },
    {
     "name": "stdout",
     "output_type": "stream",
     "text": [
      "Epoch[32], mtid pred loss:0.0053\n"
     ]
    },
    {
     "name": "stderr",
     "output_type": "stream",
     "text": [
      "Training:  33%|███████████████████████▋                                               | 63/189 [00:04<00:08, 15.46it/s]"
     ]
    },
    {
     "name": "stdout",
     "output_type": "stream",
     "text": [
      "Epoch[32], mtid pred loss:0.0030\n"
     ]
    },
    {
     "name": "stderr",
     "output_type": "stream",
     "text": [
      "Training:  65%|█████████████████████████████████████████████▌                        | 123/189 [00:08<00:05, 12.85it/s]"
     ]
    },
    {
     "name": "stdout",
     "output_type": "stream",
     "text": [
      "Epoch[32], mtid pred loss:0.0037\n"
     ]
    },
    {
     "name": "stderr",
     "output_type": "stream",
     "text": [
      "Training:  97%|███████████████████████████████████████████████████████████████████▊  | 183/189 [00:12<00:00, 15.36it/s]"
     ]
    },
    {
     "name": "stdout",
     "output_type": "stream",
     "text": [
      "Epoch[32], mtid pred loss:0.0045\n"
     ]
    },
    {
     "name": "stderr",
     "output_type": "stream",
     "text": [
      "Training: 100%|██████████████████████████████████████████████████████████████████████| 189/189 [00:12<00:00, 14.61it/s]\n",
      "Validate:   0%|                                                                                 | 0/24 [00:00<?, ?it/s]C:\\Users\\zhaoke\\AppData\\Local\\Temp\\ipykernel_9460\\694024310.py:46: UserWarning: To copy construct from a tensor, it is recommended to use sourceTensor.clone().detach() or sourceTensor.clone().detach().requires_grad_(True), rather than torch.tensor(sourceTensor).\n",
      "  y_label = torch.tensor(y_label, device=device)\n",
      "Validate: 100%|████████████████████████████████████████████████████████████████████████| 24/24 [00:01<00:00, 21.09it/s]\n"
     ]
    },
    {
     "name": "stdout",
     "output_type": "stream",
     "text": [
      "heatmap_input shape: torch.Size([1508, 3])\n",
      "lables shape: torch.Size([1508])\n",
      "(1508, 3)\n",
      "acc: 0.6923076923076923\n",
      "precision: ['0.7608', '0.2822', '0.1000']\n",
      "recall: ['0.8741', '0.1993', '0.0106']\n"
     ]
    },
    {
     "name": "stderr",
     "output_type": "stream",
     "text": [
      "Training:   0%|                                                                                | 0/189 [00:00<?, ?it/s]C:\\Users\\zhaoke\\AppData\\Local\\Temp\\ipykernel_9460\\694024310.py:9: UserWarning: To copy construct from a tensor, it is recommended to use sourceTensor.clone().detach() or sourceTensor.clone().detach().requires_grad_(True), rather than torch.tensor(sourceTensor).\n",
      "  y_label = torch.tensor(y_label, device=device)\n",
      "Training:   2%|█▏                                                                      | 3/189 [00:00<00:15, 11.79it/s]"
     ]
    },
    {
     "name": "stdout",
     "output_type": "stream",
     "text": [
      "Epoch[33], mtid pred loss:0.0022\n"
     ]
    },
    {
     "name": "stderr",
     "output_type": "stream",
     "text": [
      "Training:  33%|███████████████████████▋                                               | 63/189 [00:04<00:08, 15.70it/s]"
     ]
    },
    {
     "name": "stdout",
     "output_type": "stream",
     "text": [
      "Epoch[33], mtid pred loss:0.0062\n"
     ]
    },
    {
     "name": "stderr",
     "output_type": "stream",
     "text": [
      "Training:  65%|█████████████████████████████████████████████▌                        | 123/189 [00:08<00:04, 14.15it/s]"
     ]
    },
    {
     "name": "stdout",
     "output_type": "stream",
     "text": [
      "Epoch[33], mtid pred loss:0.0031\n"
     ]
    },
    {
     "name": "stderr",
     "output_type": "stream",
     "text": [
      "Training:  97%|███████████████████████████████████████████████████████████████████▊  | 183/189 [00:12<00:00, 14.59it/s]"
     ]
    },
    {
     "name": "stdout",
     "output_type": "stream",
     "text": [
      "Epoch[33], mtid pred loss:0.0039\n"
     ]
    },
    {
     "name": "stderr",
     "output_type": "stream",
     "text": [
      "Training: 100%|██████████████████████████████████████████████████████████████████████| 189/189 [00:12<00:00, 14.68it/s]\n",
      "Validate:   0%|                                                                                 | 0/24 [00:00<?, ?it/s]C:\\Users\\zhaoke\\AppData\\Local\\Temp\\ipykernel_9460\\694024310.py:46: UserWarning: To copy construct from a tensor, it is recommended to use sourceTensor.clone().detach() or sourceTensor.clone().detach().requires_grad_(True), rather than torch.tensor(sourceTensor).\n",
      "  y_label = torch.tensor(y_label, device=device)\n",
      "Validate: 100%|████████████████████████████████████████████████████████████████████████| 24/24 [00:01<00:00, 20.75it/s]\n"
     ]
    },
    {
     "name": "stdout",
     "output_type": "stream",
     "text": [
      "heatmap_input shape: torch.Size([1508, 3])\n",
      "lables shape: torch.Size([1508])\n",
      "(1508, 3)\n",
      "acc: 0.6883289124668435\n",
      "precision: ['0.7619', '0.2749', '0.0833']\n",
      "recall: ['0.8679', '0.2028', '0.0106']\n"
     ]
    },
    {
     "name": "stderr",
     "output_type": "stream",
     "text": [
      "Training:   0%|                                                                                | 0/189 [00:00<?, ?it/s]C:\\Users\\zhaoke\\AppData\\Local\\Temp\\ipykernel_9460\\694024310.py:9: UserWarning: To copy construct from a tensor, it is recommended to use sourceTensor.clone().detach() or sourceTensor.clone().detach().requires_grad_(True), rather than torch.tensor(sourceTensor).\n",
      "  y_label = torch.tensor(y_label, device=device)\n",
      "Training:   2%|█▏                                                                      | 3/189 [00:00<00:17, 10.39it/s]"
     ]
    },
    {
     "name": "stdout",
     "output_type": "stream",
     "text": [
      "Epoch[34], mtid pred loss:0.0125\n"
     ]
    },
    {
     "name": "stderr",
     "output_type": "stream",
     "text": [
      "Training:  33%|███████████████████████▋                                               | 63/189 [00:04<00:08, 15.02it/s]"
     ]
    },
    {
     "name": "stdout",
     "output_type": "stream",
     "text": [
      "Epoch[34], mtid pred loss:0.0079\n"
     ]
    },
    {
     "name": "stderr",
     "output_type": "stream",
     "text": [
      "Training:  65%|█████████████████████████████████████████████▌                        | 123/189 [00:08<00:04, 15.19it/s]"
     ]
    },
    {
     "name": "stdout",
     "output_type": "stream",
     "text": [
      "Epoch[34], mtid pred loss:0.0062\n"
     ]
    },
    {
     "name": "stderr",
     "output_type": "stream",
     "text": [
      "Training:  97%|███████████████████████████████████████████████████████████████████▊  | 183/189 [00:12<00:00, 14.47it/s]"
     ]
    },
    {
     "name": "stdout",
     "output_type": "stream",
     "text": [
      "Epoch[34], mtid pred loss:0.0105\n"
     ]
    },
    {
     "name": "stderr",
     "output_type": "stream",
     "text": [
      "Training: 100%|██████████████████████████████████████████████████████████████████████| 189/189 [00:12<00:00, 14.71it/s]\n",
      "Validate:   0%|                                                                                 | 0/24 [00:00<?, ?it/s]C:\\Users\\zhaoke\\AppData\\Local\\Temp\\ipykernel_9460\\694024310.py:46: UserWarning: To copy construct from a tensor, it is recommended to use sourceTensor.clone().detach() or sourceTensor.clone().detach().requires_grad_(True), rather than torch.tensor(sourceTensor).\n",
      "  y_label = torch.tensor(y_label, device=device)\n",
      "Validate: 100%|████████████████████████████████████████████████████████████████████████| 24/24 [00:01<00:00, 20.89it/s]\n"
     ]
    },
    {
     "name": "stdout",
     "output_type": "stream",
     "text": [
      "heatmap_input shape: torch.Size([1508, 3])\n",
      "lables shape: torch.Size([1508])\n",
      "(1508, 3)\n",
      "acc: 0.6710875331564987\n",
      "precision: ['0.7575', '0.2456', '0.0000']\n",
      "recall: ['0.8475', '0.1958', '0.0000']\n",
      "============== END TRAINING ==============\n"
     ]
    }
   ],
   "source": [
    "history1 = []\n",
    "for epoch_id in range(configs[\"fit\"][\"epochs\"]):\n",
    "    # ---------------------------\n",
    "    # -----------TRAIN-----------\n",
    "    # ---------------------------\n",
    "    model.train()\n",
    "    for x_idx, (x_wav, y_label, _) in enumerate(tqdm(train_loader, desc=\"Training\")):\n",
    "        x_mel = w2m(x_wav).to(device)\n",
    "        y_label = torch.tensor(y_label, device=device)\n",
    "        # print(\"shape of x_mel:\", x_mel.shape)\n",
    "        optimizer.zero_grad()\n",
    "        y_pred, _ = model(x=x_mel)\n",
    "        # recon_loss = self.recon_loss(recon_spec, x_mel)\n",
    "        pred_loss = cls_loss(y_pred, y_label)\n",
    "        pred_loss.backward()\n",
    "        optimizer.step()\n",
    "\n",
    "        if x_idx > 2:\n",
    "            history1.append(pred_loss.item())\n",
    "        if x_idx % 60 == 0:\n",
    "            print(f\"Epoch[{epoch_id}], mtid pred loss:{pred_loss.item():.4f}\")\n",
    "    if epoch_id >= configs[\"fit\"][\"start_scheduler_epoch\"]:\n",
    "        scheduler.step()\n",
    "\n",
    "    # ---------------------------\n",
    "    # -----------SAVE------------\n",
    "    # ---------------------------\n",
    "    plt.figure(0)\n",
    "    plt.plot(range(len(history1)), history1, c=\"green\", alpha=0.7)\n",
    "    plt.savefig(run_save_dir + f'cls_loss_iter_{epoch_id}.png')\n",
    "    plt.close()\n",
    "    # if epoch > 6 and epoch % 2 == 0:\n",
    "    os.makedirs(run_save_dir + f\"model_epoch_{epoch_id}/\", exist_ok=True)\n",
    "    tmp_model_path = \"{model}model_{epoch}.pth\".format(\n",
    "        model=run_save_dir + f\"model_epoch_{epoch_id}/\",\n",
    "        epoch=epoch_id)\n",
    "    torch.save(model.state_dict(), tmp_model_path)\n",
    "    # ---------------------------\n",
    "    # -----------TEST------------\n",
    "    # ---------------------------\n",
    "    model.eval()\n",
    "    heatmap_input = None\n",
    "    labels = None\n",
    "    for x_idx, (x_wav, y_label, _) in enumerate(tqdm(valid_loader, desc=\"Validate\")):\n",
    "        x_mel = w2m(x_wav).to(device)\n",
    "        y_label = torch.tensor(y_label, device=device)\n",
    "        y_pred, _ = model(x=x_mel)\n",
    "        if x_idx == 0:\n",
    "            heatmap_input, labels = y_pred, y_label\n",
    "        else:\n",
    "            heatmap_input = torch.concat((heatmap_input, y_pred), dim=0)\n",
    "            labels = torch.concat((labels, y_label), dim=0)\n",
    "        # if x_idx * configs[\"fit\"][\"batch_size\"] > 800:\n",
    "        #     break\n",
    "    print(\"heatmap_input shape:\", heatmap_input.shape)\n",
    "    print(\"lables shape:\", labels.shape)\n",
    "    # if epoch > 3:\n",
    "    #     self.plot_reduction(resume_path=\"\", load_epoch=epoch, reducers=[\"heatmap\"])\n",
    "    heatmap_input = heatmap_input.detach().cpu().numpy()\n",
    "    labels = labels.detach().cpu().numpy()\n",
    "    calc_accuracy(pred_matrix=heatmap_input, label_vec=labels,\n",
    "                  save_path=run_save_dir + f\"/accuracy_epoch_{epoch_id}.txt\")\n",
    "    plot_heatmap(pred_matrix=heatmap_input, label_vec=labels,\n",
    "                 ticks=[\"healthy\", \"symptomatic\", \"COVID-19\"],\n",
    "                 save_path=run_save_dir + f\"/heatmap_epoch_{epoch_id}.png\")\n",
    "print(\"============== END TRAINING ==============\")"
   ]
  },
  {
   "cell_type": "code",
   "execution_count": 13,
   "id": "346ae4f1-89af-41e0-a5f2-b6f9bc356cf5",
   "metadata": {},
   "outputs": [
    {
     "data": {
      "text/plain": [
       "torch.Size([64, 80, 94])"
      ]
     },
     "execution_count": 13,
     "metadata": {},
     "output_type": "execute_result"
    }
   ],
   "source": [
    "model.eval()\n",
    "tsne_input = None\n",
    "heatmap_input = None\n",
    "labels = None\n",
    "for x_idx, (x_wav, y_label, _) in enumerate(tqdm(test_loader, desc=\"Test\")):\n",
    "    x_mel = w2m(x_wav).to(device)\n",
    "    y_label = torch.tensor(y_label, device=device)\n",
    "    y_pred, featmap = model(x=x_mel)\n",
    "    if x_idx == 0:\n",
    "        heatmap_input, labels, tsne_input = y_pred, y_label, featmap\n",
    "    else:\n",
    "        heatmap_input = torch.concat((heatmap_input, y_pred), dim=0)\n",
    "        labels = torch.concat((labels, y_label), dim=0)\n",
    "        tsne_input = torch.concat((tsne_input, featmap), dim=0)\n",
    "    if x_idx * configs[\"fit\"][\"batch_size\"] > 800:\n",
    "        break\n",
    "print(\"heatmap_input shape:\", heatmap_input.shape)\n",
    "print(\"lables shape:\", labels.shape)\n",
    "# plot_reduction(resume_path=\"\", load_epoch=epoch, reducers=[\"heatmap\"])\n",
    "heatmap_input = heatmap_input.detach().cpu().numpy()\n",
    "labels = labels.detach().cpu().numpy()\n",
    "tsne_input = tsne_input.detach().cpu().numpy()"
   ]
  }
 ],
 "metadata": {
  "kernelspec": {
   "display_name": "Python 3 (ipykernel)",
   "language": "python",
   "name": "python3"
  },
  "language_info": {
   "codemirror_mode": {
    "name": "ipython",
    "version": 3
   },
   "file_extension": ".py",
   "mimetype": "text/x-python",
   "name": "python",
   "nbconvert_exporter": "python",
   "pygments_lexer": "ipython3",
   "version": "3.8.5"
  }
 },
 "nbformat": 4,
 "nbformat_minor": 5
}
