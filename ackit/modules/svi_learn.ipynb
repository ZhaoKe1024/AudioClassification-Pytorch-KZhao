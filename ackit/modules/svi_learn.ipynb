{
 "cells": [
  {
   "cell_type": "code",
   "execution_count": null,
   "id": "efd5b020-eb42-43b9-ac0d-fcf0084aff08",
   "metadata": {},
   "outputs": [],
   "source": [
    "import numpy as np\n",
    "import torch\n",
    "from torch import nn\n",
    "from torch.autograd import Variable"
   ]
  },
  {
   "cell_type": "code",
   "execution_count": null,
   "id": "e5744835-4f6e-4d40-8714-e94dcc43b67e",
   "metadata": {},
   "outputs": [],
   "source": [
    "class ImportanceWeightedSampler(object):\n",
    "    \"\"\"\n",
    "    Importance weighted sampler [Burda 2015] to\n",
    "    be used in conjunction with SVI.\n",
    "    \"\"\"\n",
    "\n",
    "    def __init__(self, mc=1, iw=1):\n",
    "        \"\"\"\n",
    "        Initialise a new sampler.\n",
    "        :param mc: number of Monte Carlo samples\n",
    "        :param iw: number of Importance Weighted samples\n",
    "        \"\"\"\n",
    "        self.mc = mc\n",
    "        self.iw = iw\n",
    "\n",
    "    def resample(self, x):\n",
    "        return x.repeat(self.mc * self.iw, 1)\n",
    "\n",
    "    def __call__(self, elbo):\n",
    "        elbo = elbo.view(self.mc, self.iw, -1)\n",
    "        elbo = torch.mean(log_sum_exp(elbo, dim=1, sum_op=torch.mean), dim=0)\n",
    "        return elbo.view(-1)"
   ]
  },
  {
   "cell_type": "code",
   "execution_count": null,
   "id": "cf6d913b-31bc-4806-9827-86d97fc8e5c7",
   "metadata": {},
   "outputs": [],
   "source": [
    "def enumerate_discrete(x, y_dim):\n",
    "    \"\"\"\n",
    "    Generates a `torch.Tensor` of size batch_size x n_labels of\n",
    "    the given label.\n",
    "\n",
    "    Example: generate_label(2, 1, 3) #=> torch.Tensor([[0, 1, 0],\n",
    "                                                       [0, 1, 0]])\n",
    "    :param x: tensor with batch size to mimic\n",
    "    :param y_dim: number of total labels\n",
    "    :return variable\n",
    "    \"\"\"\n",
    "\n",
    "    def batch(batch_size, label):\n",
    "        labels = (torch.ones(batch_size, 1) * label).type(torch.LongTensor)\n",
    "        y = torch.zeros((batch_size, y_dim))\n",
    "        y.scatter_(1, labels, 1)\n",
    "        return y.type(torch.LongTensor)\n",
    "\n",
    "    batch_size = x.size(0)\n",
    "    generated = torch.cat([batch(batch_size, i) for i in range(y_dim)])\n",
    "\n",
    "    if x.is_cuda:\n",
    "        generated = generated.cuda()\n",
    "\n",
    "    return Variable(generated.float())"
   ]
  },
  {
   "cell_type": "code",
   "execution_count": null,
   "id": "6a43d503-b411-4537-ab41-b2b70944c63b",
   "metadata": {},
   "outputs": [],
   "source": [
    "x = torch.randn(size=(8, 32, 6, 5))"
   ]
  }
 ],
 "metadata": {
  "kernelspec": {
   "display_name": "Python 3 (ipykernel)",
   "language": "python",
   "name": "python3"
  },
  "language_info": {
   "codemirror_mode": {
    "name": "ipython",
    "version": 3
   },
   "file_extension": ".py",
   "mimetype": "text/x-python",
   "name": "python",
   "nbconvert_exporter": "python",
   "pygments_lexer": "ipython3",
   "version": "3.8.5"
  }
 },
 "nbformat": 4,
 "nbformat_minor": 5
}
